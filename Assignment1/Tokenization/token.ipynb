{
 "cells": [
  {
   "cell_type": "code",
   "execution_count": 3,
   "metadata": {},
   "outputs": [],
   "source": [
    "# import data from txt file\n",
    "\n",
    "data1 = open('../DATA/Pride and Prejudice - Jane Austen.txt', 'r').read()\n",
    "data2 = open('../DATA/Ulysses - James Joyce.txt', 'r').read()"
   ]
  },
  {
   "cell_type": "code",
   "execution_count": 52,
   "metadata": {},
   "outputs": [],
   "source": [
    "# work tokenizer funciton\n",
    "import re\n",
    "import string\n",
    "import time\n",
    "\n",
    "punctu = ['.', ',', '!', '?', ';', ':', '(', ')', '[', ']', '{', '}', '/', '\\\\', '|', '-', '_', '=', '+', '*', '&', '^', '%', '$', '#', '@', '~', '`', '\\'', '\\\"']\n",
    "\n",
    "def wordTokenizer(str):\n",
    "    return str.split()\n",
    "\n",
    "def remove_punctuations(text):\n",
    "    for p in punctu:\n",
    "        \n",
    "        text = text.replace(p, '')\n",
    "    return text\n",
    "    \n",
    "def removeURL(text):\n",
    "    return re.sub(r'https?://\\S+|www\\.\\S+', \"<URL>\", text)\n",
    "\n",
    "def removeHashtag(text):\n",
    "    return re.sub(r'#[a-xA-Z]+', '<HASHTAG>', text)\n",
    "\n",
    "def removeMentions(text):\n",
    "    return re.sub(r'@\\S+', '<MENTION>', text)\n",
    "\n",
    "def removeEmail(text):\n",
    "    return re.sub(r'[a-zA-Z0-9_.+-]+@[a-zA-Z0-9-]+\\.[a-zA-Z0-9-.]+', '<EMAIL>', text)\n",
    "\n",
    "def removeNumber(text):\n",
    "    return re.sub(r'[0-9]+(,([0-9]+))*(\\.([0-9]+))?%?\\s', '<NUMBER>', text)\n",
    "\n",
    "\n",
    "def Token(str):\n",
    "    str = str.lower()\n",
    "    str = removeURL(str)\n",
    "    str = removeHashtag(str)\n",
    "    str = removeMentions(str)\n",
    "    str = removeEmail(str)\n",
    "    # str = removeNumber(str)\n",
    "    str = remove_punctuations(str)\n",
    "\n",
    "    return wordTokenizer(str)\n",
    "\n",
    "\n",
    "# can be done \n",
    "# case with name initials can be handled\n"
   ]
  },
  {
   "cell_type": "code",
   "execution_count": 53,
   "metadata": {},
   "outputs": [],
   "source": [
    "token1 = Token(data1)\n",
    "token2 = Token(data2)\n",
    "\n",
    "\n",
    "# write tokenized data to txt file\n",
    "with open('../DATA/Tokenized1.txt', 'w') as f:\n",
    "    for item in token1:\n",
    "        f.write(item+'\\n')\n",
    "\n",
    "\n",
    "with open('../DATA/Tokenized2.txt', 'w') as f:\n",
    "    for item in token2:\n",
    "        f.write(item+'\\n')\n",
    "    \n"
   ]
  }
 ],
 "metadata": {
  "kernelspec": {
   "display_name": "Python 3",
   "language": "python",
   "name": "python3"
  },
  "language_info": {
   "codemirror_mode": {
    "name": "ipython",
    "version": 3
   },
   "file_extension": ".py",
   "mimetype": "text/x-python",
   "name": "python",
   "nbconvert_exporter": "python",
   "pygments_lexer": "ipython3",
   "version": "3.8.10"
  },
  "orig_nbformat": 4,
  "vscode": {
   "interpreter": {
    "hash": "e7370f93d1d0cde622a1f8e1c04877d8463912d04d973331ad4851f04de6915a"
   }
  }
 },
 "nbformat": 4,
 "nbformat_minor": 2
}
