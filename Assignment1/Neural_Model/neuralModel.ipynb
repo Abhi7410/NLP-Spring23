{
 "cells": [
  {
   "cell_type": "code",
   "execution_count": 2,
   "metadata": {},
   "outputs": [
    {
     "data": {
      "text/plain": [
       "[PhysicalDevice(name='/physical_device:GPU:0', device_type='GPU')]"
      ]
     },
     "execution_count": 2,
     "metadata": {},
     "output_type": "execute_result"
    }
   ],
   "source": [
    "import tensorflow as tf\n",
    "tf.config.experimental.list_physical_devices(\"GPU\")"
   ]
  },
  {
   "cell_type": "code",
   "execution_count": 116,
   "metadata": {},
   "outputs": [
    {
     "name": "stdout",
     "output_type": "stream",
     "text": [
      "cuda\n"
     ]
    }
   ],
   "source": [
    "import torch\n",
    "import spacy\n",
    "import pandas as pd\n",
    "import numpy as np\n",
    "from collections import Counter\n",
    "from Token import Clean\n",
    "from Token import Tokenise,paddingString\n",
    "from nltk.util import ngrams\n",
    "from torch.utils.data import DataLoader\n",
    "import argparse\n",
    "\n",
    "filePath = '../DATA/Pride and Prejudice - Jane Austen.txt'\n",
    "device = torch.device('cuda' if torch.cuda.is_available() else 'cpu')\n",
    "print(device)\n",
    "class Dataset(torch.utils.data.Dataset):\n",
    "    def __init__(self, train_data, batch_size, min_freq=5):\n",
    "        self.data = train_data\n",
    "        self.max_len = 20\n",
    "        self.min_freq = min_freq\n",
    "        self.vocab = []\n",
    "        self.batch_size = batch_size\n",
    "        self.ngramList = []\n",
    "        sents = self.loadingWords()\n",
    "        self.wordToIndex = {w: i for i, w in enumerate(self.vocab)}\n",
    "        self.indexToWord = {i: w for i, w in enumerate(self.vocab)}\n",
    "        self.padIndex = self.wordToIndex['<PAD>']\n",
    "        self.unKnownIndex = self.wordToIndex['<UNK>']\n",
    "        self.startIndex = self.wordToIndex['<START>']\n",
    "        self.endIndex = self.wordToIndex['<END>']\n",
    "        for sent in sents:\n",
    "            tokens = sent\n",
    "            prefix_seqs = []\n",
    "            try:\n",
    "                pfx = [tokens[0]]\n",
    "                for token in tokens[1:]:\n",
    "                    pfx.append(token)\n",
    "                    prefix_seqs.append(pfx.copy())\n",
    "                for i in range(len(prefix_seqs)):\n",
    "                    currSeq = [self.wordToIndex.get(w,self.unKnownIndex) for w in prefix_seqs[i]]\n",
    "                    pref_sq = [self.startIndex]+[self.padIndex]*(self.max_len-len(currSeq)) + [w for w in currSeq[1:]]\n",
    "                    \n",
    "                    self.ngramList.append(list(pref_sq))\n",
    "            except IndexError:\n",
    "                continue\n",
    "\n",
    "                \n",
    "    def loadingWords(self):\n",
    "        text = [line for line in self.data if line.strip()]\n",
    "        sentences = []\n",
    "        wordFreq = {}\n",
    "        mx = 0\n",
    "        for line in text:\n",
    "            tokens = Tokenise(line)\n",
    "            tokens = ['<START>'] + tokens\n",
    "            sentences.append(tokens)\n",
    "            self.vocab += tokens\n",
    "            mx = max(mx, len(tokens))\n",
    "            for token in tokens:\n",
    "                if token in wordFreq:\n",
    "                    wordFreq[token] += 1\n",
    "                else:\n",
    "                    wordFreq[token] = 1\n",
    "\n",
    "        # wordCount = Counter(wordFreq)\n",
    "        wordCount = {}\n",
    "        self.vocab = list(filter(lambda w: wordFreq[w] >= self.min_freq, self.vocab))\n",
    "        self.vocab = ['<PAD>', '<UNK>','<END>'] + self.vocab\n",
    "        self.vocab = set(self.vocab)\n",
    "        self.vocabSize = len(self.vocab)\n",
    "        print(self.vocabSize)\n",
    "        self.max_len = max(mx,self.max_len)\n",
    "        # print(sentences)\n",
    "        return sentences\n",
    "\n"
   ]
  },
  {
   "cell_type": "code",
   "execution_count": 130,
   "metadata": {},
   "outputs": [],
   "source": [
    "import os\n",
    "os.environ['CUDA_LAUNCH_BLOCKING'] = '1'"
   ]
  },
  {
   "cell_type": "code",
   "execution_count": 117,
   "metadata": {},
   "outputs": [
    {
     "name": "stdout",
     "output_type": "stream",
     "text": [
      "1697\n",
      "516\n",
      "522\n"
     ]
    }
   ],
   "source": [
    "def splitData(corpus,train_ratio,valid_ratio,test_ratio):\n",
    "    with open(corpus, 'r') as f:\n",
    "        text = f.readlines()\n",
    "    text = [line.strip() for line in text if line.strip()]\n",
    "    train_size = int(len(text) * train_ratio)\n",
    "    valid_size = int(len(text) * valid_ratio)\n",
    "    test_size = int(len(text) * test_ratio)\n",
    "    train_data = text[:train_size]\n",
    "    valid_data = text[train_size:train_size + valid_size]\n",
    "    test_data = text[train_size + valid_size:]\n",
    "    return train_data, valid_data, test_data\n",
    "\n",
    "train_data, valid_data, test_data = splitData(filePath,0.7,0.15,0.15)\n",
    "BATCH_SIZE = 256\n",
    "TRAINSET = Dataset(train_data, BATCH_SIZE)\n",
    "VLAIDSET = Dataset(valid_data, BATCH_SIZE)\n",
    "TESTSET = Dataset(test_data, BATCH_SIZE)\n",
    "\n",
    "#TRAINSET.ngramList[500]"
   ]
  },
  {
   "cell_type": "code",
   "execution_count": 118,
   "metadata": {},
   "outputs": [],
   "source": [
    "def generateBatch(dataset):\n",
    "    input_ngram,trg = [],[]\n",
    "    for tg in dataset:\n",
    "        input_ngram.append(tg[:-1])\n",
    "        trg.append(tg[-1])\n",
    "    return torch.tensor(input_ngram,dtype=torch.long),torch.tensor(trg,dtype=torch.long)\n",
    "\n",
    "train_loader = DataLoader(TRAINSET.ngramList, batch_size=BATCH_SIZE, shuffle=True, collate_fn=generateBatch)\n",
    "valid_loader = DataLoader(VLAIDSET.ngramList, batch_size=BATCH_SIZE, shuffle=True, collate_fn=generateBatch)\n",
    "test_loader = DataLoader(TESTSET.ngramList, batch_size=BATCH_SIZE, shuffle=True, collate_fn=generateBatch)\n"
   ]
  },
  {
   "cell_type": "code",
   "execution_count": 81,
   "metadata": {},
   "outputs": [
    {
     "name": "stdout",
     "output_type": "stream",
     "text": [
      "<torch.utils.data.dataloader.DataLoader object at 0x7efbcab409d0>\n"
     ]
    }
   ],
   "source": [
    "print(valid_loader) "
   ]
  },
  {
   "cell_type": "code",
   "execution_count": 119,
   "metadata": {},
   "outputs": [
    {
     "name": "stdout",
     "output_type": "stream",
     "text": [
      "Using device cuda\n"
     ]
    }
   ],
   "source": [
    "import torch\n",
    "from torch import nn\n",
    "\n",
    "device = torch.device('cuda' if torch.cuda.is_available() else 'cpu')\n",
    "print(f\"Using device {device}\")\n",
    "\n",
    "class LSTMmodel(nn.Module):\n",
    "    def __init__(self, embedding_size, hidden_size, num_layers, vocabSize,dropout):\n",
    "        super(LSTMmodel, self).__init__()\n",
    "        self.vocab_size = vocabSize\n",
    "        self.embedding_size = embedding_size\n",
    "        self.hidden_size = hidden_size\n",
    "        self.num_layers = num_layers\n",
    "        self.dropout = dropout\n",
    "\n",
    "        self.embedding = nn.Embedding(\n",
    "            self.vocab_size, self.embedding_size, device=device)\n",
    "        self.lstm = nn.LSTM(input_size=self.embedding_size,\n",
    "                            hidden_size=self.hidden_size, batch_first=True, device=device)\n",
    "        self.dropLayer = nn.Dropout(p=self.dropout)\n",
    "        self.output = nn.Linear(\n",
    "            self.hidden_size, self.vocab_size, bias=False, device=device)\n",
    "        self.log_softmax = nn.LogSoftmax(dim=1)\n",
    "\n",
    "    def forward(self, xContext):\n",
    "        xembed = self.dropLayer(self.embedding(xContext))\n",
    "        out, hidden = self.lstm(xembed)\n",
    "        out = self.log_softmax(self.output(out[:,-1]))\n",
    "        return out, hidden\n",
    "\n"
   ]
  },
  {
   "cell_type": "code",
   "execution_count": 120,
   "metadata": {},
   "outputs": [
    {
     "name": "stdout",
     "output_type": "stream",
     "text": [
      "Using device cuda\n"
     ]
    }
   ],
   "source": [
    "import torch\n",
    "import math\n",
    "import torch.nn as nn\n",
    "import torch.nn.functional as F\n",
    "from tqdm import tqdm\n",
    "# from dataset import Dataset\n",
    "from torch.utils.data import DataLoader\n",
    "# from Model import LSTMmodel\n",
    "import sys\n",
    "# from Token import Clean\n",
    "# from Token import Tokenise\n",
    "\n",
    "device = torch.device('cuda' if torch.cuda.is_available() else 'cpu')\n",
    "print(f\"Using device {device}\")\n",
    "\n",
    "\n",
    "class Evaluation:\n",
    "    def __init__(self, model:nn.Module,epochs,datasetTrain:torch.utils.data.DataLoader,datasetValid:torch.utils.data.DataLoader,datasetTest:torch.utils.data.DataLoader):\n",
    "        self.model = model\n",
    "        self.datasetTrain = datasetTrain\n",
    "        self.datasetValid = datasetValid\n",
    "        self.datasetTest = datasetTest\n",
    "        self.criterion = nn.CrossEntropyLoss()\n",
    "        self.epochs = epochs\n",
    "        self.clip = 1\n",
    "        self.patience = 10\n",
    "        self.learning_rate = 0.005\n",
    "        self.optimizer = torch.optim.Adam(\n",
    "            self.model.parameters(), lr=self.learning_rate,amsgrad = True)\n",
    "        self.scheduler = torch.optim.lr_scheduler.StepLR(\n",
    "            self.optimizer, step_size=6, gamma=0.1,last_epoch=-1,verbose=False)\n",
    "\n",
    "    def train(self):\n",
    "        maxValidLoss = math.inf\n",
    "        ctr = 0\n",
    "        def trainModel():\n",
    "            epochAcc = 0\n",
    "            epochLoss = 0\n",
    "            self.model.train()\n",
    "            # hidden = self.model.init_hidden(24)\n",
    "            for i, (x, y) in enumerate(tqdm(self.datasetTrain)):\n",
    "                x = x.to(device)\n",
    "                y = y.to(device)\n",
    "                self.optimizer.zero_grad()\n",
    "                outputs, hidden = self.model(x)\n",
    "                y = y.view(-1)\n",
    "                loss = self.criterion(outputs, y)\n",
    "                loss.backward()\n",
    "\n",
    "                epochAcc += 100*(outputs.argmax(dim=1)==y).sum().item()/y.shape[0]\n",
    "                torch.nn.utils.clip_grad_norm_(self.model.parameters(), self.clip)\n",
    "                epochLoss += loss.item()\n",
    "                self.optimizer.step()\n",
    "                if i % 100 == 0:\n",
    "                    print(\n",
    "                        f\"Epoch: {epoch}, Iteration: {i}, Loss: {loss.item()}\")\n",
    "                    \n",
    "            print(f\"Epoch: {epoch}, Loss: {epochLoss/len(self.datasetTrain)}, Accuracy: {epochAcc/len(self.datasetTrain)}\")\n",
    "        \n",
    "        def validate():\n",
    "            self.model.eval()\n",
    "            epochAcc = 0\n",
    "            epochLoss = 0\n",
    "            with torch.no_grad():\n",
    "                for i, (x, y) in enumerate(tqdm(self.datasetValid)):\n",
    "                    x = x.to(device)\n",
    "                    y = y.to(device)\n",
    "                    outputs, hidden = self.model(x)\n",
    "                    y = y.view(-1)\n",
    "                    loss = self.criterion(outputs, y)\n",
    "                    epochAcc += 100*(outputs.argmax(dim=1)==y).float().mean()\n",
    "                    epochLoss += loss.item()\n",
    "\n",
    "            print(f\"Validation Loss: {epochLoss/len(self.datasetValid)}, Validation Accuracy: {epochAcc/len(self.datasetValid)}\")\n",
    "            return epochLoss/len(self.datasetValid)\n",
    "\n",
    "        for epoch in range(self.epochs):\n",
    "            trainModel()\n",
    "            valid_loss = validate()\n",
    "\n",
    "            #valid_loss = self.validate()\n",
    "            self.scheduler.step()\n",
    "            if valid_loss < maxValidLoss:\n",
    "                maxValidLoss = valid_loss\n",
    "                torch.save(self.model.state_dict(), 'model1.pt')\n",
    "                print(\"Model saved\")\n",
    "                ctr = 0\n",
    "            else:\n",
    "                ctr += 1\n",
    "                print(f\"Validation loss not improved for {ctr} epochs\")\n",
    "            if ctr > self.patience:\n",
    "                print(\"Early stopping\")\n",
    "                break\n",
    "\n",
    "    \n",
    "    \n",
    "    def test(self):\n",
    "        self.model.eval()\n",
    "        epochAcc = 0\n",
    "        epochLoss = 0\n",
    "        with torch.no_grad():\n",
    "            for i, (x, y) in enumerate(tqdm(self.datasetTest)):\n",
    "                x = x.to(device)\n",
    "                y = y.to(device)\n",
    "                outputs, hidden = self.model(x)\n",
    "                y = y.view(-1)\n",
    "                loss = self.criterion(outputs, y)\n",
    "                epochAcc += 100*(outputs.argmax(dim=1)==y).sum().item()/y.shape[0]\n",
    "                epochLoss += loss.item()\n",
    "\n",
    "        print(f\"Test Loss: {epochLoss/len(self.datasetTest)}, Test Accuracy: {epochAcc/len(self.datasetTest)}\")\n",
    "        return epochLoss/len(self.datasetTest)\n",
    "\n",
    "\n",
    "\n"
   ]
  },
  {
   "cell_type": "code",
   "execution_count": 121,
   "metadata": {},
   "outputs": [],
   "source": [
    "VOCAB_SIZE = TRAINSET.vocabSize\n",
    "EMBEDDING_DIM = 512\n",
    "HIDDEN_DIM = 256\n",
    "NUM_LAYERS = 2\n",
    "DROP_OUT = 0.5\n",
    "\n",
    "\n",
    "lngMOD = LSTMmodel(EMBEDDING_DIM,HIDDEN_DIM,NUM_LAYERS, VOCAB_SIZE, DROP_OUT)\n",
    "eval = Evaluation(lngMOD,20,train_loader,valid_loader,test_loader)\n"
   ]
  },
  {
   "cell_type": "code",
   "execution_count": 122,
   "metadata": {},
   "outputs": [
    {
     "name": "stderr",
     "output_type": "stream",
     "text": [
      "  1%|▍                                          | 3/342 [00:00<00:15, 22.07it/s]"
     ]
    },
    {
     "name": "stdout",
     "output_type": "stream",
     "text": [
      "Epoch: 0, Iteration: 0, Loss: 7.445207118988037\n"
     ]
    },
    {
     "name": "stderr",
     "output_type": "stream",
     "text": [
      " 31%|████████████▌                            | 105/342 [00:04<00:09, 24.50it/s]"
     ]
    },
    {
     "name": "stdout",
     "output_type": "stream",
     "text": [
      "Epoch: 0, Iteration: 100, Loss: 5.192803859710693\n"
     ]
    },
    {
     "name": "stderr",
     "output_type": "stream",
     "text": [
      " 60%|████████████████████████▍                | 204/342 [00:08<00:05, 24.64it/s]"
     ]
    },
    {
     "name": "stdout",
     "output_type": "stream",
     "text": [
      "Epoch: 0, Iteration: 200, Loss: 5.3461527824401855\n"
     ]
    },
    {
     "name": "stderr",
     "output_type": "stream",
     "text": [
      " 89%|████████████████████████████████████▋    | 306/342 [00:12<00:01, 24.66it/s]"
     ]
    },
    {
     "name": "stdout",
     "output_type": "stream",
     "text": [
      "Epoch: 0, Iteration: 300, Loss: 4.864221096038818\n"
     ]
    },
    {
     "name": "stderr",
     "output_type": "stream",
     "text": [
      "100%|█████████████████████████████████████████| 342/342 [00:13<00:00, 24.65it/s]\n"
     ]
    },
    {
     "name": "stdout",
     "output_type": "stream",
     "text": [
      "Epoch: 0, Loss: 5.173751306812665, Accuracy: 12.925628218314962\n"
     ]
    },
    {
     "name": "stderr",
     "output_type": "stream",
     "text": [
      "100%|███████████████████████████████████████████| 75/75 [00:00<00:00, 83.60it/s]\n"
     ]
    },
    {
     "name": "stdout",
     "output_type": "stream",
     "text": [
      "Validation Loss: 9.67641342163086, Validation Accuracy: 0.010416666977107525\n",
      "Model saved\n"
     ]
    },
    {
     "name": "stderr",
     "output_type": "stream",
     "text": [
      "  1%|▍                                          | 3/342 [00:00<00:14, 23.66it/s]"
     ]
    },
    {
     "name": "stdout",
     "output_type": "stream",
     "text": [
      "Epoch: 1, Iteration: 0, Loss: 4.659819602966309\n"
     ]
    },
    {
     "name": "stderr",
     "output_type": "stream",
     "text": [
      " 31%|████████████▌                            | 105/342 [00:04<00:09, 24.02it/s]"
     ]
    },
    {
     "name": "stdout",
     "output_type": "stream",
     "text": [
      "Epoch: 1, Iteration: 100, Loss: 4.820914268493652\n"
     ]
    },
    {
     "name": "stderr",
     "output_type": "stream",
     "text": [
      " 60%|████████████████████████▍                | 204/342 [00:08<00:05, 23.64it/s]"
     ]
    },
    {
     "name": "stdout",
     "output_type": "stream",
     "text": [
      "Epoch: 1, Iteration: 200, Loss: 4.682744026184082\n"
     ]
    },
    {
     "name": "stderr",
     "output_type": "stream",
     "text": [
      " 89%|████████████████████████████████████▎    | 303/342 [00:12<00:01, 23.23it/s]"
     ]
    },
    {
     "name": "stdout",
     "output_type": "stream",
     "text": [
      "Epoch: 1, Iteration: 300, Loss: 4.804134845733643\n"
     ]
    },
    {
     "name": "stderr",
     "output_type": "stream",
     "text": [
      "100%|█████████████████████████████████████████| 342/342 [00:14<00:00, 23.81it/s]\n"
     ]
    },
    {
     "name": "stdout",
     "output_type": "stream",
     "text": [
      "Epoch: 1, Loss: 4.68869405880309, Accuracy: 15.346278156212804\n"
     ]
    },
    {
     "name": "stderr",
     "output_type": "stream",
     "text": [
      "100%|███████████████████████████████████████████| 75/75 [00:00<00:00, 76.22it/s]\n"
     ]
    },
    {
     "name": "stdout",
     "output_type": "stream",
     "text": [
      "Validation Loss: 10.428387247721354, Validation Accuracy: 0.0052083334885537624\n",
      "Validation loss not improved for 1 epochs\n"
     ]
    },
    {
     "name": "stderr",
     "output_type": "stream",
     "text": [
      "  1%|▍                                          | 3/342 [00:00<00:14, 22.95it/s]"
     ]
    },
    {
     "name": "stdout",
     "output_type": "stream",
     "text": [
      "Epoch: 2, Iteration: 0, Loss: 4.440420627593994\n"
     ]
    },
    {
     "name": "stderr",
     "output_type": "stream",
     "text": [
      " 31%|████████████▌                            | 105/342 [00:04<00:10, 22.86it/s]"
     ]
    },
    {
     "name": "stdout",
     "output_type": "stream",
     "text": [
      "Epoch: 2, Iteration: 100, Loss: 4.528829574584961\n"
     ]
    },
    {
     "name": "stderr",
     "output_type": "stream",
     "text": [
      " 60%|████████████████████████▍                | 204/342 [00:08<00:06, 22.70it/s]"
     ]
    },
    {
     "name": "stdout",
     "output_type": "stream",
     "text": [
      "Epoch: 2, Iteration: 200, Loss: 4.544564723968506\n"
     ]
    },
    {
     "name": "stderr",
     "output_type": "stream",
     "text": [
      " 89%|████████████████████████████████████▎    | 303/342 [00:13<00:01, 22.61it/s]"
     ]
    },
    {
     "name": "stdout",
     "output_type": "stream",
     "text": [
      "Epoch: 2, Iteration: 300, Loss: 4.6070733070373535\n"
     ]
    },
    {
     "name": "stderr",
     "output_type": "stream",
     "text": [
      "100%|█████████████████████████████████████████| 342/342 [00:15<00:00, 22.72it/s]\n"
     ]
    },
    {
     "name": "stdout",
     "output_type": "stream",
     "text": [
      "Epoch: 2, Loss: 4.5136420043588386, Accuracy: 16.133097539201987\n"
     ]
    },
    {
     "name": "stderr",
     "output_type": "stream",
     "text": [
      "100%|███████████████████████████████████████████| 75/75 [00:01<00:00, 73.95it/s]\n"
     ]
    },
    {
     "name": "stdout",
     "output_type": "stream",
     "text": [
      "Validation Loss: 10.850994567871094, Validation Accuracy: 0.0052083334885537624\n",
      "Validation loss not improved for 2 epochs\n"
     ]
    },
    {
     "name": "stderr",
     "output_type": "stream",
     "text": [
      "  1%|▍                                          | 3/342 [00:00<00:15, 22.42it/s]"
     ]
    },
    {
     "name": "stdout",
     "output_type": "stream",
     "text": [
      "Epoch: 3, Iteration: 0, Loss: 4.190368175506592\n"
     ]
    },
    {
     "name": "stderr",
     "output_type": "stream",
     "text": [
      " 31%|████████████▌                            | 105/342 [00:04<00:10, 22.13it/s]"
     ]
    },
    {
     "name": "stdout",
     "output_type": "stream",
     "text": [
      "Epoch: 3, Iteration: 100, Loss: 4.448470115661621\n"
     ]
    },
    {
     "name": "stderr",
     "output_type": "stream",
     "text": [
      " 60%|████████████████████████▍                | 204/342 [00:09<00:06, 21.58it/s]"
     ]
    },
    {
     "name": "stdout",
     "output_type": "stream",
     "text": [
      "Epoch: 3, Iteration: 200, Loss: 4.313256740570068\n"
     ]
    },
    {
     "name": "stderr",
     "output_type": "stream",
     "text": [
      " 89%|████████████████████████████████████▎    | 303/342 [00:13<00:01, 22.17it/s]"
     ]
    },
    {
     "name": "stdout",
     "output_type": "stream",
     "text": [
      "Epoch: 3, Iteration: 300, Loss: 4.448286533355713\n"
     ]
    },
    {
     "name": "stderr",
     "output_type": "stream",
     "text": [
      "100%|█████████████████████████████████████████| 342/342 [00:15<00:00, 22.17it/s]\n"
     ]
    },
    {
     "name": "stdout",
     "output_type": "stream",
     "text": [
      "Epoch: 3, Loss: 4.39848185979832, Accuracy: 16.757020050587382\n"
     ]
    },
    {
     "name": "stderr",
     "output_type": "stream",
     "text": [
      "100%|███████████████████████████████████████████| 75/75 [00:01<00:00, 71.91it/s]\n"
     ]
    },
    {
     "name": "stdout",
     "output_type": "stream",
     "text": [
      "Validation Loss: 11.478456598917644, Validation Accuracy: 0.0052083334885537624\n",
      "Validation loss not improved for 3 epochs\n"
     ]
    },
    {
     "name": "stderr",
     "output_type": "stream",
     "text": [
      "  1%|▍                                          | 3/342 [00:00<00:15, 21.78it/s]"
     ]
    },
    {
     "name": "stdout",
     "output_type": "stream",
     "text": [
      "Epoch: 4, Iteration: 0, Loss: 4.134676933288574\n"
     ]
    },
    {
     "name": "stderr",
     "output_type": "stream",
     "text": [
      " 31%|████████████▌                            | 105/342 [00:04<00:10, 22.00it/s]"
     ]
    },
    {
     "name": "stdout",
     "output_type": "stream",
     "text": [
      "Epoch: 4, Iteration: 100, Loss: 4.323306560516357\n"
     ]
    },
    {
     "name": "stderr",
     "output_type": "stream",
     "text": [
      " 60%|████████████████████████▍                | 204/342 [00:09<00:06, 21.83it/s]"
     ]
    },
    {
     "name": "stdout",
     "output_type": "stream",
     "text": [
      "Epoch: 4, Iteration: 200, Loss: 4.429746150970459\n"
     ]
    },
    {
     "name": "stderr",
     "output_type": "stream",
     "text": [
      " 89%|████████████████████████████████████▎    | 303/342 [00:13<00:01, 21.52it/s]"
     ]
    },
    {
     "name": "stdout",
     "output_type": "stream",
     "text": [
      "Epoch: 4, Iteration: 300, Loss: 4.326157093048096\n"
     ]
    },
    {
     "name": "stderr",
     "output_type": "stream",
     "text": [
      "100%|█████████████████████████████████████████| 342/342 [00:15<00:00, 21.50it/s]\n"
     ]
    },
    {
     "name": "stdout",
     "output_type": "stream",
     "text": [
      "Epoch: 4, Loss: 4.297818169259188, Accuracy: 17.000688137194018\n"
     ]
    },
    {
     "name": "stderr",
     "output_type": "stream",
     "text": [
      "100%|███████████████████████████████████████████| 75/75 [00:01<00:00, 63.61it/s]\n"
     ]
    },
    {
     "name": "stdout",
     "output_type": "stream",
     "text": [
      "Validation Loss: 11.522048174540203, Validation Accuracy: 0.015625\n",
      "Validation loss not improved for 4 epochs\n"
     ]
    },
    {
     "name": "stderr",
     "output_type": "stream",
     "text": [
      "  1%|▎                                          | 2/342 [00:00<00:20, 16.61it/s]"
     ]
    },
    {
     "name": "stdout",
     "output_type": "stream",
     "text": [
      "Epoch: 5, Iteration: 0, Loss: 4.149287223815918\n"
     ]
    },
    {
     "name": "stderr",
     "output_type": "stream",
     "text": [
      " 30%|████████████▎                            | 103/342 [00:05<00:12, 19.32it/s]"
     ]
    },
    {
     "name": "stdout",
     "output_type": "stream",
     "text": [
      "Epoch: 5, Iteration: 100, Loss: 4.198856353759766\n"
     ]
    },
    {
     "name": "stderr",
     "output_type": "stream",
     "text": [
      " 59%|████████████████████████▎                | 203/342 [00:10<00:07, 18.99it/s]"
     ]
    },
    {
     "name": "stdout",
     "output_type": "stream",
     "text": [
      "Epoch: 5, Iteration: 200, Loss: 4.370410919189453\n"
     ]
    },
    {
     "name": "stderr",
     "output_type": "stream",
     "text": [
      " 89%|████████████████████████████████████▎    | 303/342 [00:16<00:02, 19.26it/s]"
     ]
    },
    {
     "name": "stdout",
     "output_type": "stream",
     "text": [
      "Epoch: 5, Iteration: 300, Loss: 4.233919143676758\n"
     ]
    },
    {
     "name": "stderr",
     "output_type": "stream",
     "text": [
      "100%|█████████████████████████████████████████| 342/342 [00:18<00:00, 18.71it/s]\n"
     ]
    },
    {
     "name": "stdout",
     "output_type": "stream",
     "text": [
      "Epoch: 5, Loss: 4.2291547568917975, Accuracy: 17.418806280080734\n"
     ]
    },
    {
     "name": "stderr",
     "output_type": "stream",
     "text": [
      "100%|███████████████████████████████████████████| 75/75 [00:01<00:00, 58.89it/s]\n"
     ]
    },
    {
     "name": "stdout",
     "output_type": "stream",
     "text": [
      "Validation Loss: 11.771859537760417, Validation Accuracy: 0.015625\n",
      "Validation loss not improved for 5 epochs\n"
     ]
    },
    {
     "name": "stderr",
     "output_type": "stream",
     "text": [
      "  1%|▎                                          | 2/342 [00:00<00:20, 16.74it/s]"
     ]
    },
    {
     "name": "stdout",
     "output_type": "stream",
     "text": [
      "Epoch: 6, Iteration: 0, Loss: 3.8611955642700195\n"
     ]
    },
    {
     "name": "stderr",
     "output_type": "stream",
     "text": [
      " 30%|████████████▎                            | 103/342 [00:05<00:12, 18.86it/s]"
     ]
    },
    {
     "name": "stdout",
     "output_type": "stream",
     "text": [
      "Epoch: 6, Iteration: 100, Loss: 4.006894111633301\n"
     ]
    },
    {
     "name": "stderr",
     "output_type": "stream",
     "text": [
      " 59%|████████████████████████▎                | 203/342 [00:11<00:07, 18.84it/s]"
     ]
    },
    {
     "name": "stdout",
     "output_type": "stream",
     "text": [
      "Epoch: 6, Iteration: 200, Loss: 4.021483898162842\n"
     ]
    },
    {
     "name": "stderr",
     "output_type": "stream",
     "text": [
      " 89%|████████████████████████████████████▎    | 303/342 [00:16<00:02, 19.14it/s]"
     ]
    },
    {
     "name": "stdout",
     "output_type": "stream",
     "text": [
      "Epoch: 6, Iteration: 300, Loss: 4.080804824829102\n"
     ]
    },
    {
     "name": "stderr",
     "output_type": "stream",
     "text": [
      "100%|█████████████████████████████████████████| 342/342 [00:18<00:00, 18.06it/s]\n"
     ]
    },
    {
     "name": "stdout",
     "output_type": "stream",
     "text": [
      "Epoch: 6, Loss: 4.013866158256754, Accuracy: 18.714794626222634\n"
     ]
    },
    {
     "name": "stderr",
     "output_type": "stream",
     "text": [
      "100%|███████████████████████████████████████████| 75/75 [00:01<00:00, 60.31it/s]\n"
     ]
    },
    {
     "name": "stdout",
     "output_type": "stream",
     "text": [
      "Validation Loss: 11.879722162882487, Validation Accuracy: 0.015625\n",
      "Validation loss not improved for 6 epochs\n"
     ]
    },
    {
     "name": "stderr",
     "output_type": "stream",
     "text": [
      "  1%|▎                                          | 2/342 [00:00<00:18, 18.39it/s]"
     ]
    },
    {
     "name": "stdout",
     "output_type": "stream",
     "text": [
      "Epoch: 7, Iteration: 0, Loss: 3.9744203090667725\n"
     ]
    },
    {
     "name": "stderr",
     "output_type": "stream",
     "text": [
      " 30%|████████████▍                            | 104/342 [00:05<00:12, 18.38it/s]"
     ]
    },
    {
     "name": "stdout",
     "output_type": "stream",
     "text": [
      "Epoch: 7, Iteration: 100, Loss: 4.110064506530762\n"
     ]
    },
    {
     "name": "stderr",
     "output_type": "stream",
     "text": [
      " 60%|████████████████████████▍                | 204/342 [00:11<00:07, 18.42it/s]"
     ]
    },
    {
     "name": "stdout",
     "output_type": "stream",
     "text": [
      "Epoch: 7, Iteration: 200, Loss: 3.9358701705932617\n"
     ]
    },
    {
     "name": "stderr",
     "output_type": "stream",
     "text": [
      " 89%|████████████████████████████████████▍    | 304/342 [00:16<00:02, 18.50it/s]"
     ]
    },
    {
     "name": "stdout",
     "output_type": "stream",
     "text": [
      "Epoch: 7, Iteration: 300, Loss: 3.841094970703125\n"
     ]
    },
    {
     "name": "stderr",
     "output_type": "stream",
     "text": [
      "100%|█████████████████████████████████████████| 342/342 [00:18<00:00, 18.28it/s]\n"
     ]
    },
    {
     "name": "stdout",
     "output_type": "stream",
     "text": [
      "Epoch: 7, Loss: 3.968020526289243, Accuracy: 19.098404831677275\n"
     ]
    },
    {
     "name": "stderr",
     "output_type": "stream",
     "text": [
      "100%|███████████████████████████████████████████| 75/75 [00:01<00:00, 57.19it/s]\n"
     ]
    },
    {
     "name": "stdout",
     "output_type": "stream",
     "text": [
      "Validation Loss: 11.950617688496907, Validation Accuracy: 0.015625\n",
      "Validation loss not improved for 7 epochs\n"
     ]
    },
    {
     "name": "stderr",
     "output_type": "stream",
     "text": [
      "  1%|▎                                          | 2/342 [00:00<00:19, 17.39it/s]"
     ]
    },
    {
     "name": "stdout",
     "output_type": "stream",
     "text": [
      "Epoch: 8, Iteration: 0, Loss: 3.9498209953308105\n"
     ]
    },
    {
     "name": "stderr",
     "output_type": "stream",
     "text": [
      " 30%|████████████▍                            | 104/342 [00:05<00:12, 18.51it/s]"
     ]
    },
    {
     "name": "stdout",
     "output_type": "stream",
     "text": [
      "Epoch: 8, Iteration: 100, Loss: 3.788978099822998\n"
     ]
    },
    {
     "name": "stderr",
     "output_type": "stream",
     "text": [
      " 60%|████████████████████████▍                | 204/342 [00:11<00:07, 18.41it/s]"
     ]
    },
    {
     "name": "stdout",
     "output_type": "stream",
     "text": [
      "Epoch: 8, Iteration: 200, Loss: 4.0999531745910645\n"
     ]
    },
    {
     "name": "stderr",
     "output_type": "stream",
     "text": [
      " 89%|████████████████████████████████████▍    | 304/342 [00:16<00:02, 17.62it/s]"
     ]
    },
    {
     "name": "stdout",
     "output_type": "stream",
     "text": [
      "Epoch: 8, Iteration: 300, Loss: 4.120283126831055\n"
     ]
    },
    {
     "name": "stderr",
     "output_type": "stream",
     "text": [
      "100%|█████████████████████████████████████████| 342/342 [00:19<00:00, 17.92it/s]\n"
     ]
    },
    {
     "name": "stdout",
     "output_type": "stream",
     "text": [
      "Epoch: 8, Loss: 3.941975834773995, Accuracy: 19.469016440899445\n"
     ]
    },
    {
     "name": "stderr",
     "output_type": "stream",
     "text": [
      "100%|███████████████████████████████████████████| 75/75 [00:01<00:00, 55.43it/s]\n"
     ]
    },
    {
     "name": "stdout",
     "output_type": "stream",
     "text": [
      "Validation Loss: 12.031474011739094, Validation Accuracy: 0.02083333395421505\n",
      "Validation loss not improved for 8 epochs\n"
     ]
    },
    {
     "name": "stderr",
     "output_type": "stream",
     "text": [
      "  1%|▎                                          | 2/342 [00:00<00:19, 17.56it/s]"
     ]
    },
    {
     "name": "stdout",
     "output_type": "stream",
     "text": [
      "Epoch: 9, Iteration: 0, Loss: 3.876734733581543\n"
     ]
    },
    {
     "name": "stderr",
     "output_type": "stream",
     "text": [
      " 30%|████████████▍                            | 104/342 [00:05<00:13, 17.83it/s]"
     ]
    },
    {
     "name": "stdout",
     "output_type": "stream",
     "text": [
      "Epoch: 9, Iteration: 100, Loss: 3.886780261993408\n"
     ]
    },
    {
     "name": "stderr",
     "output_type": "stream",
     "text": [
      " 60%|████████████████████████▍                | 204/342 [00:11<00:08, 16.44it/s]"
     ]
    },
    {
     "name": "stdout",
     "output_type": "stream",
     "text": [
      "Epoch: 9, Iteration: 200, Loss: 3.740150213241577\n"
     ]
    },
    {
     "name": "stderr",
     "output_type": "stream",
     "text": [
      " 89%|████████████████████████████████████▍    | 304/342 [00:17<00:02, 16.65it/s]"
     ]
    },
    {
     "name": "stdout",
     "output_type": "stream",
     "text": [
      "Epoch: 9, Iteration: 300, Loss: 3.907977819442749\n"
     ]
    },
    {
     "name": "stderr",
     "output_type": "stream",
     "text": [
      "100%|█████████████████████████████████████████| 342/342 [00:20<00:00, 16.96it/s]\n"
     ]
    },
    {
     "name": "stdout",
     "output_type": "stream",
     "text": [
      "Epoch: 9, Loss: 3.9210219683005794, Accuracy: 19.506698219091238\n"
     ]
    },
    {
     "name": "stderr",
     "output_type": "stream",
     "text": [
      "100%|███████████████████████████████████████████| 75/75 [00:01<00:00, 51.75it/s]\n"
     ]
    },
    {
     "name": "stdout",
     "output_type": "stream",
     "text": [
      "Validation Loss: 12.087802429199218, Validation Accuracy: 0.02083333395421505\n",
      "Validation loss not improved for 9 epochs\n"
     ]
    },
    {
     "name": "stderr",
     "output_type": "stream",
     "text": [
      "  1%|▎                                          | 2/342 [00:00<00:20, 16.91it/s]"
     ]
    },
    {
     "name": "stdout",
     "output_type": "stream",
     "text": [
      "Epoch: 10, Iteration: 0, Loss: 3.7973880767822266\n"
     ]
    },
    {
     "name": "stderr",
     "output_type": "stream",
     "text": [
      " 30%|████████████▍                            | 104/342 [00:06<00:14, 16.84it/s]"
     ]
    },
    {
     "name": "stdout",
     "output_type": "stream",
     "text": [
      "Epoch: 10, Iteration: 100, Loss: 3.8286118507385254\n"
     ]
    },
    {
     "name": "stderr",
     "output_type": "stream",
     "text": [
      " 60%|████████████████████████▍                | 204/342 [00:12<00:08, 17.10it/s]"
     ]
    },
    {
     "name": "stdout",
     "output_type": "stream",
     "text": [
      "Epoch: 10, Iteration: 200, Loss: 3.8157031536102295\n"
     ]
    },
    {
     "name": "stderr",
     "output_type": "stream",
     "text": [
      " 89%|████████████████████████████████████▍    | 304/342 [00:18<00:02, 17.13it/s]"
     ]
    },
    {
     "name": "stdout",
     "output_type": "stream",
     "text": [
      "Epoch: 10, Iteration: 300, Loss: 3.846782684326172\n"
     ]
    },
    {
     "name": "stderr",
     "output_type": "stream",
     "text": [
      "100%|█████████████████████████████████████████| 342/342 [00:20<00:00, 16.45it/s]\n"
     ]
    },
    {
     "name": "stdout",
     "output_type": "stream",
     "text": [
      "Epoch: 10, Loss: 3.901076406066181, Accuracy: 19.55384087292346\n"
     ]
    },
    {
     "name": "stderr",
     "output_type": "stream",
     "text": [
      "100%|███████████████████████████████████████████| 75/75 [00:01<00:00, 53.65it/s]\n"
     ]
    },
    {
     "name": "stdout",
     "output_type": "stream",
     "text": [
      "Validation Loss: 12.125290807088216, Validation Accuracy: 0.03125\n",
      "Validation loss not improved for 10 epochs\n"
     ]
    },
    {
     "name": "stderr",
     "output_type": "stream",
     "text": [
      "  1%|▎                                          | 2/342 [00:00<00:18, 18.21it/s]"
     ]
    },
    {
     "name": "stdout",
     "output_type": "stream",
     "text": [
      "Epoch: 11, Iteration: 0, Loss: 3.6682705879211426\n"
     ]
    },
    {
     "name": "stderr",
     "output_type": "stream",
     "text": [
      " 30%|████████████▍                            | 104/342 [00:06<00:13, 17.18it/s]"
     ]
    },
    {
     "name": "stdout",
     "output_type": "stream",
     "text": [
      "Epoch: 11, Iteration: 100, Loss: 3.7639076709747314\n"
     ]
    },
    {
     "name": "stderr",
     "output_type": "stream",
     "text": [
      " 60%|████████████████████████▍                | 204/342 [00:11<00:08, 17.13it/s]"
     ]
    },
    {
     "name": "stdout",
     "output_type": "stream",
     "text": [
      "Epoch: 11, Iteration: 200, Loss: 3.7933802604675293\n"
     ]
    },
    {
     "name": "stderr",
     "output_type": "stream",
     "text": [
      " 89%|████████████████████████████████████▍    | 304/342 [00:17<00:02, 17.16it/s]"
     ]
    },
    {
     "name": "stdout",
     "output_type": "stream",
     "text": [
      "Epoch: 11, Iteration: 300, Loss: 3.774815797805786\n"
     ]
    },
    {
     "name": "stderr",
     "output_type": "stream",
     "text": [
      "100%|█████████████████████████████████████████| 342/342 [00:19<00:00, 17.13it/s]\n"
     ]
    },
    {
     "name": "stdout",
     "output_type": "stream",
     "text": [
      "Epoch: 11, Loss: 3.885681061716805, Accuracy: 19.6758113711639\n"
     ]
    },
    {
     "name": "stderr",
     "output_type": "stream",
     "text": [
      "100%|███████████████████████████████████████████| 75/75 [00:01<00:00, 53.76it/s]"
     ]
    },
    {
     "name": "stdout",
     "output_type": "stream",
     "text": [
      "Validation Loss: 12.231569582621256, Validation Accuracy: 0.0260416679084301\n",
      "Validation loss not improved for 11 epochs\n",
      "Early stopping\n"
     ]
    },
    {
     "name": "stderr",
     "output_type": "stream",
     "text": [
      "\n"
     ]
    }
   ],
   "source": [
    "eval.train()"
   ]
  },
  {
   "cell_type": "code",
   "execution_count": 123,
   "metadata": {},
   "outputs": [
    {
     "name": "stderr",
     "output_type": "stream",
     "text": [
      "100%|███████████████████████████████████████████| 72/72 [00:00<00:00, 81.70it/s]"
     ]
    },
    {
     "name": "stdout",
     "output_type": "stream",
     "text": [
      "Test Loss: 13.974626845783657, Test Accuracy: 0.005425347222222222\n"
     ]
    },
    {
     "name": "stderr",
     "output_type": "stream",
     "text": [
      "\n"
     ]
    },
    {
     "data": {
      "text/plain": [
       "13.974626845783657"
      ]
     },
     "execution_count": 123,
     "metadata": {},
     "output_type": "execute_result"
    }
   ],
   "source": [
    "eval.test()"
   ]
  },
  {
   "cell_type": "code",
   "execution_count": 124,
   "metadata": {},
   "outputs": [],
   "source": [
    "globalVocab = TRAINSET.vocab\n",
    "globalWordToIndex = TRAINSET.wordToIndex\n",
    "PAD_INDEX = TRAINSET.padIndex\n",
    "START_INDEX = TRAINSET.startIndex\n",
    "UNK_INDEX = TRAINSET.unKnownIndex\n",
    "MAX_LEN = TRAINSET.max_len\n",
    "\n",
    "def getProbPerplexity(model,dataset):\n",
    "    model.eval()\n",
    "    perplexity_list = []\n",
    "    with torch.no_grad():\n",
    "        for line in dataset.data:\n",
    "            perplexity = perpForSentence(model,line)\n",
    "            #print(perplexity)\n",
    "            if perplexity != -1:\n",
    "                perplexity_list.append({'line':line,'perplexity':perplexity})\n",
    "            \n",
    "    # averagePerplexty\n",
    "    avgPerplexity = sum([line['perplexity'] for line in perplexity_list])/len(perplexity_list)\n",
    "    return perplexity_list,avgPerplexity\n",
    "\n",
    "def writeToFile(filePath,perplexity_list,avg):\n",
    "    with open(filePath,'w') as f:\n",
    "        f.write(f\"Average Perplexity: {avg}\\n\")\n",
    "        for line in perplexity_list:\n",
    "            f.write(f\"{line['line']}\\t {line['perplexity']}\\n\")\n",
    "            \n",
    "            \n",
    "def perpForSentence(model,sentence):\n",
    "    model.eval()\n",
    "    with torch.no_grad():\n",
    "        prob_gram = 1\n",
    "        tokens = Tokenise(sentence)\n",
    "        tokens = ['<START>'] + tokens \n",
    "\n",
    "        if len(tokens)==0 or len(tokens)==1:\n",
    "            return -1\n",
    "        \n",
    "        elif len(tokens)>1:\n",
    "            prefix_seqs = []\n",
    "            gramList = []\n",
    "            try:\n",
    "                pfx = [tokens[0]]\n",
    "                for token in tokens[1:]:\n",
    "                    pfx.append(token)\n",
    "                    prefix_seqs.append(pfx.copy())\n",
    "                for i in range(len(prefix_seqs)):\n",
    "                    currSeq = [globalWordToIndex.get(w,UNK_INDEX) for w in prefix_seqs[i]]\n",
    "                    pref_sq = [START_INDEX]+ [PAD_INDEX]*(MAX_LEN-len(currSeq)) + [w for w in currSeq[1:]]\n",
    "                    gramList.append(list(pref_sq))\n",
    "            except IndexError:\n",
    "                return -1\n",
    "  \n",
    "            if len(gramList)>0:\n",
    "                for gram in gramList:\n",
    "                    input_gram = torch.tensor(gram[:-1],dtype=torch.long).to(device)\n",
    "                    output_gram = gram[-1]\n",
    "                    output,hidden = model(input_gram.unsqueeze(dim=0))\n",
    "                    output = torch.exp(output.view(-1))\n",
    "                \n",
    "                    prob_gram = prob_gram * output[output_gram].cpu().numpy()\n",
    "              \n",
    "                perplexity = (1/prob_gram)**(1/len(gramList))\n",
    "                return perplexity\n",
    "            else:\n",
    "                return -1\n"
   ]
  },
  {
   "cell_type": "code",
   "execution_count": 126,
   "metadata": {},
   "outputs": [],
   "source": [
    "\n",
    "\n",
    "perplexity_list, avgPerplexity = getProbPerplexity(lngMOD,TESTSET)\n",
    "path = 'test1_perplexity.txt'\n",
    "writeToFile(path,perplexity_list,avgPerplexity)"
   ]
  },
  {
   "cell_type": "code",
   "execution_count": 56,
   "metadata": {},
   "outputs": [
    {
     "name": "stdout",
     "output_type": "stream",
     "text": [
      "370.513098422167\n",
      "13.476429683065973\n"
     ]
    }
   ],
   "source": [
    "str1 = \"mary king is safe\"\n",
    "str2 = \"the warrior\"\n",
    "\n",
    "print(perpForSentence(lngMOD,str1))\n",
    "print(perpForSentence(lngMOD,str2))"
   ]
  },
  {
   "cell_type": "code",
   "execution_count": 108,
   "metadata": {},
   "outputs": [
    {
     "data": {
      "text/plain": [
       "21"
      ]
     },
     "execution_count": 108,
     "metadata": {},
     "output_type": "execute_result"
    }
   ],
   "source": [
    "MAX_LEN = TRAINSET.max_len\n",
    "MAX_LEN"
   ]
  },
  {
   "cell_type": "code",
   "execution_count": 131,
   "metadata": {},
   "outputs": [
    {
     "data": {
      "text/plain": [
       "<All keys matched successfully>"
      ]
     },
     "execution_count": 131,
     "metadata": {},
     "output_type": "execute_result"
    }
   ],
   "source": [
    "lngMOD.load_state_dict(torch.load('model1.pt'))\n"
   ]
  },
  {
   "cell_type": "code",
   "execution_count": 129,
   "metadata": {},
   "outputs": [
    {
     "name": "stdout",
     "output_type": "stream",
     "text": [
      "1028.9875237221133\n",
      "12.814801035080004\n"
     ]
    }
   ],
   "source": [
    "str1 = \"mary king is safe\"\n",
    "str2 = \"the warrior\"\n",
    "\n",
    "print(perpForSentence(lngMOD,str1))\n",
    "print(perpForSentence(lngMOD,str2))"
   ]
  }
 ],
 "metadata": {
  "kernelspec": {
   "display_name": "Python 3 (ipykernel)",
   "language": "python",
   "name": "python3"
  },
  "language_info": {
   "codemirror_mode": {
    "name": "ipython",
    "version": 3
   },
   "file_extension": ".py",
   "mimetype": "text/x-python",
   "name": "python",
   "nbconvert_exporter": "python",
   "pygments_lexer": "ipython3",
   "version": "3.8.10"
  },
  "vscode": {
   "interpreter": {
    "hash": "7781fbed3122e90f9621d444eb681da4e516177f623617ad7dd98727908d5192"
   }
  }
 },
 "nbformat": 4,
 "nbformat_minor": 2
}
