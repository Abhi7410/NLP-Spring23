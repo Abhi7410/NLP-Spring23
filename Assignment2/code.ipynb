{
 "cells": [
  {
   "cell_type": "code",
   "execution_count": 1,
   "metadata": {},
   "outputs": [
    {
     "name": "stdout",
     "output_type": "stream",
     "text": [
      "Requirement already satisfied: conllu in /home/abhishek/miniconda3/lib/python3.10/site-packages (4.4.2)\n"
     ]
    }
   ],
   "source": [
    "!pip3 install conllu"
   ]
  },
  {
   "cell_type": "markdown",
   "metadata": {},
   "source": [
    "### Dataset Extraction"
   ]
  },
  {
   "cell_type": "code",
   "execution_count": 2,
   "metadata": {},
   "outputs": [],
   "source": [
    "import conllu\n",
    "\n",
    "\n",
    "# Parse the data using the CoNLL-U format parser\n",
    "train_data = conllu.parse(\n",
    "    open(\"./Dataset/en_atis-ud-train.conllu\", \"r\", encoding=\"utf-8\").read())\n",
    "valid_data = conllu.parse(\n",
    "    open(\"./Dataset/en_atis-ud-dev.conllu\", \"r\", encoding=\"utf-8\").read())\n",
    "test_data = conllu.parse(\n",
    "    open(\"./Dataset/en_atis-ud-test.conllu\", \"r\", encoding=\"utf-8\").read())\n",
    "\n",
    "\n",
    "train_data = [[(word['form'], word['upostag'])\n",
    "               for word in sentence] for sentence in train_data]\n",
    "valid_data = [[(word['form'], word['upostag'])\n",
    "               for word in sentence] for sentence in valid_data]\n",
    "test_data = [[(word['form'], word['upostag'])\n",
    "              for word in sentence] for sentence in test_data]\n"
   ]
  },
  {
   "attachments": {},
   "cell_type": "markdown",
   "metadata": {},
   "source": [
    "# Glove Embeddings"
   ]
  },
  {
   "cell_type": "code",
   "execution_count": 3,
   "metadata": {},
   "outputs": [
    {
     "name": "stderr",
     "output_type": "stream",
     "text": [
      "/home/abhishek/miniconda3/lib/python3.10/site-packages/tqdm/auto.py:22: TqdmWarning: IProgress not found. Please update jupyter and ipywidgets. See https://ipywidgets.readthedocs.io/en/stable/user_install.html\n",
      "  from .autonotebook import tqdm as notebook_tqdm\n"
     ]
    }
   ],
   "source": [
    "import numpy as np\n",
    "import torch\n",
    "\n",
    "\n",
    "def load_glove_embeddings(file_path):\n",
    "    with open(file_path, 'r') as f:\n",
    "        embeddings = {}\n",
    "        for line in f:\n",
    "            values = line.split()\n",
    "            word = values[0]\n",
    "            vector = np.array(values[1:], dtype='float32')\n",
    "            embeddings[word] = vector\n",
    "    return embeddings\n",
    "\n",
    "\n",
    "embeddings = load_glove_embeddings('./glove.6B/glove.6B.100d.txt')\n",
    "embeddings_list = [embeddings[word] for word in embeddings]\n",
    "embeddings_matrix = np.array(embeddings_list)\n",
    "# Add a row of zeros for the padding token\n",
    "embeddings_matrix = np.vstack((np.zeros(100).astype(np.float32), embeddings_matrix))\n"
   ]
  },
  {
   "attachments": {},
   "cell_type": "markdown",
   "metadata": {},
   "source": [
    "# PreProcessing "
   ]
  },
  {
   "cell_type": "code",
   "execution_count": 4,
   "metadata": {},
   "outputs": [
    {
     "name": "stdout",
     "output_type": "stream",
     "text": [
      "Number of unique words:  555\n",
      "Number of unique tags:  15\n"
     ]
    }
   ],
   "source": [
    "def dictWCT(data):\n",
    "    wordCount = {}\n",
    "    tagCount = {}\n",
    "    wordFreq = {}\n",
    "    for sentence in data:\n",
    "        for word in sentence:\n",
    "            if word[0] not in wordCount:\n",
    "                wordCount[word[0]] = len(wordCount)+1\n",
    "                wordFreq[word[0]] = 1\n",
    "            else:\n",
    "                wordFreq[word[0]]+=1\n",
    "            if word[1] not in tagCount:\n",
    "                tagCount[word[1]] = len(tagCount)+1\n",
    "    return wordCount, tagCount, wordFreq\n",
    "\n",
    "\n",
    "wordToIdx, tagToIdx, wordFreq = dictWCT(train_data+valid_data+test_data)\n",
    "\n",
    "idxToWord = {v: k for k, v in wordToIdx.items()}\n",
    "idxToTag = {v: k for k, v in tagToIdx.items()}\n",
    "wordToIdx['<PAD>'] = 0\n",
    "wordFreq = {k: v for k, v in wordFreq.items() if v > 2}\n",
    "wordToIdx['<UNK>'] = len(wordFreq)+1\n",
    "numUniqueWords = len(wordFreq)+2\n",
    "numUniqueTags = len(tagToIdx)+1\n",
    "\n",
    "print(\"Number of unique words: \", numUniqueWords)\n",
    "print(\"Number of unique tags: \", numUniqueTags)"
   ]
  },
  {
   "cell_type": "code",
   "execution_count": 5,
   "metadata": {},
   "outputs": [],
   "source": [
    "import numpy as np\n",
    "\n",
    "def getIndices(data, wordToIdx, tagToIdx, wordFreq, min_freq=2):\n",
    "    wordIndices = []\n",
    "    tagIndices = []\n",
    "    mxTagForUnk = {}\n",
    "    for sentence in data:\n",
    "        wordIdx = []\n",
    "        tagIdx = []\n",
    "        for word in sentence:\n",
    "            if word[0] not in wordFreq:\n",
    "                wordIdx.append(wordToIdx['<UNK>'])\n",
    "                tagIdx.append(tagToIdx[word[1]])\n",
    "                if word[1] not in mxTagForUnk:\n",
    "                    mxTagForUnk[word[1]] = 1\n",
    "                else:\n",
    "                    mxTagForUnk[word[1]] += 1\n",
    "            else:\n",
    "                wordIdx.append(wordToIdx[word[0]])\n",
    "                tagIdx.append(tagToIdx[word[1]])\n",
    "        wordIndices.append(wordIdx)\n",
    "        tagIndices.append(tagIdx)\n",
    "\n",
    "    mxTagForUnk = max(mxTagForUnk, key=mxTagForUnk.get)\n",
    "    tagIndices = [[tagToIdx[mxTagForUnk] if word == wordToIdx['<UNK>'] else tag for word, tag in zip(wordIndices[i], tagIndices[i])] for i in range(len(wordIndices))]\n",
    "    return wordIndices, tagIndices\n",
    "\n",
    "wordIndices, tagIndices = getIndices(train_data, wordToIdx, tagToIdx, wordFreq)\n",
    "wordIndicesValid, tagIndicesValid= getIndices(valid_data, wordToIdx, tagToIdx, wordFreq)\n",
    "wordIndicesTest, tagIndicesTest = getIndices(test_data, wordToIdx, tagToIdx, wordFreq)\n",
    "\n",
    "def padWCT(wordIndices, tagIndices):\n",
    "    max_len = 0\n",
    "    for i in range(len(wordIndices)):\n",
    "        if len(wordIndices[i]) > max_len:\n",
    "            max_len = len(wordIndices[i])\n",
    "\n",
    "    wordIndices = np.array([np.pad(wordIndices[i], (0, max_len - len(wordIndices[i])), 'constant') for i in range(len(wordIndices))])\n",
    "    tagIndices = np.array([np.pad(tagIndices[i], (0, max_len - len(tagIndices[i])), 'constant') for i in range(len(tagIndices))])\n",
    "\n",
    "    return wordIndices, tagIndices\n",
    "\n",
    "wordIndices, tagIndices = padWCT(wordIndices, tagIndices)\n",
    "wordIndicesValid, tagIndicesValid = padWCT(wordIndicesValid, tagIndicesValid)\n",
    "wordIndicesTest, tagIndicesTest = padWCT(wordIndicesTest, tagIndicesTest)\n",
    "\n",
    "# print(charIndices[0].shape)\n"
   ]
  },
  {
   "attachments": {},
   "cell_type": "markdown",
   "metadata": {},
   "source": [
    "## Global Variables"
   ]
  },
  {
   "cell_type": "code",
   "execution_count": 6,
   "metadata": {},
   "outputs": [],
   "source": [
    "# GLOBAL VARIABLES\n",
    "WORD_EMBEDDING_DIM = 100\n",
    "LSTM_HIDDEN_DIM_WORD = 256\n",
    "DROPOUT_RATE = 0.5\n",
    "BATCH_SIZE = 128\n",
    "NUM_EPOCHS = 10"
   ]
  },
  {
   "cell_type": "code",
   "execution_count": 6,
   "metadata": {},
   "outputs": [],
   "source": [
    "import os\n",
    "os.environ['CUDA_LAUNCH_BLOCKING'] = '1'\n"
   ]
  },
  {
   "cell_type": "code",
   "execution_count": 7,
   "metadata": {},
   "outputs": [
    {
     "name": "stdout",
     "output_type": "stream",
     "text": [
      "cuda:0\n"
     ]
    }
   ],
   "source": [
    "import torch\n",
    "import torch.nn as nn\n",
    "import torch.nn.functional as F\n",
    "import torch.optim as optim\n",
    "from torch.autograd import Variable\n",
    "\n",
    "use_cuda = torch.cuda.is_available()\n",
    "device = torch.device(\"cuda:0\" if use_cuda else \"cpu\")\n",
    "print(device)\n"
   ]
  },
  {
   "attachments": {},
   "cell_type": "markdown",
   "metadata": {},
   "source": [
    "## BiLSTM Model"
   ]
  },
  {
   "cell_type": "code",
   "execution_count": 12,
   "metadata": {},
   "outputs": [],
   "source": [
    "from torch.nn.utils.rnn import pack_padded_sequence, pad_packed_sequence\n",
    "\n",
    "class BiLSTM(nn.Module):\n",
    "    def __init__(self, numUniqueWords, numUniqueTags, wordEmbeddingDim, lstmHiddenDimWord, dropoutRate,embedding):\n",
    "        super(BiLSTM, self).__init__()\n",
    "        self.wordEmbedding = nn.Embedding.from_pretrained(torch.from_numpy(embedding).float(), freeze=False,padding_idx=0)\n",
    "        self.lstmWord = nn.LSTM(wordEmbeddingDim ,\n",
    "                                lstmHiddenDimWord, bidirectional=True, batch_first=True)\n",
    "        self.dropout = nn.Dropout(dropoutRate)\n",
    "        self.linear = nn.Linear(2*lstmHiddenDimWord, numUniqueTags)\n",
    "\n",
    "    def forward(self,word_indices):\n",
    "        word_embeddings = self.wordEmbedding(word_indices)\n",
    "        lstm_word_out = self.lstmWord(word_embeddings)[0]\n",
    "        lstm_word_out = self.dropout(lstm_word_out)\n",
    "        linear_out = self.linear(lstm_word_out)\n",
    "        tag_scores = F.log_softmax(linear_out, dim=2)\n",
    "\n",
    "        return tag_scores\n"
   ]
  },
  {
   "cell_type": "code",
   "execution_count": 13,
   "metadata": {},
   "outputs": [],
   "source": [
    "model = BiLSTM(numUniqueWords, numUniqueTags, WORD_EMBEDDING_DIM, LSTM_HIDDEN_DIM_WORD, DROPOUT_RATE,embeddings_matrix)\n",
    "if torch.cuda.is_available():\n",
    "    model.cuda()\n",
    "    "
   ]
  },
  {
   "cell_type": "code",
   "execution_count": 69,
   "metadata": {},
   "outputs": [
    {
     "name": "stdout",
     "output_type": "stream",
     "text": [
      "4274\n"
     ]
    }
   ],
   "source": [
    "print(len(wordIndices))"
   ]
  },
  {
   "cell_type": "code",
   "execution_count": 14,
   "metadata": {},
   "outputs": [],
   "source": [
    "def convertToTensors(wordIndices,tagIndices):\n",
    "    wordTensor = [torch.LongTensor(word) for word in wordIndices]\n",
    "    tagTensor = [torch.LongTensor(tag) for tag in tagIndices]\n",
    "    return wordTensor, tagTensor\n",
    "\n",
    "wordTensor, tagTensor = convertToTensors(wordIndices, tagIndices)\n",
    "wordTensorValid, tagTensorValid = convertToTensors(wordIndicesValid, tagIndicesValid)\n",
    "wordTensorTest, tagTensorTest = convertToTensors(wordIndicesTest, tagIndicesTest)"
   ]
  },
  {
   "attachments": {},
   "cell_type": "markdown",
   "metadata": {},
   "source": [
    "## Training & Testing"
   ]
  },
  {
   "cell_type": "code",
   "execution_count": 15,
   "metadata": {},
   "outputs": [
    {
     "name": "stdout",
     "output_type": "stream",
     "text": [
      "Epoch: 1 \t Training Loss: 29.273948587477207 \t Training Accuracy: 0.7180145925393073 \t Validation Loss: 1.1001158729195595 \t Validation Accuracy: 0.9294099939795304\n",
      "Epoch: 2 \t Training Loss: 5.096950709819794 \t Training Accuracy: 0.9611139656767034 \t Validation Loss: 0.40961023047566414 \t Validation Accuracy: 0.9706502107164359\n",
      "Epoch: 3 \t Training Loss: 2.609059365466237 \t Training Accuracy: 0.9783783783783784 \t Validation Loss: 0.336295448243618 \t Validation Accuracy: 0.9750150511739916\n",
      "Epoch: 4 \t Training Loss: 2.2211140040308237 \t Training Accuracy: 0.9831466447436029 \t Validation Loss: 0.23998620733618736 \t Validation Accuracy: 0.9829921733895244\n",
      "Epoch: 5 \t Training Loss: 1.9095498565584421 \t Training Accuracy: 0.9831466447436029 \t Validation Loss: 0.23535828478634357 \t Validation Accuracy: 0.9867549668874173\n",
      "Epoch: 6 \t Training Loss: 1.8607068192213774 \t Training Accuracy: 0.9842976055903813 \t Validation Loss: 0.23752260208129883 \t Validation Accuracy: 0.9867549668874173\n",
      "Epoch: 7 \t Training Loss: 1.5898904539644718 \t Training Accuracy: 0.9851402733532011 \t Validation Loss: 0.23999585025012493 \t Validation Accuracy: 0.9866044551475015\n",
      "Epoch: 8 \t Training Loss: 1.497547697275877 \t Training Accuracy: 0.9862706813277156 \t Validation Loss: 0.23092913441359997 \t Validation Accuracy: 0.9869054786273329\n",
      "Epoch: 9 \t Training Loss: 1.345658540725708 \t Training Accuracy: 0.986784503134313 \t Validation Loss: 0.25283536687493324 \t Validation Accuracy: 0.9849488260084287\n",
      "Epoch: 10 \t Training Loss: 1.2406376767903566 \t Training Accuracy: 0.9875038536635495 \t Validation Loss: 0.24213579297065735 \t Validation Accuracy: 0.9855508729680915\n"
     ]
    }
   ],
   "source": [
    "# training model\n",
    "optimizer = optim.Adam(model.parameters(), lr=0.01)\n",
    "criterion = nn.NLLLoss(ignore_index=0)\n",
    "torch.autograd.set_detect_anomaly(True)\n",
    "\n",
    "def train(model,optimizer,criterion, wordTensor,tagTensor):\n",
    "    model.train()\n",
    "    total_loss = 0\n",
    "    tot_correct = 0\n",
    "    total_pad = 0\n",
    "    for i in range(0,len(wordIndices),BATCH_SIZE):\n",
    "        optimizer.zero_grad()\n",
    "        word_tensor = wordTensor[i:i+BATCH_SIZE]\n",
    "        tag_tensor = tagTensor[i:i+BATCH_SIZE]\n",
    "        word_tensor = torch.stack(word_tensor).to(device)\n",
    "        tag_tensor = torch.stack(tag_tensor).to(device)\n",
    "        tag_tensor = tag_tensor.view(-1)\n",
    "        output = model(word_tensor)\n",
    "        output = output.view(-1, output.shape[2])\n",
    "        loss = criterion(output, tag_tensor)\n",
    "        loss.backward()\n",
    "        optimizer.step()\n",
    "        total_loss += loss.item()\n",
    "        pred = torch.argmax(output, dim=1)\n",
    "        tot_correct += torch.sum(pred == tag_tensor).item()\n",
    "\n",
    "        total_pad += torch.sum(tag_tensor == 0).item()\n",
    "        \n",
    "    return total_loss, tot_correct/(len(wordIndices)*len(wordIndices[0]) - total_pad)\n",
    "\n",
    "\n",
    "def evaluate(model, wordTensor, tagTensor):\n",
    "    model.eval()\n",
    "    total_loss = 0\n",
    "    tot_correct = 0\n",
    "    total_pad = 0\n",
    "    wordTagList = []\n",
    "    with torch.no_grad():\n",
    "        for i in range(0, len(wordTensor), BATCH_SIZE):\n",
    "            word_tensor = wordTensor[i:i+BATCH_SIZE]\n",
    "            tag_tensor = tagTensor[i:i+BATCH_SIZE]\n",
    "            word_tensor = torch.stack(word_tensor).to(device)\n",
    "            tag_tensor = torch.stack(tag_tensor).to(device)\n",
    "            tag_tensor = tag_tensor.view(-1)\n",
    "            output = model(word_tensor)\n",
    "            output = output.view(-1, output.shape[2])\n",
    "            loss = criterion(output, tag_tensor)\n",
    "            total_loss += loss.item()\n",
    "            pred = torch.argmax(output, dim=1)\n",
    "            tot_correct += torch.sum(pred == tag_tensor).item()\n",
    "            total_pad += torch.sum(tag_tensor == 0).item()\n",
    "            # take those only which are not padded\n",
    "            wordTagList.extend(\n",
    "                list(zip(word_tensor.view(-1).tolist(), pred.view(-1).tolist())))\n",
    "    return total_loss, tot_correct/(len(wordTensor)*len(wordTensor[0]) - total_pad), wordTagList\n",
    "\n",
    "loss_list  = []\n",
    "accuracy_list = []\n",
    "validaton_loss_list = []\n",
    "validaton_accuracy_list = []\n",
    "for epoch in range(NUM_EPOCHS):\n",
    "    loss,totalCorrect = train(model,optimizer,criterion,wordTensor,tagTensor)\n",
    "    lossValid,totalCorrectValid,_ = evaluate(model,wordTensorValid,tagTensorValid)\n",
    "    print(\"Epoch: {0} \\t Training Loss: {1} \\t Training Accuracy: {2} \\t Validation Loss: {3} \\t Validation Accuracy: {4}\".format(epoch+1,loss,totalCorrect,lossValid,totalCorrectValid))\n",
    "    loss_list.append(loss)\n",
    "    accuracy_list.append(totalCorrect)\n",
    "    validaton_loss_list.append(lossValid)\n",
    "    validaton_accuracy_list.append(totalCorrectValid)\n",
    "\n"
   ]
  },
  {
   "cell_type": "code",
   "execution_count": 16,
   "metadata": {},
   "outputs": [],
   "source": [
    "# save the model\n",
    "torch.save(model.state_dict(), \"modelFinal.pt\")\n"
   ]
  },
  {
   "cell_type": "code",
   "execution_count": 17,
   "metadata": {},
   "outputs": [
    {
     "name": "stdout",
     "output_type": "stream",
     "text": [
      "              precision    recall  f1-score   support\n",
      "\n",
      "           1     0.9924    0.9974    0.9949       392\n",
      "           2     0.9961    0.9922    0.9941       256\n",
      "           3     0.9903    0.9941    0.9922       512\n",
      "           4     0.9965    0.9948    0.9957      1155\n",
      "           5     0.9965    0.9930    0.9948      1433\n",
      "           6     0.9936    0.9994    0.9965      1549\n",
      "           7     0.9951    0.9903    0.9927       618\n",
      "           8     0.9943    1.0000    0.9971       173\n",
      "           9     0.9764    0.9495    0.9628       218\n",
      "          10     1.0000    1.0000    1.0000       109\n",
      "          11     0.8800    0.9041    0.8919        73\n",
      "          12     0.9649    0.9821    0.9735        56\n",
      "          13     1.0000    1.0000    1.0000        36\n",
      "\n",
      "    accuracy                         0.9927      6580\n",
      "   macro avg     0.9828    0.9844    0.9835      6580\n",
      "weighted avg     0.9927    0.9927    0.9927      6580\n",
      "\n"
     ]
    }
   ],
   "source": [
    "from sklearn.metrics import classification_report\n",
    "import numpy as np\n",
    "import matplotlib.pyplot as plt\n",
    "\n",
    "# for precision , recall , f1 score\n",
    "def getMetrices(y_pred,y_true):\n",
    "    y_pred = np.array(y_pred)\n",
    "    y_true = np.array(y_true)\n",
    "    print(classification_report(y_true, y_pred, digits=4))  \n",
    "\n",
    "\n",
    "model.load_state_dict(torch.load(\"modelFinal.pt\"))\n",
    "lossTest, totalCorrectTest, wlList = evaluate(\n",
    "    model, wordTensorTest, tagTensorTest)\n",
    "\n",
    "test_pred = [v for k,v in wlList if k != 0]\n",
    "word_list = [k for k,v in wlList if k != 0]\n",
    "test_actual = []\n",
    "for i in range(len(tagIndicesTest)):\n",
    "    test_actual.extend(tagIndicesTest[i])\n",
    "# remove the padded values\n",
    "test_actual = [v for v in test_actual if v != 0]\n",
    "\n",
    "getMetrices(test_pred,test_actual)\n",
    "\n"
   ]
  },
  {
   "cell_type": "code",
   "execution_count": 18,
   "metadata": {},
   "outputs": [],
   "source": [
    "\n",
    "with open(\"test.txt\", \"w\") as f:\n",
    "    # write the header\n",
    "    f.write(\"{0} {1} {2}\\n\".format(\"Word\", \"Actual\", \"Predicted\"))\n",
    "    for i in range(len(word_list)):\n",
    "        f.write(\"{0} {1} {2}\\n\".format( idxToWord[word_list[i]], idxToTag[test_actual[i]], idxToTag[test_pred[i]]))\n",
    "            \n",
    "            "
   ]
  },
  {
   "cell_type": "code",
   "execution_count": 19,
   "metadata": {},
   "outputs": [
    {
     "data": {
      "image/png": "[encoded data removed]",
      "text/plain": [
       "<Figure size 640x480 with 1 Axes>"
      ]
     },
     "metadata": {},
     "output_type": "display_data"
    }
   ],
   "source": [
    "# matplotlb for plotting loss for training and validation\n",
    "import matplotlib.pyplot as plt\n",
    "plt.plot(loss_list)\n",
    "plt.plot(validaton_loss_list)\n",
    "plt.title('model loss')\n",
    "plt.ylabel('loss')\n",
    "plt.xlabel('epoch')\n",
    "plt.legend(['train', 'validation'], loc='upper left')\n",
    "plt.show()\n"
   ]
  },
  {
   "cell_type": "code",
   "execution_count": 20,
   "metadata": {},
   "outputs": [
    {
     "data": {
      "image/png": "[encoded data removed]",
      "text/plain": [
       "<Figure size 640x480 with 1 Axes>"
      ]
     },
     "metadata": {},
     "output_type": "display_data"
    }
   ],
   "source": [
    "# matplotlb for plotting accuracy for training and validation\n",
    "plt.plot(accuracy_list)\n",
    "plt.plot(validaton_accuracy_list)\n",
    "plt.title('model accuracy')\n",
    "plt.ylabel('accuracy')\n",
    "plt.xlabel('epoch')\n",
    "plt.legend(['train', 'validation'], loc='upper left')\n",
    "plt.show()\n"
   ]
  },
  {
   "attachments": {},
   "cell_type": "markdown",
   "metadata": {},
   "source": [
    "## Random Sentence Tagging"
   ]
  },
  {
   "cell_type": "code",
   "execution_count": 22,
   "metadata": {},
   "outputs": [
    {
     "name": "stdout",
     "output_type": "stream",
     "text": [
      "we PRON\n",
      "are AUX\n",
      "coming VERB\n",
      "from ADP\n",
      "india NUM\n"
     ]
    }
   ],
   "source": [
    "\n",
    "s = \"we are coming from india\"\n",
    "model.load_state_dict(torch.load(\"modelFinal.pt\"))\n",
    "\n",
    "def genSentence(model,wordFreq,sentence):\n",
    "    sentence = sentence.lower()\n",
    "    sentence = sentence.split(\" \")\n",
    "    word_indice = []\n",
    "    for s in sentence:\n",
    "        if s not in wordFreq or wordFreq[s]<=2:\n",
    "            word_indice.append(wordToIdx['<UNK>'])\n",
    "        else:\n",
    "            word_indice.append(wordToIdx[s])\n",
    "    wordTen = torch.LongTensor(word_indice).to(device)\n",
    "    wordTen = wordTen.view(1,-1)\n",
    "    # predict the tag\n",
    "    with torch.no_grad():\n",
    "        model.eval()\n",
    "        output = model(wordTen)\n",
    "        _, predicted = torch.max(output, 2)\n",
    "        # print(predicted.shape)\n",
    "        for i in range(len(predicted[0])):\n",
    "            print(sentence[i], idxToTag[predicted[0][i].item()])\n",
    "\n",
    "\n",
    "genSentence(model,wordFreq,s)\n",
    "\n"
   ]
  }
 ],
 "metadata": {
  "kernelspec": {
   "display_name": "Python 3",
   "language": "python",
   "name": "python3"
  },
  "language_info": {
   "codemirror_mode": {
    "name": "ipython",
    "version": 3
   },
   "file_extension": ".py",
   "mimetype": "text/x-python",
   "name": "python",
   "nbconvert_exporter": "python",
   "pygments_lexer": "ipython3",
   "version": "3.10.9"
  },
  "vscode": {
   "interpreter": {
    "hash": "ad0a8d25012454fce516fd02556d13b58ba350644df31d02f07d47f8074eb7a7"
   }
  }
 },
 "nbformat": 4,
 "nbformat_minor": 2
}
