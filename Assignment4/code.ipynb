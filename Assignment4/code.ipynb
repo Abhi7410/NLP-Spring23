{
 "cells": [
  {
   "cell_type": "code",
   "execution_count": 1,
   "metadata": {},
   "outputs": [
    {
     "name": "stdout",
     "output_type": "stream",
     "text": [
      "/bin/bash: /home/abhishek/miniconda3/lib/libtinfo.so.6: no version information available (required by /bin/bash)\n",
      "Requirement already satisfied: datasets in /home/abhishek/miniconda3/lib/python3.10/site-packages (2.10.0)\n",
      "Requirement already satisfied: responses<0.19 in /home/abhishek/miniconda3/lib/python3.10/site-packages (from datasets) (0.18.0)\n",
      "Requirement already satisfied: fsspec[http]>=2021.11.1 in /home/abhishek/miniconda3/lib/python3.10/site-packages (from datasets) (2023.1.0)\n",
      "Requirement already satisfied: numpy>=1.17 in /home/abhishek/miniconda3/lib/python3.10/site-packages (from datasets) (1.23.5)\n",
      "Requirement already satisfied: pyyaml>=5.1 in /home/abhishek/miniconda3/lib/python3.10/site-packages (from datasets) (6.0)\n",
      "Requirement already satisfied: requests>=2.19.0 in /home/abhishek/miniconda3/lib/python3.10/site-packages (from datasets) (2.28.1)\n",
      "Requirement already satisfied: pyarrow>=6.0.0 in /home/abhishek/miniconda3/lib/python3.10/site-packages (from datasets) (11.0.0)\n",
      "Requirement already satisfied: tqdm>=4.62.1 in /home/abhishek/miniconda3/lib/python3.10/site-packages (from datasets) (4.64.1)\n",
      "Requirement already satisfied: huggingface-hub<1.0.0,>=0.2.0 in /home/abhishek/miniconda3/lib/python3.10/site-packages (from datasets) (0.13.2)\n",
      "Requirement already satisfied: xxhash in /home/abhishek/miniconda3/lib/python3.10/site-packages (from datasets) (3.2.0)\n",
      "Requirement already satisfied: aiohttp in /home/abhishek/miniconda3/lib/python3.10/site-packages (from datasets) (3.8.4)\n",
      "Requirement already satisfied: multiprocess in /home/abhishek/miniconda3/lib/python3.10/site-packages (from datasets) (0.70.14)\n",
      "Requirement already satisfied: dill<0.3.7,>=0.3.0 in /home/abhishek/miniconda3/lib/python3.10/site-packages (from datasets) (0.3.6)\n",
      "Requirement already satisfied: packaging in /home/abhishek/miniconda3/lib/python3.10/site-packages (from datasets) (23.0)\n",
      "Requirement already satisfied: pandas in /home/abhishek/miniconda3/lib/python3.10/site-packages (from datasets) (1.5.3)\n",
      "Requirement already satisfied: charset-normalizer<4.0,>=2.0 in /home/abhishek/miniconda3/lib/python3.10/site-packages (from aiohttp->datasets) (2.0.4)\n",
      "Requirement already satisfied: multidict<7.0,>=4.5 in /home/abhishek/miniconda3/lib/python3.10/site-packages (from aiohttp->datasets) (6.0.4)\n",
      "Requirement already satisfied: attrs>=17.3.0 in /home/abhishek/miniconda3/lib/python3.10/site-packages (from aiohttp->datasets) (22.2.0)\n",
      "Requirement already satisfied: yarl<2.0,>=1.0 in /home/abhishek/miniconda3/lib/python3.10/site-packages (from aiohttp->datasets) (1.8.2)\n",
      "Requirement already satisfied: frozenlist>=1.1.1 in /home/abhishek/miniconda3/lib/python3.10/site-packages (from aiohttp->datasets) (1.3.3)\n",
      "Requirement already satisfied: async-timeout<5.0,>=4.0.0a3 in /home/abhishek/miniconda3/lib/python3.10/site-packages (from aiohttp->datasets) (4.0.2)\n",
      "Requirement already satisfied: aiosignal>=1.1.2 in /home/abhishek/miniconda3/lib/python3.10/site-packages (from aiohttp->datasets) (1.3.1)\n",
      "Requirement already satisfied: typing-extensions>=3.7.4.3 in /home/abhishek/miniconda3/lib/python3.10/site-packages (from huggingface-hub<1.0.0,>=0.2.0->datasets) (4.4.0)\n",
      "Requirement already satisfied: filelock in /home/abhishek/miniconda3/lib/python3.10/site-packages (from huggingface-hub<1.0.0,>=0.2.0->datasets) (3.7.1)\n",
      "Requirement already satisfied: certifi>=2017.4.17 in /home/abhishek/miniconda3/lib/python3.10/site-packages (from requests>=2.19.0->datasets) (2022.12.7)\n",
      "Requirement already satisfied: idna<4,>=2.5 in /home/abhishek/miniconda3/lib/python3.10/site-packages (from requests>=2.19.0->datasets) (3.4)\n",
      "Requirement already satisfied: urllib3<1.27,>=1.21.1 in /home/abhishek/miniconda3/lib/python3.10/site-packages (from requests>=2.19.0->datasets) (1.26.14)\n",
      "Requirement already satisfied: python-dateutil>=2.8.1 in /home/abhishek/miniconda3/lib/python3.10/site-packages (from pandas->datasets) (2.8.2)\n",
      "Requirement already satisfied: pytz>=2020.1 in /home/abhishek/miniconda3/lib/python3.10/site-packages (from pandas->datasets) (2022.7.1)\n",
      "Requirement already satisfied: six>=1.5 in /home/abhishek/miniconda3/lib/python3.10/site-packages (from python-dateutil>=2.8.1->pandas->datasets) (1.16.0)\n"
     ]
    }
   ],
   "source": [
    "!pip3 install datasets"
   ]
  },
  {
   "cell_type": "code",
   "execution_count": 159,
   "metadata": {},
   "outputs": [
    {
     "name": "stderr",
     "output_type": "stream",
     "text": [
      "No config specified, defaulting to: sst/default\n",
      "Found cached dataset sst (/home/abhishek/.cache/huggingface/datasets/sst/default/1.0.0/b8a7889ef01c5d3ae8c379b84cc4080f8aad3ac2bc538701cbe0ac6416fb76ff)\n"
     ]
    }
   ],
   "source": [
    "from datasets import list_datasets, load_dataset\n",
    "from pprint import pprint\n",
    "\n",
    "# sst dataset\n",
    "\n",
    "sst_valid = load_dataset('sst', split='test')\n",
    "# convert to pandas dataframe\n",
    "sst_valid_df = sst_valid.to_pandas()\n",
    "# save to csv\n",
    "sst_valid_df.to_csv('sst_test.csv', index=False)\n",
    "\n",
    "\n",
    "\n"
   ]
  },
  {
   "cell_type": "code",
   "execution_count": 160,
   "metadata": {},
   "outputs": [],
   "source": [
    "# keep only the text and label column for sst dataset\n",
    "# load the csv file in pandas dataframe\n",
    "import pandas as pd \n",
    "\n",
    "sst_train_df = pd.read_csv('sst_train.csv')\n",
    "sst_valid_df = pd.read_csv('sst_valid.csv')\n",
    "sst_test_df = pd.read_csv('sst_test.csv')\n",
    "\n",
    "sst_train_df = sst_train_df[['sentence','label']]\n",
    "sst_valid_df = sst_valid_df[['sentence','label']]\n",
    "sst_test_df = sst_test_df[['sentence','label']]\n",
    "# save to csv\n",
    "sst_train_df.to_csv('sst_train.csv', index=False)\n",
    "sst_valid_df.to_csv('sst_valid.csv', index=False)\n",
    "sst_test_df.to_csv('sst_test.csv', index=False)\n"
   ]
  },
  {
   "cell_type": "code",
   "execution_count": 175,
   "metadata": {},
   "outputs": [],
   "source": [
    "def change_label(x):\n",
    "    if x<=0.5:\n",
    "        return 0\n",
    "    else:\n",
    "        return 1\n",
    "        "
   ]
  },
  {
   "cell_type": "code",
   "execution_count": 176,
   "metadata": {},
   "outputs": [],
   "source": [
    "# in sst_split change the labels according to threshold, divide them into 3 classes\n",
    "# 0 - negative, 1 - neutral, 2 - positive\n",
    "import pandas as pd\n",
    "\n",
    "sst_train_df = pd.read_csv('sst_train.csv')\n",
    "sst_valid_df = pd.read_csv('sst_valid.csv')\n",
    "sst_test_df = pd.read_csv('sst_test.csv')\n",
    "\n",
    "sst_train_df['label'] = sst_train_df['label'].apply(change_label)\n",
    "sst_valid_df['label'] = sst_valid_df['label'].apply(change_label)\n",
    "sst_test_df['label'] = sst_test_df['label'].apply(change_label)\n",
    "\n",
    "\n",
    "sst_train_df.to_csv('sst_train_label.csv', index=False)\n",
    "sst_valid_df.to_csv('sst_valid_label.csv', index=False)\n",
    "sst_test_df.to_csv('sst_test_label.csv', index=False)"
   ]
  },
  {
   "cell_type": "code",
   "execution_count": 75,
   "metadata": {},
   "outputs": [],
   "source": [
    "# multi_nli dataset\n",
    "# keep premise and label \n",
    "multi_nli_train_df = pd.read_csv('multi_nli_test.csv')\n",
    "\n",
    "multi_nli_train_df = multi_nli_train_df[['premise','label']]\n",
    "multi_nli_train_df.to_csv('multi_nli_test.csv', index=False)"
   ]
  },
  {
   "cell_type": "code",
   "execution_count": 2,
   "metadata": {},
   "outputs": [
    {
     "name": "stdout",
     "output_type": "stream",
     "text": [
      "cuda\n"
     ]
    }
   ],
   "source": [
    "import torch \n",
    "device = torch.device(\"cuda\" if torch.cuda.is_available() else \"cpu\")\n",
    "print(device)"
   ]
  },
  {
   "cell_type": "code",
   "execution_count": 1,
   "metadata": {},
   "outputs": [
    {
     "name": "stderr",
     "output_type": "stream",
     "text": [
      "Preprocessing: 100%|██████████| 8544/8544 [00:01<00:00, 7502.65it/s]\n"
     ]
    },
    {
     "name": "stdout",
     "output_type": "stream",
     "text": [
      "(8544, 2)\n"
     ]
    },
    {
     "name": "stderr",
     "output_type": "stream",
     "text": [
      "Tokenising and Padding:   0%|          | 0/8544 [00:00<?, ?it/s]/tmp/ipykernel_242116/2766425094.py:99: SettingWithCopyWarning: \n",
      "A value is trying to be set on a copy of a slice from a DataFrame\n",
      "\n",
      "See the caveats in the documentation: https://pandas.pydata.org/pandas-docs/stable/user_guide/indexing.html#returning-a-view-versus-a-copy\n",
      "  data['sentence'][i] = tokens\n",
      "Tokenising and Padding: 100%|██████████| 8544/8544 [00:03<00:00, 2175.39it/s]\n"
     ]
    },
    {
     "name": "stdout",
     "output_type": "stream",
     "text": [
      "(1101, 2)\n"
     ]
    },
    {
     "name": "stderr",
     "output_type": "stream",
     "text": [
      "Tokenising and Padding:   0%|          | 0/1101 [00:00<?, ?it/s]/tmp/ipykernel_242116/2766425094.py:99: SettingWithCopyWarning: \n",
      "A value is trying to be set on a copy of a slice from a DataFrame\n",
      "\n",
      "See the caveats in the documentation: https://pandas.pydata.org/pandas-docs/stable/user_guide/indexing.html#returning-a-view-versus-a-copy\n",
      "  data['sentence'][i] = tokens\n",
      "Tokenising and Padding: 100%|██████████| 1101/1101 [00:00<00:00, 2241.44it/s]\n"
     ]
    },
    {
     "name": "stdout",
     "output_type": "stream",
     "text": [
      "(2210, 2)\n"
     ]
    },
    {
     "name": "stderr",
     "output_type": "stream",
     "text": [
      "Tokenising and Padding:   0%|          | 0/2210 [00:00<?, ?it/s]/tmp/ipykernel_242116/2766425094.py:99: SettingWithCopyWarning: \n",
      "A value is trying to be set on a copy of a slice from a DataFrame\n",
      "\n",
      "See the caveats in the documentation: https://pandas.pydata.org/pandas-docs/stable/user_guide/indexing.html#returning-a-view-versus-a-copy\n",
      "  data['sentence'][i] = tokens\n",
      "Tokenising and Padding: 100%|██████████| 2210/2210 [00:01<00:00, 1806.44it/s]\n"
     ]
    }
   ],
   "source": [
    "import pandas as pd\n",
    "import nltk\n",
    "from nltk.corpus import stopwords\n",
    "from nltk.tokenize import word_tokenize\n",
    "from nltk.stem import PorterStemmer\n",
    "import string\n",
    "import torch\n",
    "from torch.utils.data import Dataset\n",
    "from tqdm import tqdm\n",
    "\n",
    "class PreProcessing():\n",
    "    def __init__(self,filePath,savePath,minFreq):\n",
    "        self.filePath = filePath\n",
    "        self.savePath = savePath\n",
    "        self.minFreq = minFreq\n",
    "        self.word2idx = {}\n",
    "        self.idx2word = {}\n",
    "        self.word2count = {}\n",
    "        self.vocab = []\n",
    "        self.vocabSize = 0\n",
    "        self.word2idx['<PAD>'] = 0\n",
    "        self.word2idx['<UNK>'] = 1\n",
    "        self.idx2word[0] = '<PAD>'\n",
    "        self.idx2word[1] = '<UNK>'\n",
    "        self.vocabSize = 2\n",
    "        self.word2count['<PAD>'] = 0\n",
    "        self.word2count['<UNK>'] = 0\n",
    "        self.vocab.append('<PAD>')\n",
    "        self.vocab.append('<UNK>')\n",
    "        self.tokens = []\n",
    "        self.label = []\n",
    "        self.removeWords()\n",
    "\n",
    "\n",
    "    def removeWords(self):\n",
    "\n",
    "        stop_words = set(stopwords.words('english'))\n",
    "        punctuations = set(string.punctuation)\n",
    "        ps = PorterStemmer()\n",
    "        data = pd.read_csv(self.filePath)\n",
    "\n",
    "        preProcessedData = []\n",
    "        for sentence in tqdm(data['sentence'],desc='Preprocessing'):\n",
    "            tokens = word_tokenize(sentence)\n",
    "            filtered_tokens = [token.lower() for token in tokens if token not in stop_words and token not in punctuations]\n",
    "            preProcessed_sentence = ' '.join(filtered_tokens)\n",
    "            preProcessedData.append(preProcessed_sentence)\n",
    "\n",
    "\n",
    "        word_counts = {}\n",
    "        for sentence in preProcessedData:\n",
    "            tokens = word_tokenize(sentence)\n",
    "            for token in tokens:\n",
    "                if token not in word_counts:\n",
    "                    word_counts[token] = 1\n",
    "                else:\n",
    "                    word_counts[token] += 1\n",
    "\n",
    "        for word,count in word_counts.items():\n",
    "            if count >= self.minFreq:\n",
    "                self.word2idx[word] = self.vocabSize\n",
    "                self.word2count[word] = count\n",
    "                self.idx2word[self.vocabSize] = word\n",
    "                self.vocabSize += 1\n",
    "                self.vocab.append(word)\n",
    "\n",
    "\n",
    "\n",
    "class GetDatasets(Dataset):\n",
    "    def __init__(self,filePath,vocab,word2idx,pad):\n",
    "        self.filePath = filePath\n",
    "        self.vocab = vocab\n",
    "        self.word2idx = word2idx\n",
    "        self.tokens = []\n",
    "        self.label = []\n",
    "        self.pad = pad\n",
    "        self.forward_data = []\n",
    "        self.backward_data = []\n",
    "\n",
    "        data = pd.read_csv(self.filePath)\n",
    "        maxLen = 0\n",
    "        print(data.shape)\n",
    "        for sentence in data['sentence']:\n",
    "            tokens = word_tokenize(sentence)\n",
    "            if len(tokens) > maxLen:\n",
    "                maxLen = len(tokens)\n",
    "        for i in tqdm(range(data.shape[0]),desc='Tokenising and Padding'):\n",
    "            sentence = data['sentence'][i]\n",
    "            tokens = word_tokenize(sentence)\n",
    "            for j in range(len(tokens)):\n",
    "                if tokens[j] in self.word2idx:\n",
    "                    tokens[j] = self.word2idx[tokens[j]]\n",
    "                else:\n",
    "                    tokens[j] = self.word2idx['<UNK>']\n",
    "\n",
    "            if self.pad:\n",
    "                tokens.extend([self.word2idx['<PAD>']]*(maxLen-len(tokens)))\n",
    "\n",
    "            data['sentence'][i] = tokens\n",
    "            self.tokens.append(tokens)\n",
    "            self.label.append(data['label'][i])\n",
    "            self.forward_data.append(tokens[1:])\n",
    "            self.backward_data.append(tokens[:-1])\n",
    "            \n",
    "\n",
    "\n",
    "        self.label = torch.tensor(self.label)\n",
    "        self.tokens = torch.tensor(self.tokens)\n",
    "        self.forward_data = torch.tensor(self.forward_data)\n",
    "        self.backward_data = torch.tensor(self.backward_data)\n",
    "\n",
    "\n",
    "    def __getitem__(self, index):\n",
    "        return self.tokens[index], self.label[index],self.forward_data[index],self.backward_data[index]\n",
    "\n",
    "    def __len__(self):\n",
    "        return self.tokens.shape[0]\n",
    "\n",
    "\n",
    "preProcessing = PreProcessing('sst_train_label.csv', 'sst_train_label.csv', 4)\n",
    "train_data = GetDatasets('sst_train_label.csv',\n",
    "                         preProcessing.vocab, preProcessing.word2idx, True)\n",
    "valid_data = GetDatasets('sst_valid_label.csv',\n",
    "                         preProcessing.vocab, preProcessing.word2idx, True)\n",
    "test_data = GetDatasets('sst_test_label.csv',\n",
    "                        preProcessing.vocab, preProcessing.word2idx, True)\n",
    "\n",
    "# do for multi_nli dataset\n",
    "# preProcessing = PreProcessing('multi_nli_train.csv','multi_nli_train.csv',4)\n",
    "# train_data = GetDatasets('multi_nli_train.csv',preProcessing.vocab,preProcessing.word2idx,True)\n",
    "# valid_data = GetDatasets('multi_nli_valid.csv',preProcessing.vocab,preProcessing.word2idx,True)\n",
    "# test_data = GetDatasets('multi_nli_test.csv',   \n",
    "#                         preProcessing.vocab, preProcessing.word2idx, True)\n",
    "\n",
    "    \n"
   ]
  },
  {
   "cell_type": "code",
   "execution_count": 3,
   "metadata": {},
   "outputs": [],
   "source": [
    "VOCAB_SIZE = preProcessing.vocabSize\n",
    "BATCH_SIZE = 32\n",
    "EMBEDDING_DIM = 300\n",
    "HIDDEN_DIM = 100\n",
    "    "
   ]
  },
  {
   "cell_type": "code",
   "execution_count": 4,
   "metadata": {},
   "outputs": [],
   "source": [
    "train_dataloader = torch.utils.data.DataLoader(\n",
    "    train_data, batch_size=BATCH_SIZE, shuffle=False)\n",
    "valid_dataloader = torch.utils.data.DataLoader(\n",
    "    valid_data, batch_size=BATCH_SIZE, shuffle=False)\n",
    "test_dataloader = torch.utils.data.DataLoader(test_data, batch_size=BATCH_SIZE, shuffle=False)\n"
   ]
  },
  {
   "cell_type": "code",
   "execution_count": 5,
   "metadata": {},
   "outputs": [],
   "source": [
    "tokens_test, label_test, forward_data_test, backward_data_test = next(iter(test_dataloader))"
   ]
  },
  {
   "cell_type": "code",
   "execution_count": 6,
   "metadata": {},
   "outputs": [],
   "source": [
    "# load the glove embeddings\n",
    "import numpy as np \n",
    "glove_file = './glove.6B/glove.6B.300d.txt'\n",
    "glove_dict = {}\n",
    "with open(glove_file, 'r',encoding = 'utf-8') as f:\n",
    "    for line in f:\n",
    "        tokens = line.strip().split(' ')\n",
    "        word = tokens[0]\n",
    "        embedding = np.array([float(val) for val in tokens[1:]])\n",
    "        glove_dict[word] = embedding\n",
    "\n",
    "# UNK and PAD embedding\n",
    "UNK_emb = np.mean(list(glove_dict.values()), axis=0)\n",
    "PAD_emb = np.zeros(300)\n"
   ]
  },
  {
   "cell_type": "code",
   "execution_count": 7,
   "metadata": {},
   "outputs": [
    {
     "name": "stdout",
     "output_type": "stream",
     "text": [
      "400000\n",
      "10814\n"
     ]
    }
   ],
   "source": [
    "import torch\n",
    "import torch.nn as nn\n",
    "import tqdm\n",
    "\n",
    "print(len(glove_dict))\n",
    "cnt = 0\n",
    "\n",
    "vocab = preProcessing.vocab\n",
    "embeddings = []\n",
    "for word in vocab:\n",
    "    if word == '<UNK>':\n",
    "        embeddings.append(UNK_emb)\n",
    "    elif word == '<PAD>':\n",
    "        embeddings.append(PAD_emb)\n",
    "    elif word in glove_dict:\n",
    "        cnt += 1\n",
    "        embeddings.append(glove_dict[word])\n",
    "    else:\n",
    "        emb = np.random.uniform(-0.25,0.25,300)\n",
    "        embeddings.append(emb)\n",
    "    \n",
    "\n",
    "print(cnt)\n"
   ]
  },
  {
   "cell_type": "code",
   "execution_count": null,
   "metadata": {},
   "outputs": [],
   "source": [
    "embeddings = torch.tensor(embeddings, dtype=torch.float)\n",
    "# embeddings = torch.stack(embeddings)\n",
    "embedding = nn.Embedding.from_pretrained(\n",
    "    embeddings, freeze=False, padding_idx=0)\n",
    "\n",
    "print(embedding.weight.shape)\n",
    "# save the embedding\n",
    "torch.save(embedding, 'embeddings2.pt')\n"
   ]
  },
  {
   "cell_type": "code",
   "execution_count": 5,
   "metadata": {},
   "outputs": [],
   "source": [
    "# laod from pickle \n",
    "import pickle \n",
    "embeddings = torch.load('embeddings1.pt')"
   ]
  },
  {
   "cell_type": "code",
   "execution_count": 6,
   "metadata": {},
   "outputs": [],
   "source": [
    "import torch\n",
    "import torch.nn as nn\n",
    "import torch.nn.functional as F\n",
    "import torch.optim as optim\n"
   ]
  },
  {
   "cell_type": "code",
   "execution_count": 11,
   "metadata": {},
   "outputs": [],
   "source": [
    "class ELMo(nn.Module):\n",
    "    def __init__(self, vocab_size, embedding_dim, hidden_dim, batch_size, embedding_matrix):\n",
    "        super(ELMo, self).__init__()\n",
    "        self.vocab_size = vocab_size\n",
    "        self.embedding_dim = embedding_dim\n",
    "        self.hidden_dim = hidden_dim\n",
    "        self.batch_size = batch_size\n",
    "        self.embedding = embedding_matrix\n",
    "        self.embedding.weight = nn.Parameter(\n",
    "            self.embedding.weight, requires_grad=True)\n",
    "        self.lstm1 = nn.LSTM(embedding_dim, hidden_dim,\n",
    "                             batch_first=True, bidirectional=True)\n",
    "        self.lstm2 = nn.LSTM(hidden_dim*2, hidden_dim,\n",
    "                             batch_first=True, bidirectional=True)\n",
    "        self.linear1 = nn.Linear(embedding_dim, hidden_dim)\n",
    "        self.linear_out = nn.Linear(hidden_dim*2, vocab_size)\n",
    "\n",
    "    def forward(self, back_data):\n",
    "        back_embed = self.embedding(back_data)\n",
    "        back_lstm1, _ = self.lstm1(back_embed)\n",
    "        back_lstm2, _ = self.lstm2(back_lstm1)\n",
    "        linear_out = self.linear_out(back_lstm2)\n",
    "        return linear_out\n"
   ]
  },
  {
   "cell_type": "code",
   "execution_count": 12,
   "metadata": {},
   "outputs": [
    {
     "name": "stdout",
     "output_type": "stream",
     "text": [
      "ELMo(\n",
      "  (embedding): Embedding(4208, 300, padding_idx=0)\n",
      "  (lstm1): LSTM(300, 100, batch_first=True, bidirectional=True)\n",
      "  (lstm2): LSTM(200, 100, batch_first=True, bidirectional=True)\n",
      "  (linear1): Linear(in_features=300, out_features=100, bias=True)\n",
      "  (linear_out): Linear(in_features=200, out_features=4208, bias=True)\n",
      ")\n"
     ]
    },
    {
     "data": {
      "text/plain": [
       "ELMo(\n",
       "  (embedding): Embedding(4208, 300, padding_idx=0)\n",
       "  (lstm1): LSTM(300, 100, batch_first=True, bidirectional=True)\n",
       "  (lstm2): LSTM(200, 100, batch_first=True, bidirectional=True)\n",
       "  (linear1): Linear(in_features=300, out_features=100, bias=True)\n",
       "  (linear_out): Linear(in_features=200, out_features=4208, bias=True)\n",
       ")"
      ]
     },
     "execution_count": 12,
     "metadata": {},
     "output_type": "execute_result"
    }
   ],
   "source": [
    "elmo = ELMo(VOCAB_SIZE, EMBEDDING_DIM, HIDDEN_DIM, BATCH_SIZE, embeddings)\n",
    "print(elmo)\n",
    "elmo.to(device)"
   ]
  },
  {
   "cell_type": "code",
   "execution_count": 13,
   "metadata": {},
   "outputs": [
    {
     "name": "stdout",
     "output_type": "stream",
     "text": [
      "Epoch:  0\n"
     ]
    },
    {
     "name": "stderr",
     "output_type": "stream",
     "text": [
      "Training: 100%|██████████| 267/267 [00:13<00:00, 19.54it/s]\n",
      "Validating: 100%|██████████| 35/35 [00:00<00:00, 57.89it/s]\n"
     ]
    },
    {
     "name": "stdout",
     "output_type": "stream",
     "text": [
      "Train Loss:  4.779400827286395 Valid Loss:  3.7984077317374094\n",
      "Epoch:  1\n"
     ]
    },
    {
     "name": "stderr",
     "output_type": "stream",
     "text": [
      "Training: 100%|██████████| 267/267 [00:13<00:00, 19.62it/s]\n",
      "Validating: 100%|██████████| 35/35 [00:00<00:00, 59.97it/s]\n"
     ]
    },
    {
     "name": "stdout",
     "output_type": "stream",
     "text": [
      "Train Loss:  3.3096246076433844 Valid Loss:  2.70591060093471\n",
      "Epoch:  2\n"
     ]
    },
    {
     "name": "stderr",
     "output_type": "stream",
     "text": [
      "Training: 100%|██████████| 267/267 [00:14<00:00, 18.72it/s]\n",
      "Validating: 100%|██████████| 35/35 [00:00<00:00, 59.30it/s]\n"
     ]
    },
    {
     "name": "stdout",
     "output_type": "stream",
     "text": [
      "Train Loss:  2.468619204639049 Valid Loss:  2.1101763010025025\n",
      "Epoch:  3\n"
     ]
    },
    {
     "name": "stderr",
     "output_type": "stream",
     "text": [
      "Training: 100%|██████████| 267/267 [00:14<00:00, 18.21it/s]\n",
      "Validating: 100%|██████████| 35/35 [00:00<00:00, 57.59it/s]\n"
     ]
    },
    {
     "name": "stdout",
     "output_type": "stream",
     "text": [
      "Train Loss:  1.9720159519031253 Valid Loss:  1.704502500806536\n",
      "Epoch:  4\n"
     ]
    },
    {
     "name": "stderr",
     "output_type": "stream",
     "text": [
      "Training: 100%|██████████| 267/267 [00:14<00:00, 18.02it/s]\n",
      "Validating: 100%|██████████| 35/35 [00:00<00:00, 51.41it/s]\n"
     ]
    },
    {
     "name": "stdout",
     "output_type": "stream",
     "text": [
      "Train Loss:  1.5931271872716897 Valid Loss:  1.3703721795763288\n",
      "Epoch:  5\n"
     ]
    },
    {
     "name": "stderr",
     "output_type": "stream",
     "text": [
      "Training: 100%|██████████| 267/267 [00:15<00:00, 17.24it/s]\n",
      "Validating: 100%|██████████| 35/35 [00:00<00:00, 53.03it/s]\n"
     ]
    },
    {
     "name": "stdout",
     "output_type": "stream",
     "text": [
      "Train Loss:  1.2789252895987435 Valid Loss:  1.1037614754268101\n",
      "Epoch:  6\n"
     ]
    },
    {
     "name": "stderr",
     "output_type": "stream",
     "text": [
      "Training: 100%|██████████| 267/267 [00:15<00:00, 17.28it/s]\n",
      "Validating: 100%|██████████| 35/35 [00:00<00:00, 53.99it/s]\n"
     ]
    },
    {
     "name": "stdout",
     "output_type": "stream",
     "text": [
      "Train Loss:  1.0236658107921872 Valid Loss:  0.885891614641462\n",
      "Epoch:  7\n"
     ]
    },
    {
     "name": "stderr",
     "output_type": "stream",
     "text": [
      "Training: 100%|██████████| 267/267 [00:15<00:00, 16.75it/s]\n",
      "Validating: 100%|██████████| 35/35 [00:00<00:00, 52.78it/s]\n"
     ]
    },
    {
     "name": "stdout",
     "output_type": "stream",
     "text": [
      "Train Loss:  0.8156230897269445 Valid Loss:  0.7094572561127799\n",
      "Epoch:  8\n"
     ]
    },
    {
     "name": "stderr",
     "output_type": "stream",
     "text": [
      "Training: 100%|██████████| 267/267 [00:17<00:00, 15.57it/s]\n",
      "Validating: 100%|██████████| 35/35 [00:00<00:00, 35.86it/s]\n"
     ]
    },
    {
     "name": "stdout",
     "output_type": "stream",
     "text": [
      "Train Loss:  0.6458909430084158 Valid Loss:  0.5670624605246952\n",
      "Epoch:  9\n"
     ]
    },
    {
     "name": "stderr",
     "output_type": "stream",
     "text": [
      "Training: 100%|██████████| 267/267 [00:17<00:00, 15.28it/s]\n",
      "Validating: 100%|██████████| 35/35 [00:00<00:00, 45.79it/s]\n"
     ]
    },
    {
     "name": "stdout",
     "output_type": "stream",
     "text": [
      "Train Loss:  0.5070010856742716 Valid Loss:  0.4521451984133039\n",
      "Epoch:  10\n"
     ]
    },
    {
     "name": "stderr",
     "output_type": "stream",
     "text": [
      "Training: 100%|██████████| 267/267 [00:19<00:00, 13.46it/s]\n",
      "Validating: 100%|██████████| 35/35 [00:01<00:00, 31.37it/s]\n"
     ]
    },
    {
     "name": "stdout",
     "output_type": "stream",
     "text": [
      "Train Loss:  0.3938212897000688 Valid Loss:  0.3588283334459577\n",
      "Epoch:  11\n"
     ]
    },
    {
     "name": "stderr",
     "output_type": "stream",
     "text": [
      "Training: 100%|██████████| 267/267 [00:20<00:00, 13.23it/s]\n",
      "Validating: 100%|██████████| 35/35 [00:00<00:00, 41.80it/s]\n"
     ]
    },
    {
     "name": "stdout",
     "output_type": "stream",
     "text": [
      "Train Loss:  0.30153917507285927 Valid Loss:  0.28374312136854446\n",
      "Epoch:  12\n"
     ]
    },
    {
     "name": "stderr",
     "output_type": "stream",
     "text": [
      "Training: 100%|██████████| 267/267 [00:19<00:00, 13.55it/s]\n",
      "Validating: 100%|██████████| 35/35 [00:01<00:00, 27.90it/s]\n"
     ]
    },
    {
     "name": "stdout",
     "output_type": "stream",
     "text": [
      "Train Loss:  0.22943962563512924 Valid Loss:  0.22458876456533158\n",
      "Epoch:  13\n"
     ]
    },
    {
     "name": "stderr",
     "output_type": "stream",
     "text": [
      "Training: 100%|██████████| 267/267 [00:20<00:00, 12.98it/s]\n",
      "Validating: 100%|██████████| 35/35 [00:00<00:00, 40.35it/s]\n"
     ]
    },
    {
     "name": "stdout",
     "output_type": "stream",
     "text": [
      "Train Loss:  0.1731847303636958 Valid Loss:  0.1798532085759299\n",
      "Epoch:  14\n"
     ]
    },
    {
     "name": "stderr",
     "output_type": "stream",
     "text": [
      "Training: 100%|██████████| 267/267 [00:20<00:00, 13.18it/s]\n",
      "Validating: 100%|██████████| 35/35 [00:00<00:00, 39.98it/s]\n"
     ]
    },
    {
     "name": "stdout",
     "output_type": "stream",
     "text": [
      "Train Loss:  0.12999079204844624 Valid Loss:  0.14369455065046038\n",
      "Epoch:  15\n"
     ]
    },
    {
     "name": "stderr",
     "output_type": "stream",
     "text": [
      "Training: 100%|██████████| 267/267 [00:23<00:00, 11.31it/s]\n",
      "Validating: 100%|██████████| 35/35 [00:01<00:00, 32.03it/s]\n"
     ]
    },
    {
     "name": "stdout",
     "output_type": "stream",
     "text": [
      "Train Loss:  0.09752149076274272 Valid Loss:  0.11717397059713092\n",
      "Epoch:  16\n"
     ]
    },
    {
     "name": "stderr",
     "output_type": "stream",
     "text": [
      "Training: 100%|██████████| 267/267 [00:21<00:00, 12.39it/s]\n",
      "Validating: 100%|██████████| 35/35 [00:00<00:00, 38.85it/s]\n"
     ]
    },
    {
     "name": "stdout",
     "output_type": "stream",
     "text": [
      "Train Loss:  0.07324357755649626 Valid Loss:  0.09693817081195967\n",
      "Epoch:  17\n"
     ]
    },
    {
     "name": "stderr",
     "output_type": "stream",
     "text": [
      "Training: 100%|██████████| 267/267 [00:21<00:00, 12.67it/s]\n",
      "Validating: 100%|██████████| 35/35 [00:00<00:00, 38.81it/s]\n"
     ]
    },
    {
     "name": "stdout",
     "output_type": "stream",
     "text": [
      "Train Loss:  0.05556146680527412 Valid Loss:  0.08041458310825485\n",
      "Epoch:  18\n"
     ]
    },
    {
     "name": "stderr",
     "output_type": "stream",
     "text": [
      "Training: 100%|██████████| 267/267 [00:23<00:00, 11.44it/s]\n",
      "Validating: 100%|██████████| 35/35 [00:01<00:00, 29.30it/s]\n"
     ]
    },
    {
     "name": "stdout",
     "output_type": "stream",
     "text": [
      "Train Loss:  0.04253731291280704 Valid Loss:  0.06780503530587469\n",
      "Epoch:  19\n"
     ]
    },
    {
     "name": "stderr",
     "output_type": "stream",
     "text": [
      "Training: 100%|██████████| 267/267 [00:20<00:00, 12.83it/s]\n",
      "Validating: 100%|██████████| 35/35 [00:00<00:00, 40.32it/s]"
     ]
    },
    {
     "name": "stdout",
     "output_type": "stream",
     "text": [
      "Train Loss:  0.03298011808638716 Valid Loss:  0.0582728525357587\n"
     ]
    },
    {
     "name": "stderr",
     "output_type": "stream",
     "text": [
      "\n"
     ]
    }
   ],
   "source": [
    "from tqdm import tqdm\n",
    "import torch.optim as optim\n",
    "import torch.nn as nn\n",
    "import torch\n",
    "\n",
    "def train_epoch(model, train_dataloader, optimizer, criterion):\n",
    "    model.train()\n",
    "    total_loss = 0\n",
    "    iter = 0\n",
    "    for (tokens, label, forward, backward) in tqdm(train_dataloader, desc='Training'):\n",
    "        forward = forward.to(device)\n",
    "        backward = backward.to(device)\n",
    "        optimizer.zero_grad()\n",
    "        output = model(backward)\n",
    "        loss = criterion(output.view(-1, VOCAB_SIZE), forward.view(-1))\n",
    "        loss.backward()\n",
    "        optimizer.step()\n",
    "        total_loss += loss.item()\n",
    "        iter += 1\n",
    "        if iter%1000 == 0:\n",
    "            print('Iteration: ', iter, 'Train Loss: ', total_loss/iter)\n",
    "    return total_loss/len(train_dataloader)\n",
    "\n",
    "def validate_epoch(model, valid_dataloader, criterion):\n",
    "    model.eval()\n",
    "    total_loss = 0\n",
    "    iter = 0\n",
    "    with torch.no_grad():\n",
    "        for (tokens, label, forward, backward) in tqdm(valid_dataloader, desc='Validating'):\n",
    "            forward = forward.to(device)\n",
    "            backward = backward.to(device)\n",
    "            output = model(backward)\n",
    "            loss = criterion(output.view(-1, VOCAB_SIZE), forward.view(-1))\n",
    "            total_loss += loss.item()\n",
    "            iter += 1\n",
    "            if iter%500 == 0:\n",
    "                print('Iteration: ', iter, 'Validation Loss: ', total_loss/iter)\n",
    "    return total_loss/len(valid_dataloader)\n",
    "\n",
    "def train_model(model, train_dataloader, valid_dataloader, optimizer, criterion, epochs):\n",
    "    best_valid_loss = float('inf')\n",
    "    losses = {'epoch': [], 'train_loss': [], 'valid_loss': []}\n",
    "    for epoch in range(epochs):\n",
    "        print('Epoch: ', epoch)\n",
    "        train_loss = train_epoch(model, train_dataloader, optimizer, criterion)\n",
    "        valid_loss = validate_epoch(model, valid_dataloader, criterion)\n",
    "        print('Train Loss: ', train_loss, 'Valid Loss: ', valid_loss)\n",
    "        losses['epoch'].append(epoch)\n",
    "        losses['train_loss'].append(train_loss)\n",
    "        losses['valid_loss'].append(valid_loss)\n",
    "        if valid_loss < best_valid_loss:\n",
    "            best_valid_loss = valid_loss\n",
    "            # torch.save(model.state_dict(), 'elmo_model1.pt')\n",
    "            # print('Model saved')\n",
    "    return losses\n",
    "\n",
    "optimizer = optim.Adam(elmo.parameters(), lr=0.001)\n",
    "criterion = nn.CrossEntropyLoss(ignore_index=0)\n",
    "losses = train_model(elmo, train_dataloader, valid_dataloader, optimizer, criterion, 20)\n"
   ]
  },
  {
   "cell_type": "code",
   "execution_count": 14,
   "metadata": {},
   "outputs": [
    {
     "data": {
      "image/png": "[encoded data removed]",
      "text/plain": [
       "<Figure size 640x480 with 1 Axes>"
      ]
     },
     "metadata": {},
     "output_type": "display_data"
    },
    {
     "data": {
      "text/plain": [
       "<Figure size 640x480 with 0 Axes>"
      ]
     },
     "metadata": {},
     "output_type": "display_data"
    }
   ],
   "source": [
    "from matplotlib import pyplot as plt\n",
    "plt.plot(losses['epoch'], losses['train_loss'], label='train')\n",
    "plt.plot(losses['epoch'], losses['valid_loss'], label='valid')\n",
    "# mark with circle \n",
    "plt.scatter(losses['epoch'], losses['train_loss'], label='train')\n",
    "plt.scatter(losses['epoch'], losses['valid_loss'], label='valid')\n",
    "plt.title('ELMo Loss')\n",
    "plt.xlabel('Epoch')\n",
    "plt.ylabel('Loss')\n",
    "plt.legend()\n",
    "plt.show()\n",
    "plt.savefig('elmo1_loss.png')\n"
   ]
  },
  {
   "cell_type": "code",
   "execution_count": 15,
   "metadata": {},
   "outputs": [
    {
     "data": {
      "text/plain": [
       "<All keys matched successfully>"
      ]
     },
     "execution_count": 15,
     "metadata": {},
     "output_type": "execute_result"
    }
   ],
   "source": [
    "elmo.load_state_dict(torch.load('elmo_model1.pt'))"
   ]
  },
  {
   "cell_type": "code",
   "execution_count": 16,
   "metadata": {},
   "outputs": [
    {
     "name": "stdout",
     "output_type": "stream",
     "text": [
      "embedding.weight tensor([[ 0.0000,  0.0000,  0.0000,  ...,  0.0000,  0.0000,  0.0000],\n",
      "        [ 0.1528, -0.2565, -0.1229,  ...,  0.3585,  0.4474, -0.2414],\n",
      "        [ 0.0763,  0.2342,  0.1978,  ..., -0.0429, -0.4216,  0.2478],\n",
      "        ...,\n",
      "        [ 0.7780,  0.2695,  0.0327,  ..., -0.4202,  0.2208, -0.3912],\n",
      "        [ 0.2699, -0.2345, -0.0953,  ..., -0.5308,  0.0541,  0.0560],\n",
      "        [ 0.0957,  0.4627,  0.0849,  ..., -0.3215, -0.1234, -0.2183]],\n",
      "       device='cuda:0') torch.Size([4208, 300])\n",
      "lstm1.weight_ih_l0 tensor([[ 0.0325,  0.0244,  0.0233,  ..., -0.0488,  0.0442, -0.1627],\n",
      "        [ 0.0987, -0.1851,  0.0087,  ...,  0.0095,  0.0662, -0.0979],\n",
      "        [ 0.0114, -0.0122, -0.1435,  ..., -0.2266, -0.0044, -0.0289],\n",
      "        ...,\n",
      "        [ 0.0501,  0.0896,  0.1861,  ...,  0.0297,  0.0052, -0.1195],\n",
      "        [-0.0526,  0.1304,  0.0380,  ..., -0.0514, -0.1348,  0.4901],\n",
      "        [-0.3702,  0.3825, -0.0636,  ..., -0.1133, -0.1338, -0.0523]],\n",
      "       device='cuda:0') torch.Size([400, 300])\n",
      "lstm1.weight_hh_l0 tensor([[ 0.2807, -0.2562, -0.0110,  ...,  0.1990,  0.0323,  0.1588],\n",
      "        [ 0.2376,  0.0112, -0.0122,  ...,  0.1133,  0.0153,  0.0639],\n",
      "        [ 0.2539, -0.0129,  0.0932,  ...,  0.1156, -0.0522,  0.0361],\n",
      "        ...,\n",
      "        [-0.0221,  0.0338,  0.0454,  ...,  0.1369, -0.0571,  0.0457],\n",
      "        [ 0.1275, -0.0500,  0.0532,  ..., -0.0590, -0.0475, -0.0328],\n",
      "        [-0.1067,  0.0269,  0.0881,  ..., -0.1246,  0.0536, -0.0168]],\n",
      "       device='cuda:0') torch.Size([400, 100])\n",
      "lstm1.bias_ih_l0 tensor([ 2.0082e-01,  1.3315e-02, -8.2294e-04,  5.6322e-02, -5.2333e-03,\n",
      "         2.3251e-02,  4.0988e-02,  5.1331e-02,  8.6495e-02,  9.1481e-02,\n",
      "         1.4919e-01, -1.4510e-03,  1.5778e-01,  7.6658e-03,  7.2710e-02,\n",
      "        -4.4249e-02,  5.8097e-03,  1.8467e-01, -4.7316e-03,  9.3003e-02,\n",
      "         1.6365e-01,  1.7021e-01,  1.3378e-01,  1.4159e-01,  1.4144e-01,\n",
      "         5.9660e-02,  1.3205e-01,  3.1042e-03,  6.2397e-02,  1.0576e-01,\n",
      "        -1.5400e-02, -2.1713e-03,  8.9769e-02, -9.2386e-03,  1.8612e-01,\n",
      "         8.5256e-02,  5.3016e-02,  1.5139e-01,  9.3075e-02,  1.6904e-01,\n",
      "         1.1680e-01,  9.6034e-02,  1.2656e-01,  1.3500e-02,  1.6799e-01,\n",
      "         1.1303e-01, -2.2198e-02,  3.1068e-01,  1.5326e-01, -1.6918e-02,\n",
      "         6.6478e-02,  4.0573e-02,  6.6377e-02,  7.2369e-02,  3.7039e-02,\n",
      "         1.1713e-01,  1.6874e-01,  8.2477e-02,  1.1271e-01,  1.0632e-01,\n",
      "        -2.1399e-02,  1.6557e-02,  7.2909e-02,  1.6233e-01,  9.1267e-02,\n",
      "         8.4139e-02,  1.0386e-01,  1.9475e-01,  1.5512e-01,  7.0952e-03,\n",
      "         3.0853e-02,  1.2379e-01,  3.7039e-02,  1.6699e-01,  1.1606e-01,\n",
      "         1.9894e-02,  9.8257e-02,  4.9672e-02,  1.2978e-02, -2.3002e-02,\n",
      "         1.2406e-01,  1.6066e-01,  3.4879e-02,  2.1254e-01,  1.3954e-01,\n",
      "         9.2062e-02,  1.6441e-01,  3.1687e-01,  5.2021e-02,  1.1154e-01,\n",
      "         7.0833e-02, -3.1955e-03,  1.3248e-01,  2.1850e-01,  1.8950e-01,\n",
      "         1.3438e-01,  7.0473e-02,  1.3645e-01,  1.5557e-01,  8.3099e-02,\n",
      "        -6.5281e-02,  2.5750e-02, -6.9706e-02,  3.6220e-03, -6.4633e-02,\n",
      "         3.5129e-02,  1.1213e-03,  1.0741e-02,  1.1832e-01,  5.8060e-02,\n",
      "         4.1459e-02,  5.1837e-02, -2.9225e-02, -2.7047e-02,  7.4646e-02,\n",
      "         6.8618e-02,  1.3758e-02,  1.0153e-01,  2.6127e-02,  9.0390e-02,\n",
      "         7.7790e-03,  7.3214e-02, -6.2281e-02,  1.1703e-01,  3.2704e-02,\n",
      "        -1.0498e-02,  6.4105e-02, -3.3095e-02,  9.4491e-02,  9.1142e-02,\n",
      "         1.1915e-01, -5.3429e-02,  6.8364e-02, -9.9131e-03, -5.1233e-02,\n",
      "         1.2583e-01,  6.4292e-02,  1.1358e-01, -5.5828e-02,  1.1980e-01,\n",
      "         1.1417e-01,  8.0396e-02,  6.4955e-03,  1.2408e-03, -2.0162e-03,\n",
      "        -7.5315e-02, -4.2479e-02, -4.8561e-03,  6.2571e-02, -2.2821e-03,\n",
      "         7.6035e-02, -5.6204e-02, -2.5977e-02, -4.6444e-02,  1.0019e-01,\n",
      "         8.2702e-02,  7.9555e-02,  9.4921e-02,  2.5975e-02, -3.9909e-02,\n",
      "        -4.5693e-03,  7.1282e-02,  8.2150e-03,  5.2454e-03,  5.5196e-02,\n",
      "        -1.8203e-02, -9.7076e-03, -3.6726e-02, -6.6277e-03,  7.9220e-02,\n",
      "         1.0463e-01,  4.6731e-02, -2.7361e-02,  4.1453e-02, -5.8380e-02,\n",
      "         4.8126e-02,  8.3383e-02,  7.2959e-02,  5.7859e-02,  7.8310e-03,\n",
      "         7.8786e-02, -6.4247e-02,  2.1233e-02,  1.7578e-02,  6.2843e-02,\n",
      "         1.1182e-01,  1.5729e-01,  5.0776e-02,  3.8453e-02,  2.8859e-02,\n",
      "        -1.6388e-02,  7.3949e-02,  9.9499e-02, -3.5001e-02,  1.5753e-02,\n",
      "         1.2546e-01, -3.9776e-02,  4.8578e-02, -4.3196e-02,  2.3170e-02,\n",
      "         1.4045e-01, -5.5665e-02,  3.2671e-02, -5.2719e-02,  5.2487e-03,\n",
      "        -6.7185e-02, -4.3496e-02, -1.3689e-01,  3.9711e-02,  9.4542e-02,\n",
      "         5.8648e-02, -1.2029e-01,  2.2717e-02,  1.1061e-01, -1.2204e-01,\n",
      "         1.5161e-02, -1.0672e-01,  5.2871e-02, -1.0313e-02, -1.3433e-02,\n",
      "        -2.4318e-02,  7.9209e-02, -7.3836e-02, -1.3308e-02, -1.2971e-01,\n",
      "         8.9531e-02, -2.5232e-02, -2.1447e-02, -4.8008e-02, -7.1507e-02,\n",
      "         4.3344e-02, -9.9307e-02, -2.1740e-02,  4.4268e-02, -1.2556e-01,\n",
      "        -1.4205e-01, -2.4689e-03,  1.2714e-01, -9.8163e-02,  1.3274e-01,\n",
      "         6.0826e-02,  1.0569e-02,  1.1075e-01,  3.4584e-02,  9.6106e-02,\n",
      "         4.0544e-02,  1.2534e-01, -9.9448e-02,  1.0261e-01, -1.3762e-01,\n",
      "        -4.2401e-02,  6.3474e-02,  2.1015e-03, -8.3895e-02,  5.5809e-02,\n",
      "         8.5989e-02, -9.8014e-02, -1.2461e-02, -1.7976e-02, -4.3713e-02,\n",
      "         4.5245e-02,  7.2408e-02, -8.2403e-02,  4.2065e-03, -1.3332e-01,\n",
      "        -1.7153e-02, -1.0539e-01, -3.0503e-02, -3.6770e-02, -1.1029e-01,\n",
      "        -7.8647e-02, -1.6237e-01, -2.1996e-02,  8.1691e-02,  1.1716e-01,\n",
      "        -5.4953e-02, -1.0851e-01, -1.0494e-01, -1.0170e-01,  6.3248e-02,\n",
      "        -2.3187e-02,  3.8729e-02, -4.2939e-02, -1.8052e-02,  4.7237e-02,\n",
      "        -1.2474e-01,  1.6363e-01,  6.7595e-03, -1.3349e-01, -9.5038e-02,\n",
      "         2.8810e-04,  7.9260e-02, -6.1604e-02,  7.0418e-02,  1.7212e-02,\n",
      "        -6.9357e-03,  1.3264e-01,  9.2523e-02,  9.0353e-02,  9.9625e-02,\n",
      "         3.2395e-01,  3.6458e-02,  7.3302e-02,  2.7972e-01, -3.2366e-02,\n",
      "         6.5214e-02,  3.9155e-02,  1.2087e-01,  1.1201e-01,  6.8035e-02,\n",
      "         1.2426e-01,  1.1007e-01,  1.9523e-01, -2.4630e-02,  2.1413e-01,\n",
      "        -4.7430e-02,  1.2428e-01,  1.9859e-01,  1.1365e-02, -3.5066e-02,\n",
      "         1.7495e-01,  2.6402e-02,  5.2031e-02,  1.9658e-01,  4.7072e-02,\n",
      "         3.0007e-03,  2.1733e-01,  1.2296e-01,  7.9142e-02,  6.2812e-02,\n",
      "        -1.2517e-02, -4.5324e-02,  1.4503e-01,  1.0194e-03,  1.1931e-01,\n",
      "         2.7561e-01,  1.1834e-01,  9.1801e-02,  1.9485e-01, -2.6864e-02,\n",
      "        -1.4924e-02,  1.7628e-01,  2.0552e-02,  9.7523e-02,  1.6885e-01,\n",
      "        -7.4383e-02,  1.1192e-01,  1.6993e-01,  1.0821e-01,  1.5403e-01,\n",
      "         9.4666e-02,  1.2063e-01,  5.4430e-02,  4.8195e-02,  2.7085e-02,\n",
      "         3.0293e-02, -2.2234e-02,  1.3412e-01,  4.1375e-02,  9.7297e-02,\n",
      "        -3.0964e-02,  2.8158e-02,  1.6273e-01,  9.9415e-02,  2.0505e-01,\n",
      "         3.7151e-03,  1.0134e-01,  1.6956e-01,  1.5164e-01,  9.5997e-02,\n",
      "        -5.5589e-02,  7.3855e-02,  8.7769e-03,  2.2177e-01,  9.8508e-02,\n",
      "        -3.1118e-02,  1.2346e-01, -4.2413e-02, -1.2438e-01,  2.9485e-02,\n",
      "         5.5446e-02,  6.2494e-02,  1.4096e-01,  1.9986e-01,  1.1486e-01,\n",
      "        -4.7841e-03,  1.1816e-01,  6.7000e-02,  8.9523e-02,  2.7936e-02,\n",
      "         6.7571e-02, -2.9941e-02,  1.8275e-01,  1.9377e-01,  1.4707e-01,\n",
      "         4.2985e-02,  1.1378e-01,  1.5051e-01,  9.2047e-02,  7.9226e-02],\n",
      "       device='cuda:0') torch.Size([400])\n",
      "lstm1.bias_hh_l0 tensor([ 2.1687e-01, -1.6365e-02,  5.3825e-02,  8.1663e-02,  1.0157e-01,\n",
      "        -6.0373e-02, -3.5699e-02,  1.9008e-01,  3.5609e-02,  4.6812e-02,\n",
      "         1.0009e-01,  4.5581e-02,  1.8083e-01,  2.8213e-02,  7.6883e-02,\n",
      "         1.0111e-01,  1.0154e-01,  8.0902e-02, -8.4806e-03, -1.0319e-02,\n",
      "         1.1767e-01,  1.4041e-01,  4.4129e-02, -2.1018e-02,  1.8760e-01,\n",
      "         7.8928e-02,  2.4638e-01, -3.2437e-03,  1.1560e-01,  1.6179e-01,\n",
      "         6.2629e-02,  1.8362e-02,  8.7295e-02,  1.2831e-02,  1.3253e-01,\n",
      "         1.2714e-01,  5.9039e-03,  2.7338e-02,  1.0926e-01,  5.2331e-02,\n",
      "        -2.1507e-02,  4.3161e-02,  1.4818e-01, -1.1410e-02,  1.0058e-01,\n",
      "         1.0675e-01,  7.7811e-02,  2.9762e-01,  1.7761e-01,  1.6718e-01,\n",
      "         7.0641e-02,  1.8303e-01,  5.6528e-02, -2.6567e-03,  5.8542e-02,\n",
      "         7.0071e-03,  1.2505e-01,  1.5937e-01,  1.6220e-01,  9.7448e-03,\n",
      "        -2.3316e-02,  1.4104e-01,  6.1333e-04,  4.9758e-02,  1.7519e-01,\n",
      "         1.4623e-01,  1.4801e-01,  1.4332e-01,  1.4082e-01,  1.2628e-01,\n",
      "         6.2187e-02,  1.3824e-01,  9.8191e-02,  9.4973e-02,  5.0508e-02,\n",
      "         1.0172e-01,  2.3448e-02,  3.4239e-02,  3.2560e-02,  7.6084e-02,\n",
      "         8.9856e-02,  8.2369e-02,  2.1512e-02,  2.5670e-01,  1.9725e-01,\n",
      "         2.6926e-02,  1.8392e-01,  1.9977e-01,  4.9873e-03,  4.2592e-04,\n",
      "         1.7410e-01, -1.0559e-02,  1.6314e-01,  2.0492e-01,  4.3267e-02,\n",
      "         1.6879e-01,  1.6150e-02,  1.0551e-02, -4.0446e-02,  1.0421e-01,\n",
      "         5.8142e-02, -2.9847e-02, -7.0135e-02,  8.2425e-02, -6.6105e-02,\n",
      "        -5.6387e-02,  7.1458e-03,  1.2874e-01,  1.1840e-01,  5.3664e-02,\n",
      "         6.0386e-02,  4.2049e-02,  4.9498e-02,  3.5660e-04,  4.8336e-02,\n",
      "         2.0823e-03,  2.6838e-02, -5.1912e-02,  8.4088e-02, -2.6025e-02,\n",
      "        -6.3606e-02, -5.9546e-02,  5.7777e-02,  5.0639e-02,  7.5120e-02,\n",
      "        -1.1061e-02, -1.0563e-02,  8.9646e-02,  1.1252e-01,  1.0117e-04,\n",
      "         5.9200e-02,  1.1607e-01, -9.6169e-02,  1.1989e-01,  1.1990e-01,\n",
      "         1.2810e-01,  9.9828e-02, -2.3439e-02,  3.7538e-02, -5.2448e-03,\n",
      "         4.9401e-02,  1.0402e-01, -6.7996e-03, -3.9944e-02,  5.5264e-02,\n",
      "         1.0352e-02,  6.8287e-02,  1.2614e-01, -4.7087e-03, -3.2436e-02,\n",
      "         1.0676e-01,  1.0244e-01,  7.3466e-02,  9.7600e-02, -8.2704e-03,\n",
      "        -2.9492e-02,  2.6482e-02,  1.2815e-01,  7.1451e-02, -3.5275e-02,\n",
      "        -2.9875e-02, -2.8157e-02,  6.0506e-02,  3.7804e-02,  6.5575e-02,\n",
      "        -4.4502e-03, -5.8221e-02,  8.5638e-02, -5.2147e-02,  1.2188e-01,\n",
      "         3.7281e-02,  3.6904e-02, -2.0699e-02, -9.2286e-02,  4.9556e-02,\n",
      "         3.7484e-02, -7.3430e-02,  3.3699e-02,  6.3955e-02,  5.4651e-02,\n",
      "        -9.8858e-03,  1.0701e-01,  8.2817e-02,  8.0986e-02, -3.4185e-02,\n",
      "         4.0945e-02,  2.9148e-02,  8.2494e-02, -3.6641e-03, -2.2838e-02,\n",
      "         2.7872e-02,  2.7773e-02,  6.0924e-02,  1.2219e-01, -4.7342e-02,\n",
      "         4.2131e-02,  6.8808e-02,  1.1381e-01, -6.5652e-02, -4.3260e-02,\n",
      "         6.4635e-03, -9.3098e-03,  1.2353e-02, -1.1614e-01,  3.4927e-04,\n",
      "        -9.2607e-02,  1.3333e-01, -1.0409e-01, -1.5175e-01,  3.4947e-02,\n",
      "         5.4432e-02,  1.5577e-02, -6.0725e-02, -2.3776e-02,  3.4791e-02,\n",
      "         1.0985e-01, -5.7706e-02,  1.1854e-01,  9.4561e-02, -9.3126e-02,\n",
      "        -1.3194e-01,  1.0254e-01,  4.8699e-02, -5.3579e-02, -6.1418e-02,\n",
      "         1.3328e-01, -1.4786e-01, -8.8224e-02,  4.1710e-02, -9.1293e-02,\n",
      "         6.4563e-02, -1.1990e-01,  2.7556e-02, -1.3711e-01, -3.4984e-02,\n",
      "        -1.5300e-01, -1.6510e-02, -2.3324e-02, -2.3406e-02,  2.9857e-03,\n",
      "         1.2342e-01,  1.0490e-01,  1.3279e-01, -1.4239e-02,  7.1465e-02,\n",
      "         2.5352e-02,  3.7974e-02, -3.9846e-04, -4.4214e-02, -1.0575e-01,\n",
      "        -1.1948e-01,  1.0293e-01,  9.2005e-04, -2.2549e-02,  1.3521e-01,\n",
      "        -2.6080e-02, -6.1970e-02,  1.3512e-01, -9.2449e-02, -1.3044e-01,\n",
      "        -9.3406e-02, -3.6897e-02, -1.8577e-02, -1.1174e-01, -1.3775e-01,\n",
      "        -4.3538e-02, -2.0397e-02, -1.2744e-01,  8.6972e-02, -9.4683e-02,\n",
      "        -1.3166e-01, -4.3812e-02,  3.4141e-02,  1.6076e-01,  5.5589e-02,\n",
      "        -1.2366e-01, -1.0779e-01, -7.3819e-02, -7.4995e-03,  4.0771e-02,\n",
      "         3.7776e-02,  6.6692e-02, -5.8466e-02, -8.2417e-02,  2.9367e-03,\n",
      "        -4.4066e-02, -3.0603e-02, -2.1396e-02,  1.7444e-02, -1.0179e-02,\n",
      "         2.3281e-02,  8.0825e-02, -8.6397e-02,  1.0973e-01, -4.8769e-03,\n",
      "         2.0803e-02,  1.4266e-01, -3.7218e-02,  2.1799e-02,  7.8308e-02,\n",
      "         3.2112e-01,  1.7719e-02,  2.0576e-02,  1.4724e-01,  1.0542e-01,\n",
      "         1.5897e-02,  7.9700e-02,  1.1683e-01,  1.7502e-01,  7.8369e-02,\n",
      "         1.6438e-01,  2.5906e-01,  9.6891e-02,  8.0940e-02,  2.0216e-01,\n",
      "         3.0878e-02,  1.2764e-01,  1.0020e-01,  6.8027e-02, -2.9410e-02,\n",
      "         4.8316e-02,  5.4312e-03,  8.8952e-02,  8.8142e-02,  7.3497e-02,\n",
      "         7.0016e-02,  7.3603e-02,  1.6155e-02, -2.5984e-02,  4.2086e-02,\n",
      "        -3.7350e-02, -5.4620e-02,  1.0842e-01, -1.3129e-02,  5.4055e-02,\n",
      "         1.6576e-01,  1.1726e-01,  8.4491e-02,  1.2607e-01,  1.1529e-02,\n",
      "         1.5062e-02,  2.8624e-02,  2.0806e-03,  1.4060e-01,  1.3772e-01,\n",
      "         7.2030e-03, -1.7824e-02,  1.7075e-01,  1.1845e-01,  1.0609e-01,\n",
      "        -4.5852e-02,  9.9827e-02, -1.1141e-02,  1.5416e-02, -3.2579e-04,\n",
      "         6.5866e-02, -3.4908e-02,  1.3907e-01,  8.6410e-02,  1.3556e-01,\n",
      "         1.3258e-01, -3.8633e-02,  1.5471e-01,  2.8827e-02,  2.8059e-01,\n",
      "        -5.2950e-02,  9.1340e-02,  1.2044e-01,  5.4657e-02, -3.8737e-02,\n",
      "        -6.5634e-02,  3.1187e-02,  9.8366e-02,  2.3827e-01,  3.2645e-02,\n",
      "         8.2010e-02,  9.9916e-03,  9.4528e-02,  2.2379e-02,  1.4211e-01,\n",
      "         8.0146e-02,  1.0271e-01, -1.6441e-02,  2.1151e-01,  2.3030e-01,\n",
      "         1.2807e-01,  1.6736e-01,  1.2406e-01,  1.6283e-02,  1.3939e-01,\n",
      "         9.7201e-02, -1.9590e-02,  9.6770e-02,  1.6292e-01,  5.2428e-02,\n",
      "        -1.8503e-02,  2.6504e-01,  3.9031e-02,  4.4478e-02,  5.2912e-02],\n",
      "       device='cuda:0') torch.Size([400])\n",
      "lstm1.weight_ih_l0_reverse tensor([[ 0.0047, -0.1244,  0.0802,  ..., -0.0764,  0.0895,  0.0091],\n",
      "        [ 0.0493, -0.0218, -0.0195,  ...,  0.0385, -0.1191,  0.0047],\n",
      "        [-0.0508,  0.0675, -0.0605,  ..., -0.1050,  0.1039, -0.0219],\n",
      "        ...,\n",
      "        [-0.0242, -0.0334,  0.4707,  ..., -0.0787, -0.1118, -0.0892],\n",
      "        [-0.0262,  0.0664, -0.0529,  ...,  0.0659,  0.0219, -0.1096],\n",
      "        [-0.0048, -0.0234, -0.0644,  ..., -0.0142,  0.0566, -0.0466]],\n",
      "       device='cuda:0') torch.Size([400, 300])\n",
      "lstm1.weight_hh_l0_reverse tensor([[-0.1079, -0.0200,  0.0918,  ..., -0.1215, -0.0041,  0.0486],\n",
      "        [-0.0278, -0.0088,  0.0503,  ...,  0.0281,  0.0260, -0.0244],\n",
      "        [-0.2430, -0.1799,  0.1704,  ..., -0.0371, -0.0952, -0.0420],\n",
      "        ...,\n",
      "        [-0.0474, -0.0283,  0.0220,  ...,  0.0658,  0.0224,  0.0595],\n",
      "        [-0.1380, -0.2504,  0.1693,  ...,  0.0962, -0.0961, -0.0013],\n",
      "        [-0.1611, -0.2274,  0.1794,  ..., -0.1889,  0.0298, -0.0468]],\n",
      "       device='cuda:0') torch.Size([400, 100])\n",
      "lstm1.bias_ih_l0_reverse tensor([ 1.4296e-01,  1.2524e-02,  1.0439e-01,  2.2136e-01,  5.2066e-03,\n",
      "        -4.8664e-02,  1.0689e-01,  2.0576e-01,  4.8945e-02,  3.0163e-02,\n",
      "         8.3407e-02,  2.2328e-01, -6.6338e-02,  5.4393e-03, -1.6791e-02,\n",
      "         8.9498e-02,  1.6963e-01, -3.7566e-02,  1.1949e-01,  1.6520e-01,\n",
      "         4.8621e-03,  3.1415e-02,  5.5145e-02,  2.4806e-01,  3.5569e-02,\n",
      "         1.2068e-01, -5.0057e-03,  3.8979e-02,  1.4317e-02,  1.4837e-02,\n",
      "         5.7592e-02,  9.1181e-02,  5.8377e-02,  9.2048e-02, -1.0413e-02,\n",
      "         4.7545e-02, -3.0295e-02, -1.0589e-02, -1.5487e-02,  1.3238e-01,\n",
      "        -4.5964e-02, -2.1107e-02,  1.7258e-01,  7.0659e-02,  8.0290e-02,\n",
      "         1.1997e-02,  7.0512e-02,  8.4375e-03,  6.7908e-02,  1.8807e-01,\n",
      "         6.6255e-02,  4.8455e-02,  7.5949e-02,  7.1337e-02,  7.1934e-02,\n",
      "         1.2740e-01,  1.8617e-01,  1.5754e-01, -4.7268e-02,  7.6074e-02,\n",
      "         9.1930e-02, -1.8941e-02, -4.9842e-02, -1.8150e-02,  1.2640e-01,\n",
      "         5.2692e-02,  1.1102e-01,  8.6076e-02,  7.0705e-02,  1.2205e-01,\n",
      "         1.1480e-01,  1.3876e-01, -1.7333e-03,  2.1018e-01,  8.9873e-02,\n",
      "        -1.0946e-02,  2.1445e-01, -2.3707e-02,  8.7197e-03,  4.8991e-02,\n",
      "         9.8213e-03,  1.2475e-01, -3.9704e-02,  1.4716e-02, -1.1637e-02,\n",
      "         4.1382e-03,  4.2955e-03,  7.8773e-02,  1.3457e-01,  1.1176e-01,\n",
      "         7.2781e-02,  2.1544e-01,  1.1080e-01,  3.7678e-02, -1.8225e-02,\n",
      "         3.8739e-02,  2.1040e-01,  1.4082e-01,  2.5147e-01,  1.9186e-01,\n",
      "        -2.3370e-02,  3.5780e-02, -2.4306e-02, -7.0133e-03, -5.7298e-02,\n",
      "         1.5619e-02,  4.6891e-03, -3.7569e-02,  9.2078e-02, -5.3062e-02,\n",
      "        -2.8085e-02, -2.3463e-01, -2.4123e-02, -2.7003e-03,  5.0531e-02,\n",
      "         4.9673e-02, -1.7089e-01,  4.4208e-02, -8.7220e-02, -3.4748e-02,\n",
      "         1.1981e-01,  1.2619e-01, -3.8575e-02, -1.8549e-01, -1.3416e-02,\n",
      "         1.0601e-01, -1.1385e-04, -6.4074e-02,  5.8860e-03,  2.1950e-02,\n",
      "        -6.5676e-02,  1.2404e-01,  6.8448e-02, -3.4663e-02,  1.0641e-01,\n",
      "         1.0631e-02,  1.1455e-02, -1.1562e-03,  1.3267e-01,  3.4761e-02,\n",
      "         5.2313e-02,  2.2145e-02, -3.4437e-02,  8.6398e-03,  6.4941e-02,\n",
      "         8.1994e-02,  7.8325e-02,  1.3364e-01,  1.2036e-01, -9.6228e-02,\n",
      "        -1.9081e-02,  5.8635e-03,  8.0348e-03,  7.4281e-02, -8.4524e-03,\n",
      "         7.9425e-03, -2.2857e-01, -3.0642e-02,  1.3094e-02,  8.1119e-02,\n",
      "         2.7823e-02,  2.5652e-02, -4.5579e-02,  1.0728e-01,  1.0817e-01,\n",
      "         5.6494e-02,  1.9832e-02,  9.4666e-02,  7.8971e-03, -7.5023e-04,\n",
      "        -5.4300e-02,  5.2952e-02,  1.0197e-01,  4.6083e-02, -7.0756e-02,\n",
      "         6.4918e-02, -9.8804e-02,  8.7511e-02,  1.1582e-01,  6.3219e-02,\n",
      "        -1.0601e-01,  1.0171e-01,  2.4505e-02,  1.1393e-02,  8.4426e-02,\n",
      "        -2.6547e-02,  3.0902e-02,  1.6802e-02,  3.1352e-02,  2.6846e-02,\n",
      "         6.1179e-02, -7.4121e-03,  2.0305e-02,  1.1664e-01, -4.9572e-02,\n",
      "         1.0635e-01,  1.6635e-01,  4.7313e-02, -3.2704e-02, -1.7247e-01,\n",
      "        -1.1437e-01, -6.6169e-02,  3.3530e-03, -8.7893e-03,  1.3244e-01,\n",
      "        -4.9609e-02, -3.5186e-02,  7.3741e-02, -3.0153e-02, -7.9450e-02,\n",
      "        -1.2414e-01, -4.7566e-02, -1.9522e-02,  3.1301e-02,  6.7939e-02,\n",
      "         1.0361e-01,  2.6842e-02, -9.3075e-02, -9.5232e-03, -9.5963e-02,\n",
      "         1.1773e-01, -1.2349e-01,  1.2396e-01, -5.6959e-02, -9.3479e-02,\n",
      "        -7.6034e-03,  3.9138e-02, -3.1243e-02, -1.4270e-02, -1.8805e-02,\n",
      "         7.4763e-02,  1.0402e-01, -4.7143e-02, -1.0638e-01,  1.1279e-01,\n",
      "         2.7313e-02,  6.8920e-02, -1.0732e-01,  9.3274e-03, -1.2258e-01,\n",
      "         1.2696e-03,  4.6692e-02,  2.8661e-02, -4.8396e-02,  1.0394e-01,\n",
      "        -9.0188e-02, -1.0373e-01, -8.4983e-02,  4.9555e-02,  5.4686e-02,\n",
      "         7.2718e-02,  1.0130e-01, -9.6715e-03, -4.5808e-02,  1.1204e-01,\n",
      "        -6.3115e-02, -8.8225e-02, -4.1991e-02, -3.8726e-02,  1.8097e-02,\n",
      "        -3.9116e-03,  7.0274e-02, -1.3561e-01, -4.9883e-02,  2.3035e-02,\n",
      "         1.2468e-01, -1.0452e-01, -6.1781e-02,  7.7392e-02, -1.1654e-01,\n",
      "         2.4041e-02, -8.1257e-02, -1.1961e-01,  2.4607e-02,  1.1784e-01,\n",
      "        -1.6409e-03, -9.0438e-03, -1.0353e-01,  6.9463e-02, -1.2959e-01,\n",
      "        -3.5981e-02,  1.0499e-01, -1.3603e-01,  5.0309e-02,  4.7051e-02,\n",
      "        -4.4256e-02, -4.3370e-02, -1.1894e-01, -6.2377e-02,  1.3439e-01,\n",
      "         3.0380e-02,  8.8940e-02, -4.6520e-02,  3.6671e-02, -3.7177e-02,\n",
      "        -2.4273e-02, -1.3026e-01, -4.9687e-02, -1.0579e-01, -8.4226e-02,\n",
      "        -1.2821e-01, -3.5440e-02,  1.5539e-01,  1.4882e-01,  7.5830e-02,\n",
      "         3.1150e-02,  2.7459e-02,  1.9424e-01,  4.6267e-03,  7.7427e-02,\n",
      "         6.9137e-02,  1.4305e-01, -1.2651e-02, -7.4268e-02, -1.7467e-02,\n",
      "         6.3086e-02,  2.1167e-01,  3.6419e-02,  2.6937e-01,  1.1406e-01,\n",
      "         7.1063e-02,  4.4425e-02,  4.1906e-02,  3.1983e-01,  6.6298e-03,\n",
      "         2.0320e-02,  6.3359e-02, -6.1881e-02, -9.4796e-02,  3.2961e-04,\n",
      "        -2.2956e-02, -2.1087e-02, -9.2579e-02,  1.1827e-02,  9.1209e-02,\n",
      "        -7.7211e-02, -8.7680e-02,  1.0685e-01,  2.6212e-02,  2.9203e-04,\n",
      "         4.1998e-03,  1.4693e-01,  1.4724e-01,  1.0941e-01, -7.9779e-02,\n",
      "        -4.6306e-02,  7.1045e-02,  7.8208e-02,  1.7333e-01,  2.4930e-01,\n",
      "         1.0496e-02,  1.3243e-02,  6.3499e-04, -1.0815e-01,  1.8716e-01,\n",
      "         1.3408e-01,  2.5662e-01, -5.0231e-02,  4.9656e-02,  4.5957e-03,\n",
      "         1.6767e-01, -3.0198e-02,  7.4223e-03,  9.6834e-02, -2.1634e-02,\n",
      "        -8.9967e-02,  4.7783e-02,  1.5611e-02,  3.7090e-02,  4.3107e-02,\n",
      "        -1.0201e-02,  1.4159e-01, -6.9497e-02,  3.4060e-02, -2.7812e-02,\n",
      "         1.6032e-01,  1.0417e-01,  8.1004e-02,  4.3919e-02, -1.0964e-02,\n",
      "         1.3212e-01, -6.3789e-03,  1.7708e-02,  1.7613e-02, -1.5228e-01,\n",
      "        -1.8372e-02,  6.2650e-02,  6.4728e-02,  5.9721e-02,  3.1595e-03,\n",
      "         7.8595e-02,  2.2085e-01,  8.5731e-02, -8.5930e-02, -7.3457e-02,\n",
      "         4.5332e-03, -4.0804e-02,  8.3910e-02,  2.0720e-01,  1.6931e-01],\n",
      "       device='cuda:0') torch.Size([400])\n",
      "lstm1.bias_hh_l0_reverse tensor([-4.1651e-02, -6.5689e-03,  1.3167e-01,  1.1184e-01,  1.0430e-02,\n",
      "         4.1292e-04,  6.1308e-02,  3.3837e-02,  6.9775e-02,  1.3809e-01,\n",
      "         2.0645e-02,  1.0931e-01,  1.0149e-01,  3.1510e-02,  5.5791e-02,\n",
      "         6.6579e-02,  1.1728e-01,  7.9023e-03,  2.0500e-01,  6.5432e-02,\n",
      "         4.6539e-02,  7.9197e-02,  7.8429e-02,  1.9552e-01, -9.2273e-03,\n",
      "         9.3525e-02, -2.5787e-02, -1.3004e-02, -4.6313e-02, -1.3912e-02,\n",
      "         4.3977e-02,  1.8952e-02,  2.9653e-02,  1.1194e-02,  1.2697e-01,\n",
      "         9.5619e-02,  1.5745e-01,  1.2654e-01, -1.7378e-02, -2.2559e-02,\n",
      "         4.2072e-02,  7.1558e-02,  7.7504e-02,  6.9612e-02,  4.9318e-02,\n",
      "         8.3042e-02,  8.4166e-02,  1.6043e-02, -1.7553e-02,  2.6674e-01,\n",
      "         1.3989e-01, -2.6772e-02,  2.1762e-02,  3.4924e-02,  7.6967e-02,\n",
      "         1.1527e-01,  1.6866e-01,  1.0238e-01,  7.0445e-03,  4.2938e-04,\n",
      "         8.9835e-02,  1.0173e-01,  1.2877e-01,  1.4656e-05,  1.3642e-01,\n",
      "        -2.2680e-02,  4.0958e-02,  1.0406e-01,  1.3057e-01, -4.5601e-02,\n",
      "         1.3374e-02,  9.5574e-02, -4.0809e-02,  1.6645e-01, -7.1860e-02,\n",
      "         1.4571e-01,  7.4280e-02,  4.9121e-02, -2.5827e-03,  6.9198e-02,\n",
      "        -3.7720e-03, -3.5523e-03,  8.7290e-02,  7.7410e-02, -4.0292e-02,\n",
      "         7.4592e-04,  4.7264e-02,  7.6144e-02,  9.9032e-02, -3.5649e-02,\n",
      "         6.8924e-02,  2.1150e-01, -3.7227e-02,  8.2224e-02,  4.6198e-02,\n",
      "         4.5970e-02,  6.3864e-02, -4.0193e-02,  2.4939e-01,  4.1775e-02,\n",
      "        -1.7763e-02, -1.9943e-02, -2.3004e-02, -1.6451e-01, -3.4341e-02,\n",
      "         2.2275e-02,  1.3273e-01, -6.3010e-02,  3.0246e-02,  2.0399e-02,\n",
      "        -5.7721e-02, -5.8785e-02,  1.2521e-01,  4.6723e-02,  1.5682e-02,\n",
      "         1.3326e-02,  7.2982e-03,  2.7610e-02, -8.5483e-02, -9.7321e-02,\n",
      "        -2.5456e-02,  3.2934e-03,  6.6087e-02, -7.4021e-02,  1.7120e-02,\n",
      "        -7.2049e-03,  1.2318e-01,  1.1691e-01,  4.9196e-02,  5.0749e-02,\n",
      "        -4.0965e-02,  3.7822e-02,  7.1847e-02, -4.1967e-02, -9.0061e-03,\n",
      "         5.3433e-03, -3.4825e-02, -1.8749e-02,  6.7361e-02, -2.1829e-02,\n",
      "        -1.1343e-02, -4.9806e-03, -5.1071e-02,  7.6296e-02,  3.5867e-02,\n",
      "         4.0954e-02,  3.7166e-02,  1.4395e-01,  8.7027e-02,  9.6994e-04,\n",
      "         1.7993e-02,  8.1705e-02,  9.2135e-02, -4.6417e-02, -8.5127e-02,\n",
      "         9.4887e-02, -1.8699e-01, -7.9022e-02, -6.0907e-02,  1.1808e-01,\n",
      "         4.3773e-02,  5.7685e-03,  1.0133e-01, -3.9469e-02, -4.8355e-02,\n",
      "         2.3894e-03,  5.0845e-02,  1.0853e-01,  3.6025e-02, -5.8304e-02,\n",
      "         1.1186e-01,  4.9043e-02, -3.2826e-02,  4.4705e-02,  5.7174e-03,\n",
      "        -3.4924e-02,  6.5922e-02,  5.2984e-02, -1.8823e-02,  1.2296e-01,\n",
      "        -9.8270e-02,  3.1314e-02, -7.0728e-04, -3.7810e-02, -2.1557e-02,\n",
      "        -4.2155e-02, -8.0164e-03,  1.0564e-01,  1.1259e-01,  3.2580e-02,\n",
      "        -2.8623e-02, -6.7462e-02,  6.3288e-02, -6.0873e-02, -2.9453e-02,\n",
      "        -5.5441e-02,  1.2561e-01, -3.2039e-02, -6.0450e-02, -6.7276e-02,\n",
      "        -7.6073e-02, -1.1889e-01,  2.7612e-02,  1.7002e-02,  1.1048e-01,\n",
      "        -3.0605e-02,  8.5402e-02,  7.9445e-02,  3.5565e-02, -7.5952e-03,\n",
      "        -9.8019e-02, -4.9430e-02, -1.3344e-02, -5.8702e-02, -1.3607e-02,\n",
      "         4.2610e-02, -1.7402e-02, -6.6451e-02,  3.1199e-02,  1.7260e-02,\n",
      "         6.2686e-02, -3.2379e-03, -3.6947e-02,  1.3182e-02, -9.5130e-02,\n",
      "        -8.0210e-02, -3.4791e-02, -7.0356e-02, -1.3070e-01,  1.0402e-02,\n",
      "         1.1074e-01,  4.4172e-02, -4.5322e-02, -7.2068e-02, -1.2426e-02,\n",
      "         1.4617e-02,  1.1757e-01, -4.5528e-02,  4.7201e-02, -4.8505e-02,\n",
      "         2.0753e-02, -2.9784e-02,  3.4777e-02, -8.4531e-02,  9.0483e-02,\n",
      "        -8.6486e-02, -6.5537e-02,  1.1234e-02,  6.8684e-02,  8.3106e-02,\n",
      "         2.4988e-02,  1.0801e-01, -3.0187e-02,  3.6960e-02, -7.1256e-02,\n",
      "         3.0888e-02, -1.7351e-02,  4.6828e-03,  7.9791e-02,  3.6641e-02,\n",
      "         3.4624e-02, -2.2780e-02,  9.4229e-03, -2.7021e-02,  7.2309e-02,\n",
      "         3.7731e-02, -7.5261e-02, -1.2428e-01,  1.5243e-01,  4.5589e-02,\n",
      "         1.4461e-02,  1.7299e-03, -4.7507e-02, -3.2838e-02,  1.1518e-01,\n",
      "        -1.0040e-01, -5.8628e-02, -5.2789e-02,  1.2550e-01, -7.8532e-02,\n",
      "        -9.5795e-02,  5.0993e-02, -1.0197e-01,  7.7342e-02, -1.3641e-02,\n",
      "        -3.4732e-02,  2.5688e-02, -1.2803e-01, -3.6410e-02,  1.1726e-01,\n",
      "         7.6528e-02, -8.1318e-02,  4.4827e-02, -1.1281e-01,  3.3409e-02,\n",
      "        -1.0023e-01, -1.1660e-01,  2.0585e-02, -7.3778e-03,  3.1190e-02,\n",
      "        -1.5348e-01, -7.3371e-02,  2.1161e-01,  3.1074e-01,  9.6920e-03,\n",
      "        -4.6116e-02,  1.5055e-02,  7.5923e-02,  2.3241e-02,  1.1052e-01,\n",
      "         8.0173e-02,  1.3385e-01,  2.5222e-02, -1.0183e-01, -1.8504e-01,\n",
      "         6.7122e-02,  1.8017e-01,  8.1444e-02,  2.4667e-01,  1.9124e-01,\n",
      "         2.7246e-02,  3.8755e-02,  5.6404e-02,  2.0525e-01, -1.1287e-02,\n",
      "         2.7938e-02,  4.6561e-03,  1.0729e-04, -1.1398e-01, -6.3404e-02,\n",
      "         9.7797e-02, -7.6841e-02, -7.9766e-02,  7.7507e-02,  6.6374e-02,\n",
      "        -1.1161e-01, -8.6006e-02,  7.0443e-02,  5.1545e-02,  7.3853e-02,\n",
      "        -5.4598e-02,  9.1610e-02,  2.2310e-01,  2.2665e-02, -5.8589e-02,\n",
      "        -4.1633e-02, -6.7811e-02,  7.4362e-02,  8.7302e-02,  3.3517e-01,\n",
      "         3.1659e-03,  3.1900e-03,  7.5470e-02, -1.5363e-02,  1.8883e-01,\n",
      "         6.8255e-02,  2.3511e-01, -1.3048e-01, -4.1645e-02,  1.7029e-01,\n",
      "        -3.1037e-03, -1.3041e-01,  8.7625e-02,  1.1522e-01, -9.4685e-02,\n",
      "         4.7025e-02,  1.7903e-02,  3.7738e-02,  5.4461e-03, -4.5127e-02,\n",
      "        -1.2372e-01,  1.5390e-01, -1.4551e-01,  1.5207e-01, -1.0667e-01,\n",
      "         1.2871e-01,  1.4508e-01,  1.2160e-01, -7.1185e-02, -2.4955e-02,\n",
      "         2.9493e-01, -9.8669e-02,  5.6274e-02,  4.6157e-02,  1.2880e-02,\n",
      "         5.3599e-02,  3.2781e-02,  1.2288e-01,  3.3574e-02,  7.6076e-03,\n",
      "         1.0958e-01,  3.0335e-01,  7.3503e-02, -7.3354e-02, -1.7135e-02,\n",
      "        -3.4956e-02,  2.5518e-02, -2.2407e-03,  3.5740e-01,  1.2622e-01],\n",
      "       device='cuda:0') torch.Size([400])\n",
      "lstm2.weight_ih_l0 tensor([[ 0.5173, -0.0941,  0.1182,  ...,  0.0287, -0.1948, -0.0394],\n",
      "        [ 0.1198, -0.1359,  0.1645,  ..., -0.0898,  0.0711, -0.0515],\n",
      "        [ 0.0906,  0.0463,  0.0843,  ..., -0.0163, -0.1309, -0.0263],\n",
      "        ...,\n",
      "        [-0.2573,  0.1101, -0.1739,  ...,  0.0178, -0.0446, -0.9856],\n",
      "        [-0.2988,  0.0613, -0.1730,  ..., -0.0042, -0.4475, -0.9967],\n",
      "        [-0.1986,  0.2115, -0.1665,  ...,  0.0737, -0.9275, -0.9509]],\n",
      "       device='cuda:0') torch.Size([400, 200])\n",
      "lstm2.weight_hh_l0 tensor([[ 4.1256e-02, -1.0738e-01,  6.1003e-02,  ..., -1.0276e-01,\n",
      "          7.9818e-02, -6.9105e-03],\n",
      "        [ 1.0286e-01,  4.4982e-02, -1.3446e-01,  ..., -2.9867e-02,\n",
      "          5.0379e-02, -4.1074e-02],\n",
      "        [-8.6166e-02,  5.1217e-02, -3.4582e-02,  ..., -2.9891e-02,\n",
      "         -7.7850e-02,  2.6701e-02],\n",
      "        ...,\n",
      "        [ 2.8443e-02,  8.7007e-03,  2.1338e-02,  ..., -1.3708e-02,\n",
      "         -7.9808e-02, -3.8439e-02],\n",
      "        [ 4.5296e-02,  1.5132e-02,  1.8549e-02,  ..., -4.5973e-02,\n",
      "         -1.1831e-01, -9.4080e-02],\n",
      "        [-8.6852e-04,  7.3758e-05,  1.4549e-01,  ..., -1.8421e-02,\n",
      "          5.0530e-02, -5.0024e-03]], device='cuda:0') torch.Size([400, 100])\n",
      "lstm2.bias_ih_l0 tensor([ 3.0645e-02,  8.0939e-02,  6.0196e-02,  1.3487e-01,  2.3328e-03,\n",
      "         1.0779e-01,  1.3652e-01, -4.1908e-02,  1.2639e-02,  2.9529e-02,\n",
      "         1.9616e-03,  2.1323e-01,  2.6790e-04, -1.1045e-02, -4.2675e-02,\n",
      "         6.9233e-02,  1.6752e-02, -7.7747e-03,  1.2463e-02,  3.1808e-02,\n",
      "         1.0591e-01,  1.2379e-01,  6.6417e-02,  8.4871e-02,  6.3780e-02,\n",
      "         1.0660e-01, -1.3337e-03,  1.0616e-01,  1.1952e-01, -2.5695e-02,\n",
      "         3.8359e-02,  1.0731e-01,  6.0418e-02, -4.8081e-02,  9.5320e-02,\n",
      "         1.3634e-01,  4.4351e-02,  3.9793e-03,  1.3186e-01,  1.1694e-01,\n",
      "        -3.1645e-02,  6.3957e-02,  1.9934e-01,  4.3845e-02,  1.1266e-03,\n",
      "         5.8470e-03,  3.9454e-02,  6.6301e-02,  7.4895e-02,  1.0194e-01,\n",
      "        -2.4388e-02,  6.9274e-02, -3.7672e-03,  6.0163e-03, -6.3173e-02,\n",
      "         1.5651e-01,  4.0281e-02,  1.0589e-01,  1.1900e-01,  7.2534e-02,\n",
      "         5.7827e-02,  1.4456e-01,  1.1326e-01,  1.3774e-01,  1.2527e-01,\n",
      "         2.5909e-02, -2.0371e-02,  4.1416e-02,  9.8861e-02, -1.1554e-02,\n",
      "         1.1377e-01,  3.5112e-02,  8.2947e-02,  1.4282e-01,  9.9707e-02,\n",
      "         8.6599e-02,  8.4394e-03, -5.2565e-02,  5.8804e-03,  9.9973e-02,\n",
      "         7.6754e-02,  4.5218e-02,  2.1437e-01,  1.2128e-01,  9.0566e-02,\n",
      "         1.2916e-01,  9.7672e-02,  1.4463e-01,  7.2106e-02, -1.4277e-02,\n",
      "        -3.3487e-02, -6.6978e-02,  8.6115e-02, -2.2326e-02, -5.2153e-02,\n",
      "         6.8859e-03, -3.2432e-02,  7.6608e-03,  6.5164e-02,  7.7206e-02,\n",
      "         3.1843e-02, -1.8161e-01,  1.2531e-01,  5.7576e-03, -4.4332e-03,\n",
      "         1.1641e-01,  4.6665e-02,  3.2504e-02,  5.9850e-02,  2.4683e-02,\n",
      "        -6.7220e-02, -2.7184e-01,  1.3559e-01, -5.7901e-02,  1.1934e-01,\n",
      "         8.9144e-02, -6.7621e-02, -8.3439e-03, -5.1175e-02, -8.1783e-02,\n",
      "         6.2686e-02,  6.6733e-02,  1.4170e-02,  1.8867e-02,  1.2196e-02,\n",
      "         3.7698e-02,  2.7293e-02, -5.6699e-02, -3.9637e-02,  1.2671e-01,\n",
      "         6.4067e-03,  9.5391e-02,  8.4371e-02,  4.6068e-02, -7.9675e-02,\n",
      "        -1.2550e-02,  9.0370e-02, -1.4206e-01,  1.0083e-01,  5.6501e-02,\n",
      "         8.1032e-02, -4.1856e-03, -6.1716e-02, -6.4063e-02,  6.5464e-02,\n",
      "         9.4362e-02,  5.9168e-02, -7.1407e-02,  1.1824e-01, -1.1650e-01,\n",
      "         4.8398e-03,  2.6375e-03,  5.0768e-02,  2.6933e-02, -6.6592e-02,\n",
      "         3.7728e-02, -2.1242e-02, -9.4547e-02, -1.6735e-01, -4.7674e-02,\n",
      "        -1.1680e-02, -1.4758e-01,  1.1815e-01, -5.5183e-02,  6.4830e-02,\n",
      "         5.0811e-02,  8.7537e-03,  1.0981e-01,  8.2707e-02,  3.6073e-02,\n",
      "        -4.8930e-02, -5.2608e-03, -4.0110e-02,  8.0960e-02,  1.4853e-02,\n",
      "         8.1390e-02,  5.5681e-03,  2.7896e-02,  2.5784e-02,  8.1868e-02,\n",
      "         7.8518e-02,  2.5400e-03, -2.1532e-01,  9.8119e-02,  8.8082e-03,\n",
      "        -1.2225e-02,  6.4616e-02, -3.3295e-02,  4.8122e-02, -1.5050e-02,\n",
      "         8.4186e-02, -2.0153e-02,  7.5526e-02,  6.8247e-02,  5.8327e-02,\n",
      "         7.8427e-02,  4.0387e-02,  7.1936e-02,  2.3691e-02, -1.5523e-02,\n",
      "         4.8696e-02,  6.9149e-02, -1.1770e-01,  5.1717e-02,  9.8165e-04,\n",
      "        -6.2685e-02, -7.6174e-02,  1.0371e-01, -2.1733e-02,  2.7156e-02,\n",
      "        -5.5506e-02, -1.3819e-01, -1.5030e-01, -6.1791e-02,  2.7706e-02,\n",
      "         9.6415e-03,  4.9377e-02, -2.4699e-02, -8.3632e-02,  3.7616e-02,\n",
      "         6.7280e-02,  5.8728e-02,  2.9854e-03,  4.2715e-02,  7.3788e-02,\n",
      "        -1.9400e-01,  5.1809e-02, -9.4268e-02, -5.6766e-03, -3.5073e-03,\n",
      "         4.3485e-02,  6.4718e-02, -9.3109e-02, -1.5440e-02, -2.2579e-01,\n",
      "         7.0763e-02,  9.6724e-02, -6.5940e-02, -5.9850e-02, -7.1133e-02,\n",
      "        -1.0505e-01, -1.7793e-02, -5.5015e-03,  2.5275e-02, -5.7284e-03,\n",
      "         1.6858e-02, -1.2104e-01, -3.5092e-02,  5.2519e-02, -7.2573e-02,\n",
      "        -2.7240e-02, -5.1763e-02, -8.0163e-03,  1.1223e-01, -1.5397e-02,\n",
      "         1.7676e-02, -5.1180e-03, -1.0649e-01, -7.9654e-02,  1.0320e-01,\n",
      "         7.9879e-02,  6.5309e-02, -8.2438e-03, -9.5031e-02, -1.0337e-01,\n",
      "         2.0564e-02,  1.1379e-01, -8.8796e-02,  4.7461e-02,  1.2236e-01,\n",
      "         2.9763e-02,  6.7789e-02,  4.3999e-02, -1.6016e-02,  4.7823e-02,\n",
      "        -6.6320e-02, -1.0142e-01, -9.9711e-02,  1.1087e-01,  1.0931e-01,\n",
      "         1.0806e-01,  1.4974e-02, -8.4653e-02, -1.0820e-01,  1.1271e-01,\n",
      "         1.5905e-02, -8.9492e-02, -1.0809e-01, -3.0123e-02, -4.1760e-02,\n",
      "         6.2998e-02, -7.8748e-03,  3.5624e-02, -9.1723e-02,  8.4027e-04,\n",
      "        -4.6053e-02,  9.4408e-02, -4.5827e-02,  1.1413e-01,  6.1259e-02,\n",
      "        -1.3766e-02,  2.3911e-01, -1.6760e-01, -1.2462e-01,  5.2462e-02,\n",
      "         1.5509e-02, -4.0392e-02, -1.3001e-01, -1.2105e-01, -1.4588e-01,\n",
      "        -8.1113e-02,  1.1305e-01,  8.0515e-02,  1.0360e-01, -8.6217e-02,\n",
      "        -8.5832e-02,  7.5343e-02, -1.3003e-01, -5.9170e-02,  9.8180e-02,\n",
      "         2.8374e-03,  1.5826e-01, -1.9516e-01, -2.2560e-02,  1.1885e-01,\n",
      "        -1.2082e-02, -1.1996e-01, -1.6467e-01, -3.2612e-02, -5.4394e-02,\n",
      "        -1.8151e-01, -2.0820e-02, -3.8952e-02, -1.1273e-01,  1.4550e-01,\n",
      "        -2.1457e-01,  6.9506e-02,  2.4439e-01,  1.1750e-01, -1.7040e-03,\n",
      "         2.1325e-01,  6.7304e-03,  2.3005e-01, -8.4704e-02,  7.1205e-02,\n",
      "        -2.1989e-01, -1.7566e-01, -1.1848e-01,  3.6310e-03,  2.0276e-01,\n",
      "        -1.1146e-01, -2.0830e-01,  6.1562e-03, -1.2463e-01, -2.1369e-02,\n",
      "         9.4761e-02, -5.8002e-02,  1.3790e-01,  1.4581e-01, -1.5824e-01,\n",
      "        -2.3968e-02,  1.1412e-01, -2.3077e-01, -1.3516e-01, -2.3290e-03,\n",
      "        -1.0281e-01,  9.5383e-02, -1.3642e-01, -2.5229e-01, -1.9484e-01,\n",
      "        -6.4469e-02, -1.4773e-01,  3.5938e-02, -3.6029e-02, -8.4550e-02,\n",
      "        -1.8801e-01, -4.6153e-02, -5.9062e-02, -1.1565e-01, -1.0686e-01,\n",
      "        -4.7846e-03, -9.8127e-02,  1.4630e-01,  3.3226e-03, -2.1474e-01,\n",
      "         2.3864e-02, -1.2608e-01, -1.5221e-01, -1.2933e-01, -2.2141e-02,\n",
      "        -1.4045e-01, -2.7328e-02, -1.5389e-01, -8.9978e-02, -8.8340e-03,\n",
      "        -2.3019e-01, -2.1399e-01, -1.5005e-01, -8.8800e-02, -1.1080e-01],\n",
      "       device='cuda:0') torch.Size([400])\n",
      "lstm2.bias_hh_l0 tensor([ 0.0395,  0.1457,  0.1212, -0.0509,  0.0786, -0.0402, -0.0328,  0.0321,\n",
      "         0.1217,  0.0408, -0.0146,  0.0971, -0.0420,  0.0871,  0.1111,  0.0585,\n",
      "         0.1304,  0.0251, -0.0182,  0.0571,  0.0623,  0.1317,  0.0845,  0.0997,\n",
      "         0.0226,  0.1848,  0.1319,  0.1038,  0.0597,  0.0370, -0.0324,  0.0519,\n",
      "        -0.0220,  0.0658,  0.1906,  0.0277,  0.0845,  0.0411, -0.0296, -0.0627,\n",
      "         0.0359,  0.1266,  0.0764, -0.0516,  0.0267, -0.0520, -0.0352, -0.0283,\n",
      "        -0.0069,  0.1220,  0.0341,  0.1207, -0.0268,  0.0988,  0.1200,  0.1088,\n",
      "         0.0501,  0.0816,  0.2231,  0.0602, -0.0474,  0.1059, -0.0290,  0.1059,\n",
      "         0.1244, -0.1096, -0.0094,  0.0237, -0.0141, -0.0125,  0.0770,  0.1769,\n",
      "        -0.0302, -0.0036,  0.1110, -0.0276, -0.0291,  0.0106, -0.0609,  0.1331,\n",
      "        -0.0353,  0.0290,  0.1832,  0.0226,  0.1124,  0.1123,  0.1508, -0.0057,\n",
      "         0.0360,  0.0790,  0.1302,  0.0903,  0.0254, -0.0282,  0.0331,  0.0360,\n",
      "         0.0834,  0.0828,  0.0681,  0.1250, -0.0323, -0.1591,  0.0768,  0.0995,\n",
      "         0.1290, -0.0143, -0.0194, -0.0519, -0.0575, -0.0313,  0.1139, -0.2463,\n",
      "         0.1356,  0.1106,  0.0064, -0.0707,  0.0678,  0.0404, -0.0558, -0.1067,\n",
      "         0.1219, -0.0182,  0.1274,  0.0140,  0.0605,  0.0931,  0.0602, -0.0442,\n",
      "         0.1103,  0.0011,  0.1035,  0.1102,  0.0420,  0.0997, -0.1435, -0.0439,\n",
      "         0.1144, -0.1865,  0.0314,  0.0095,  0.0747,  0.0535, -0.0396, -0.0481,\n",
      "        -0.0171,  0.0136,  0.0849,  0.0154,  0.0034, -0.1631,  0.0491,  0.1210,\n",
      "         0.0749,  0.0042, -0.0609,  0.0780,  0.0907, -0.1795, -0.2152,  0.0718,\n",
      "         0.1193,  0.0194,  0.0142, -0.0248,  0.0848,  0.0200,  0.0322,  0.1022,\n",
      "         0.0066,  0.1143,  0.0190, -0.1055,  0.0239,  0.0846,  0.0738,  0.0615,\n",
      "         0.1155,  0.0640,  0.1078, -0.0450,  0.1010,  0.0592, -0.1685,  0.1197,\n",
      "        -0.0205,  0.0888, -0.0104, -0.0247,  0.1071,  0.0934,  0.1280,  0.0660,\n",
      "         0.1187,  0.0053,  0.0037,  0.0273,  0.0682, -0.0161, -0.0081, -0.0704,\n",
      "        -0.0377,  0.0426, -0.1689,  0.0111,  0.0593, -0.1039,  0.0068,  0.0508,\n",
      "         0.0854,  0.1017, -0.0155, -0.0941, -0.2052, -0.0356, -0.0314, -0.0310,\n",
      "        -0.0587, -0.1142, -0.1133,  0.1999,  0.0330,  0.0132, -0.0342, -0.1290,\n",
      "         0.0660, -0.1828, -0.0686, -0.0736, -0.0999, -0.0385, -0.0706, -0.0989,\n",
      "        -0.0958, -0.1169, -0.1450,  0.0055,  0.0936, -0.2191, -0.0730, -0.0470,\n",
      "        -0.0783, -0.0479, -0.0098,  0.0571,  0.0096,  0.0813,  0.0706,  0.1041,\n",
      "        -0.0389, -0.1233,  0.0587,  0.0548,  0.0016, -0.0120, -0.0729,  0.0769,\n",
      "        -0.0660, -0.0273, -0.0959,  0.0736,  0.0548, -0.0074,  0.1174, -0.0937,\n",
      "        -0.0990, -0.0984, -0.0307, -0.0118,  0.1206,  0.0545, -0.0122, -0.1094,\n",
      "         0.0711, -0.0775,  0.0592, -0.0596, -0.0068,  0.0186,  0.0209,  0.0030,\n",
      "        -0.0324,  0.0643, -0.1532,  0.0114, -0.0141,  0.0106, -0.0084, -0.0660,\n",
      "         0.0566, -0.0939,  0.0475, -0.0036,  0.0281,  0.0522, -0.0737, -0.0774,\n",
      "        -0.0226, -0.0449,  0.0779, -0.0217, -0.0799,  0.2544, -0.1140, -0.0852,\n",
      "        -0.0934, -0.1234, -0.0860, -0.0653, -0.0988, -0.1828, -0.1905,  0.0842,\n",
      "         0.1881,  0.1112, -0.1483, -0.1385, -0.0984, -0.0605, -0.0446,  0.1320,\n",
      "        -0.0506,  0.1868, -0.1933, -0.0338,  0.1469,  0.0054, -0.1553, -0.1846,\n",
      "        -0.0954,  0.0012, -0.1221, -0.1288, -0.1125, -0.0987,  0.1543, -0.1201,\n",
      "         0.0458,  0.2297,  0.0440, -0.1528,  0.1738, -0.0488,  0.1172, -0.1685,\n",
      "         0.0462, -0.0994, -0.1100, -0.1670, -0.0902,  0.1583, -0.1331, -0.0570,\n",
      "        -0.1109, -0.1885, -0.1563,  0.1878,  0.0158,  0.1415,  0.1791, -0.2129,\n",
      "        -0.0915,  0.1873, -0.1392, -0.2229, -0.0883, -0.0329,  0.1372, -0.2509,\n",
      "        -0.0991, -0.1278,  0.0218, -0.1857,  0.0535, -0.1821, -0.1471, -0.2589,\n",
      "        -0.1269, -0.0459, -0.0590, -0.0779, -0.1397, -0.1537,  0.1853, -0.0546,\n",
      "        -0.0625,  0.0595, -0.0274, -0.1238, -0.0896, -0.0819, -0.1216, -0.0259,\n",
      "        -0.2304, -0.0939, -0.0120, -0.1656, -0.2487, -0.2490, -0.1594, -0.1668],\n",
      "       device='cuda:0') torch.Size([400])\n",
      "lstm2.weight_ih_l0_reverse tensor([[-0.0016, -0.0366, -0.0099,  ..., -0.0185,  0.0077, -0.1031],\n",
      "        [-0.1726, -0.0909, -0.0339,  ..., -0.0617,  0.0238, -0.0721],\n",
      "        [ 0.0664, -0.0196,  0.1021,  ...,  0.0923, -0.0162,  0.0212],\n",
      "        ...,\n",
      "        [ 0.4241,  0.0584, -0.0738,  ...,  0.0794,  1.2972,  0.4879],\n",
      "        [ 0.0902,  0.2277, -0.0502,  ..., -0.1137, -1.5435, -0.5500],\n",
      "        [-0.0441,  0.0822, -0.1368,  ..., -0.1140, -1.3266, -1.3448]],\n",
      "       device='cuda:0') torch.Size([400, 200])\n",
      "lstm2.weight_hh_l0_reverse tensor([[-0.0043,  0.0657,  0.0020,  ...,  0.0399,  0.0041, -0.0259],\n",
      "        [ 0.0041, -0.1097, -0.0623,  ..., -0.1075, -0.0316, -0.0370],\n",
      "        [-0.0329, -0.1113, -0.0634,  ..., -0.0687,  0.1221,  0.0243],\n",
      "        ...,\n",
      "        [ 0.0768, -1.5768, -0.0649,  ...,  0.0443,  0.1034,  0.0201],\n",
      "        [-0.1568, -0.8980, -0.0116,  ...,  0.1742, -0.1450,  0.0598],\n",
      "        [ 0.0502,  1.0405,  0.0139,  ...,  0.1199, -0.1257,  0.0455]],\n",
      "       device='cuda:0') torch.Size([400, 100])\n",
      "lstm2.bias_ih_l0_reverse tensor([-5.5366e-02, -6.5861e-02,  6.7294e-02,  1.2498e-01,  1.8920e-02,\n",
      "         1.3451e-02, -7.0841e-03,  2.6920e-03,  5.2287e-02, -9.2768e-03,\n",
      "        -4.2047e-03, -1.4731e-02, -8.1648e-03,  1.3149e-02,  5.8005e-02,\n",
      "         1.9941e-02,  7.8254e-02, -5.2268e-02,  4.7966e-02, -4.0806e-02,\n",
      "         1.0053e-02,  7.2988e-02,  7.6134e-02, -5.7057e-02,  6.1000e-02,\n",
      "         9.6545e-02,  3.0062e-02,  3.5674e-02,  6.1278e-02, -4.5582e-03,\n",
      "         1.1498e-01,  1.1750e-01, -7.3123e-02,  9.3975e-02, -3.3990e-02,\n",
      "        -3.1926e-02,  3.9073e-02,  5.8138e-02,  1.0741e-01, -8.5079e-02,\n",
      "         1.6330e-01, -3.1568e-02, -1.5803e-03,  1.1037e-01,  8.6118e-02,\n",
      "        -3.6504e-02,  3.0402e-03, -7.0729e-02, -6.1702e-02,  1.1755e-01,\n",
      "        -3.3946e-02,  1.1482e-01,  1.0560e-01,  1.0372e-01,  3.3174e-02,\n",
      "         1.0235e-01, -4.9778e-02, -6.2117e-03, -5.2359e-02,  8.9909e-03,\n",
      "        -1.2089e-02,  3.2528e-02, -8.8121e-03,  3.0755e-02,  8.1289e-02,\n",
      "         3.1302e-02, -4.2930e-02, -1.5258e-02, -4.8096e-02, -1.7623e-02,\n",
      "         9.5446e-03,  5.7517e-02,  5.2402e-02,  1.8231e-02, -2.7398e-02,\n",
      "         5.6813e-02,  1.4987e-01, -5.6508e-03,  1.4512e-01,  7.2596e-02,\n",
      "         3.4439e-02, -4.7233e-02, -2.5550e-02, -5.5668e-03,  4.5391e-02,\n",
      "         3.6314e-03, -7.2613e-02,  4.5668e-02,  1.6030e-02,  6.2031e-02,\n",
      "         1.5067e-02,  2.4805e-02, -7.2744e-02,  7.5504e-02, -1.1017e-01,\n",
      "         6.0753e-02,  4.7574e-02, -3.7825e-02, -1.5521e-02,  5.9807e-03,\n",
      "         5.3394e-02,  2.4670e-02,  3.9246e-02, -5.6805e-02, -1.1663e-04,\n",
      "         3.7002e-02,  6.0016e-02, -6.3158e-02,  9.6576e-02, -2.9814e-02,\n",
      "        -3.0549e-03, -6.4096e-02,  3.0479e-02, -5.0398e-02, -1.8775e-02,\n",
      "         6.6967e-02,  9.1831e-02,  8.4629e-02, -9.9529e-03,  1.1664e-01,\n",
      "        -9.8868e-03,  3.3950e-02,  2.6434e-02,  3.6822e-02, -4.9763e-02,\n",
      "        -7.6804e-02, -3.4278e-02, -4.0594e-03, -6.2995e-02, -9.7202e-03,\n",
      "        -4.3080e-02,  3.8465e-02,  3.1656e-02,  9.3815e-02, -8.2276e-02,\n",
      "         3.9435e-02,  5.2724e-02,  5.2637e-02,  1.9037e-02,  8.4835e-02,\n",
      "        -4.2806e-02,  9.2791e-02,  8.1924e-02,  1.1746e-02,  8.9122e-02,\n",
      "        -5.7010e-02, -4.0867e-03,  6.8280e-02,  4.9069e-02,  1.0446e-01,\n",
      "         6.6768e-02, -6.9827e-02,  2.7596e-02, -2.3088e-02,  8.2594e-02,\n",
      "         4.4948e-02, -4.8832e-02, -5.7846e-02,  1.0956e-01,  5.2978e-03,\n",
      "        -2.7868e-02,  6.9678e-02, -7.6235e-02,  7.3652e-02,  1.1300e-01,\n",
      "         4.7140e-02, -2.8882e-02, -4.9210e-02,  3.1065e-02,  8.7547e-02,\n",
      "        -4.1657e-02, -2.5943e-02, -7.4334e-02, -7.1400e-02,  4.7899e-02,\n",
      "         3.9799e-02, -6.9113e-03, -7.4691e-02, -1.0346e-01,  8.2627e-03,\n",
      "         1.2208e-03,  1.1293e-03, -6.2979e-02,  6.0420e-02,  4.3353e-02,\n",
      "        -5.0700e-02,  1.1913e-01,  6.7544e-02,  2.9696e-02, -4.5510e-02,\n",
      "         9.9922e-02,  2.7407e-02,  2.9263e-02,  4.3270e-02, -3.1666e-02,\n",
      "         5.2767e-02,  8.2279e-02,  7.8772e-03,  9.8019e-02, -7.6901e-02,\n",
      "         1.1585e-01, -9.2688e-02, -3.0623e-02, -9.2424e-02, -3.0537e-02,\n",
      "         1.2654e-02, -7.2074e-02, -7.5916e-02, -1.0367e-01,  1.2199e-02,\n",
      "         1.3833e-02,  9.3871e-02, -7.0579e-02,  1.7938e-02, -4.8112e-02,\n",
      "         8.7577e-03, -4.3602e-02,  8.9043e-02, -1.0789e-01, -3.0772e-02,\n",
      "         3.5970e-02,  2.6814e-02, -1.3794e-02, -4.2671e-02,  7.6244e-02,\n",
      "        -3.0454e-02, -1.1763e-01,  6.0632e-02, -8.2984e-02,  1.8419e-02,\n",
      "        -1.1043e-01, -9.5417e-02, -2.8356e-02, -2.6458e-02,  4.8066e-02,\n",
      "         3.8792e-02,  6.5945e-02,  2.3589e-02, -3.8285e-02,  7.0639e-02,\n",
      "         2.8749e-02,  7.3053e-02,  3.8934e-02, -9.7378e-02,  4.8018e-02,\n",
      "         6.3165e-02,  9.1296e-02, -1.0648e-01, -6.3852e-02, -1.0261e-01,\n",
      "        -8.4783e-02, -2.0425e-02, -1.1655e-01,  1.0683e-01,  3.9028e-02,\n",
      "        -7.7170e-02, -1.0516e-03, -1.1778e-02, -5.6263e-02,  4.0285e-02,\n",
      "         5.1524e-03, -5.2866e-02, -2.1792e-03,  2.7314e-02,  9.5255e-02,\n",
      "        -6.5220e-02, -1.1045e-01,  4.0130e-02,  2.6132e-02, -1.1219e-01,\n",
      "        -5.5725e-02,  1.0441e-01, -4.5370e-02, -4.8625e-02, -2.8424e-02,\n",
      "        -6.5153e-02,  6.6176e-02,  2.4875e-02,  5.0756e-02,  1.6571e-02,\n",
      "         6.0179e-02,  7.2512e-02, -3.2307e-02, -1.0433e-01,  8.2598e-02,\n",
      "        -1.1345e-02,  4.3434e-02, -2.1716e-02,  6.4262e-02, -4.7424e-02,\n",
      "        -4.5172e-02,  1.7804e-02,  2.9414e-02, -5.9906e-02,  6.9666e-03,\n",
      "        -5.2738e-02,  1.1985e-01,  4.6986e-02,  1.0323e-01, -5.6417e-02,\n",
      "        -1.0204e-01,  9.8839e-02, -1.8882e-02,  3.0781e-02, -9.1380e-02,\n",
      "         2.0381e-02,  8.4101e-02, -4.4320e-03, -9.1789e-02,  1.2150e-01,\n",
      "         1.4117e-01,  4.8930e-02,  1.3511e-01,  2.9917e-03, -1.3449e-01,\n",
      "         5.3373e-02,  2.5419e-02, -1.5264e-01, -4.7787e-04, -9.4223e-02,\n",
      "        -1.0425e-01,  9.5748e-04,  5.5111e-02, -1.9276e-02, -5.0933e-02,\n",
      "        -4.7628e-02,  8.0201e-02, -4.9346e-02,  5.2061e-02,  7.8319e-02,\n",
      "        -6.0352e-02, -1.1581e-02,  2.8507e-02,  4.5777e-02,  5.9312e-02,\n",
      "        -1.1952e-01,  7.9964e-03,  7.3506e-02, -1.2389e-02,  9.0140e-02,\n",
      "         2.9251e-02, -7.5717e-02,  9.1355e-02,  2.1393e-02,  7.6948e-02,\n",
      "        -4.0078e-03,  1.3313e-01, -1.3439e-01, -2.4171e-03,  4.1667e-02,\n",
      "        -9.5384e-02, -5.3891e-02, -3.7602e-03,  1.1802e-01,  8.8721e-03,\n",
      "         1.8873e-02,  9.0101e-02,  2.5658e-03, -1.4116e-01, -1.8313e-01,\n",
      "        -7.3606e-02, -2.8085e-04,  7.2260e-02,  2.8674e-02,  4.5257e-02,\n",
      "        -2.4730e-03, -6.1929e-02,  2.8971e-02,  1.0320e-01,  2.0286e-02,\n",
      "         7.8810e-02, -6.3453e-02, -8.6295e-02,  2.3214e-01, -5.4223e-02,\n",
      "         6.9893e-02,  2.0448e-01,  1.3210e-01,  1.0729e-01,  9.4068e-02,\n",
      "        -7.4931e-02, -1.6405e-01,  1.4685e-01,  1.2609e-01,  1.5903e-01,\n",
      "        -3.2147e-02,  4.9967e-02, -5.8953e-02,  7.1622e-02, -1.3995e-01,\n",
      "         6.3965e-02,  1.9111e-01,  1.1899e-01, -6.7547e-03,  1.6454e-01,\n",
      "         1.8941e-02, -1.4489e-01, -6.6702e-03,  5.0522e-02, -2.5905e-02],\n",
      "       device='cuda:0') torch.Size([400])\n",
      "lstm2.bias_hh_l0_reverse tensor([ 0.1072, -0.0559, -0.0727,  0.0003, -0.0430, -0.0176,  0.0259,  0.0734,\n",
      "         0.1162, -0.0260, -0.0786, -0.0217,  0.0562,  0.0146, -0.0539,  0.0312,\n",
      "        -0.0199, -0.0430,  0.1098, -0.0773,  0.0945, -0.0219,  0.0706, -0.0791,\n",
      "         0.0360,  0.0843,  0.0459, -0.0576,  0.0451,  0.0199,  0.0020,  0.0003,\n",
      "         0.0922, -0.0188, -0.0091,  0.0223,  0.0346, -0.0272, -0.0767, -0.0098,\n",
      "         0.0627, -0.0382,  0.0887,  0.1325, -0.0364, -0.0569,  0.0318,  0.0610,\n",
      "        -0.0409,  0.0867, -0.0532,  0.0528,  0.0978,  0.0968,  0.0918,  0.0720,\n",
      "         0.0929,  0.0880, -0.0446,  0.0554,  0.0278, -0.0459, -0.0529,  0.0231,\n",
      "         0.0729, -0.0027,  0.0799,  0.0447,  0.0987, -0.0750,  0.0018,  0.0179,\n",
      "         0.0489,  0.0989, -0.0345,  0.0050,  0.0413,  0.1122,  0.1028, -0.0303,\n",
      "         0.0572, -0.0436,  0.0260,  0.0031,  0.0717,  0.0625,  0.0583,  0.0892,\n",
      "         0.0310,  0.0823,  0.1088,  0.0550,  0.0463, -0.0392, -0.1005,  0.0764,\n",
      "        -0.0184,  0.0406,  0.0392,  0.0445,  0.0378, -0.0696,  0.0528,  0.0658,\n",
      "         0.1039,  0.0168,  0.0463,  0.0139, -0.0255, -0.0110, -0.0701,  0.0054,\n",
      "         0.0417,  0.0585, -0.0475,  0.0673, -0.0185, -0.0077, -0.0520, -0.0291,\n",
      "         0.0110, -0.0065, -0.0219, -0.0661,  0.0129,  0.0499, -0.0093,  0.0605,\n",
      "        -0.0070, -0.0627, -0.0044, -0.0090, -0.0540, -0.0091,  0.1091,  0.1274,\n",
      "         0.0709, -0.0765, -0.0279, -0.0840, -0.0132,  0.0706,  0.0464,  0.0155,\n",
      "         0.0694,  0.0665,  0.0230,  0.0283, -0.0420,  0.0994,  0.0797, -0.0722,\n",
      "         0.0082,  0.0199, -0.0624,  0.0321, -0.0255,  0.0568,  0.0780, -0.0396,\n",
      "        -0.0420, -0.0112,  0.0600, -0.0020,  0.0640,  0.1000,  0.0835, -0.0243,\n",
      "         0.0427,  0.0965, -0.0331,  0.0989,  0.0710, -0.0333, -0.0280,  0.0082,\n",
      "        -0.0283,  0.0398, -0.0852,  0.0208, -0.0093,  0.1134, -0.0120,  0.0264,\n",
      "         0.1023, -0.0558,  0.0071,  0.0649,  0.0123,  0.0205,  0.0560, -0.0216,\n",
      "        -0.0089,  0.0261, -0.0154, -0.0580, -0.0334, -0.0262, -0.0413, -0.0635,\n",
      "        -0.0518, -0.0532, -0.0906,  0.0451,  0.0403, -0.1003,  0.0400,  0.0805,\n",
      "         0.0353, -0.0605, -0.1138,  0.0326, -0.0422, -0.0180,  0.0829, -0.0521,\n",
      "         0.0944,  0.0193,  0.0177,  0.0948,  0.1117,  0.0359,  0.1176, -0.0855,\n",
      "        -0.0353, -0.0278, -0.1135,  0.0468, -0.0489, -0.0622,  0.0259,  0.0011,\n",
      "         0.0103, -0.0485,  0.0782,  0.0409,  0.0638,  0.0423,  0.0307, -0.0630,\n",
      "         0.0790,  0.1149, -0.0695, -0.1397, -0.0400, -0.1064,  0.0089,  0.0709,\n",
      "         0.0133,  0.0784,  0.0389,  0.0552, -0.0342, -0.0028, -0.0410,  0.0437,\n",
      "        -0.1118, -0.0369, -0.0377, -0.0665,  0.1215,  0.0288, -0.0586,  0.1078,\n",
      "        -0.0440, -0.0021,  0.0242, -0.1114, -0.0314, -0.0650,  0.0009, -0.0380,\n",
      "        -0.0926,  0.1163,  0.0500, -0.0106,  0.0710, -0.0994,  0.0961,  0.0007,\n",
      "        -0.0617,  0.0215,  0.0355, -0.1118,  0.0374,  0.1053,  0.0166,  0.0063,\n",
      "        -0.1207, -0.0479, -0.0279, -0.0267,  0.0660, -0.0846,  0.0580, -0.0634,\n",
      "         0.0196, -0.0056,  0.0607,  0.0010,  0.0220,  0.1009, -0.0428,  0.0680,\n",
      "         0.1008, -0.0834,  0.0518,  0.0024, -0.0116, -0.0084,  0.0676,  0.0236,\n",
      "         0.1245,  0.0993, -0.0088, -0.0094, -0.0352, -0.1303, -0.0199,  0.0553,\n",
      "        -0.0834, -0.0362,  0.0337,  0.0625, -0.0624,  0.0238, -0.0172, -0.0312,\n",
      "         0.0388,  0.0827, -0.0943, -0.1353, -0.0300,  0.1970,  0.0485, -0.1167,\n",
      "         0.0071, -0.0540,  0.1373,  0.1058,  0.0139,  0.0264,  0.0273, -0.1206,\n",
      "         0.1235,  0.0450,  0.0962, -0.0389, -0.0932,  0.0940, -0.0995,  0.0230,\n",
      "         0.0933,  0.0265,  0.1293,  0.0511,  0.0931, -0.0447, -0.1438, -0.0708,\n",
      "        -0.0803, -0.0206,  0.1352,  0.0666, -0.0586,  0.0794, -0.0211, -0.0686,\n",
      "        -0.0819, -0.0415,  0.0729,  0.0341, -0.0009,  0.1385, -0.1604, -0.0829,\n",
      "         0.0567,  0.0443,  0.1306,  0.0560, -0.0566, -0.0928,  0.0123,  0.1551,\n",
      "         0.0339, -0.0098,  0.0244, -0.1068,  0.0545, -0.0555, -0.1022,  0.0614,\n",
      "        -0.0410,  0.1309,  0.1138, -0.0567, -0.1332,  0.0197, -0.1192, -0.0692],\n",
      "       device='cuda:0') torch.Size([400])\n",
      "linear1.weight tensor([[-0.0109, -0.0158,  0.0382,  ...,  0.0139, -0.0383, -0.0417],\n",
      "        [ 0.0500, -0.0439,  0.0380,  ..., -0.0535, -0.0523, -0.0198],\n",
      "        [ 0.0124, -0.0041,  0.0165,  ..., -0.0047,  0.0477, -0.0012],\n",
      "        ...,\n",
      "        [ 0.0565, -0.0513,  0.0480,  ..., -0.0541, -0.0103,  0.0366],\n",
      "        [ 0.0559, -0.0343,  0.0026,  ..., -0.0413,  0.0223,  0.0108],\n",
      "        [ 0.0315, -0.0388, -0.0205,  ..., -0.0077, -0.0472,  0.0100]],\n",
      "       device='cuda:0') torch.Size([100, 300])\n",
      "linear1.bias tensor([ 0.0277, -0.0316,  0.0300,  0.0248, -0.0284,  0.0015,  0.0552,  0.0351,\n",
      "        -0.0253, -0.0060,  0.0045, -0.0411,  0.0279,  0.0228,  0.0336, -0.0417,\n",
      "        -0.0300,  0.0331,  0.0090, -0.0389,  0.0500,  0.0223, -0.0022, -0.0436,\n",
      "         0.0350,  0.0043, -0.0473, -0.0327, -0.0147,  0.0402,  0.0378,  0.0065,\n",
      "        -0.0285, -0.0520,  0.0451, -0.0139,  0.0062, -0.0252,  0.0223, -0.0172,\n",
      "         0.0328,  0.0281, -0.0549, -0.0442, -0.0123,  0.0156, -0.0101, -0.0111,\n",
      "         0.0043, -0.0547, -0.0144, -0.0229,  0.0070, -0.0429,  0.0421, -0.0433,\n",
      "         0.0409, -0.0424, -0.0456,  0.0543, -0.0164, -0.0313, -0.0540,  0.0433,\n",
      "         0.0427,  0.0346, -0.0115,  0.0478,  0.0568, -0.0048,  0.0317, -0.0322,\n",
      "         0.0112, -0.0485, -0.0373, -0.0286, -0.0038,  0.0170,  0.0145,  0.0494,\n",
      "        -0.0189, -0.0386,  0.0196,  0.0466,  0.0005,  0.0309, -0.0313, -0.0256,\n",
      "         0.0360, -0.0132,  0.0107,  0.0279, -0.0301,  0.0564,  0.0125,  0.0562,\n",
      "        -0.0196,  0.0043, -0.0004,  0.0124], device='cuda:0') torch.Size([100])\n",
      "linear_out.weight tensor([[-0.0284,  0.0200,  0.3900,  ...,  0.2353, -0.1562, -0.0084],\n",
      "        [ 0.1171,  0.0800,  0.8085,  ...,  0.0103,  0.1346, -0.1627],\n",
      "        [ 0.2648,  0.1898, -0.0190,  ...,  0.5134, -0.3866, -0.0885],\n",
      "        ...,\n",
      "        [-0.0482,  0.1841, -0.0411,  ...,  0.5792, -0.3143,  0.3500],\n",
      "        [ 0.1517,  0.2544, -0.0790,  ..., -0.1022,  0.1884,  0.3190],\n",
      "        [ 0.0891,  0.2188, -0.0992,  ...,  0.2236, -1.2151,  0.3928]],\n",
      "       device='cuda:0') torch.Size([4208, 200])\n",
      "linear_out.bias tensor([-0.1570, -0.1806, -0.2026,  ...,  0.1709,  0.0101,  0.0877],\n",
      "       device='cuda:0') torch.Size([4208])\n"
     ]
    }
   ],
   "source": [
    "# Parameters\n",
    "for name, param in elmo.named_parameters():\n",
    "    if param.requires_grad:\n",
    "        print(name, param.data, param.shape)\n",
    "elmo_embeddings = list(elmo.parameters())[0].cpu().detach().numpy()\n",
    "torch.save(elmo_embeddings, 'elmo_embeddings1.pt')\n"
   ]
  },
  {
   "cell_type": "code",
   "execution_count": 17,
   "metadata": {},
   "outputs": [
    {
     "name": "stdout",
     "output_type": "stream",
     "text": [
      "<generator object Module.parameters at 0x7fbe20650c80>\n",
      "<generator object Module.parameters at 0x7fbe20650c80>\n"
     ]
    }
   ],
   "source": [
    "elmo_lstm1 = elmo.lstm1\n",
    "print(elmo_lstm1.parameters())\n",
    "elmo_lstm2 = elmo.lstm2\n",
    "print(elmo_lstm2.parameters())\n",
    "elmo_embeddings = list(elmo.parameters())[0].to(device)\n"
   ]
  },
  {
   "cell_type": "code",
   "execution_count": 18,
   "metadata": {},
   "outputs": [],
   "source": [
    "from sklearn.metrics import f1_score, confusion_matrix,accuracy_score\n",
    "class scoreClassifier(nn.Module):\n",
    "    def __init__(self,vocab_size,embedding_dim,hidden_dim,elmoEmbedding,elmo_lstm1,elmo_lstm2,num_classes):\n",
    "        super(scoreClassifier,self).__init__()\n",
    "        self.vocab_size = vocab_size\n",
    "        self.embedding_dim = embedding_dim\n",
    "        self.hidden_dim = hidden_dim\n",
    "        self.embeddings = nn.Embedding.from_pretrained(elmoEmbedding, padding_idx=0)\n",
    "        self.embeddings.weight = nn.Parameter(self.embeddings.weight,requires_grad=\n",
    "                                              False)\n",
    "        self.weights = nn.Parameter(torch.tensor([0.33,0.33,0.33]),requires_grad=False)\n",
    "        self.lstm1 = elmo_lstm1\n",
    "        self.lstm2 = elmo_lstm2\n",
    "        self.linear1 = nn.Linear(embedding_dim, hidden_dim*2)\n",
    "        self.linear_out = nn.Linear(hidden_dim*2, num_classes)\n",
    "        self.dropout = nn.Dropout(0.5)\n",
    "\n",
    "    def forward(self,input_data):\n",
    "        embed = self.embeddings(input_data)\n",
    "        embedChange = self.linear1(embed)\n",
    "        lstm1, _ = self.lstm1(embed)\n",
    "        lstm2, _ = self.lstm2(lstm1)\n",
    "        elmo_out = (self.weights[0]*lstm1 + self.weights[1]*lstm2 + self.weights[2]*embedChange)/(self.weights[0]+self.weights[1]+self.weights[2])\n",
    "        elmo_max = torch.max(elmo_out, dim=1)[0]\n",
    "        elmo_max = self.dropout(elmo_max)\n",
    "        linear_out = self.linear_out(elmo_max)\n",
    "\n",
    "        l2_reg = torch.tensor(0.).to(device)\n",
    "        for param in self.linear1.parameters():\n",
    "            l2_reg += torch.norm(param,2)\n",
    "        for param in self.linear_out.parameters():\n",
    "            l2_reg += torch.norm(param,2)\n",
    "\n",
    "        # scores = self.relu(linear_out)\n",
    "        return linear_out, l2_reg\n"
   ]
  },
  {
   "cell_type": "code",
   "execution_count": 19,
   "metadata": {},
   "outputs": [
    {
     "name": "stdout",
     "output_type": "stream",
     "text": [
      "scoreClassifier(\n",
      "  (embeddings): Embedding(4208, 300, padding_idx=0)\n",
      "  (lstm1): LSTM(300, 100, batch_first=True, bidirectional=True)\n",
      "  (lstm2): LSTM(200, 100, batch_first=True, bidirectional=True)\n",
      "  (linear1): Linear(in_features=300, out_features=200, bias=True)\n",
      "  (linear_out): Linear(in_features=200, out_features=2, bias=True)\n",
      "  (dropout): Dropout(p=0.5, inplace=False)\n",
      ")\n"
     ]
    }
   ],
   "source": [
    "classifier = scoreClassifier(VOCAB_SIZE, EMBEDDING_DIM, HIDDEN_DIM, elmo_embeddings, elmo_lstm1, elmo_lstm2, 2)\n",
    "print(classifier)"
   ]
  },
  {
   "cell_type": "code",
   "execution_count": 20,
   "metadata": {},
   "outputs": [],
   "source": [
    "classifier.to(device)\n",
    "#Initializing optimizer\n",
    "optimizer = optim.Adam(classifier.parameters(), lr=0.001)\n",
    "#Initializing loss function\n",
    "criterion = nn.CrossEntropyLoss()\n",
    "\n"
   ]
  },
  {
   "cell_type": "code",
   "execution_count": 21,
   "metadata": {},
   "outputs": [
    {
     "name": "stdout",
     "output_type": "stream",
     "text": [
      "Epoch: 0\n"
     ]
    },
    {
     "name": "stderr",
     "output_type": "stream",
     "text": [
      "Training: 100%|██████████| 267/267 [00:08<00:00, 30.70it/s]\n",
      "Validation: 100%|██████████| 35/35 [00:00<00:00, 81.07it/s]\n"
     ]
    },
    {
     "name": "stdout",
     "output_type": "stream",
     "text": [
      "Saving model...\n",
      "Train Loss: 0.43420602180314866, Train Accuracy: 0.8349719101123596\n",
      "Validation Loss: 0.7023353951317923, Validation Accuracy: 0.51875\n",
      "Epoch: 1\n"
     ]
    },
    {
     "name": "stderr",
     "output_type": "stream",
     "text": [
      "Training: 100%|██████████| 267/267 [00:09<00:00, 27.54it/s]\n",
      "Validation: 100%|██████████| 35/35 [00:00<00:00, 66.16it/s]\n"
     ]
    },
    {
     "name": "stdout",
     "output_type": "stream",
     "text": [
      "Train Loss: 0.42194273752554523, Train Accuracy: 0.8319288389513109\n",
      "Validation Loss: 0.7024373863424573, Validation Accuracy: 0.53125\n",
      "Epoch: 2\n"
     ]
    },
    {
     "name": "stderr",
     "output_type": "stream",
     "text": [
      "Training: 100%|██████████| 267/267 [00:10<00:00, 24.76it/s]\n",
      "Validation: 100%|██████████| 35/35 [00:00<00:00, 56.29it/s]\n"
     ]
    },
    {
     "name": "stdout",
     "output_type": "stream",
     "text": [
      "Saving model...\n",
      "Train Loss: 0.4154019868105985, Train Accuracy: 0.8288857677902621\n",
      "Validation Loss: 0.6728725152356284, Validation Accuracy: 0.5776785714285714\n",
      "Epoch: 3\n"
     ]
    },
    {
     "name": "stderr",
     "output_type": "stream",
     "text": [
      "Training: 100%|██████████| 267/267 [00:10<00:00, 25.08it/s]\n",
      "Validation: 100%|██████████| 35/35 [00:00<00:00, 59.02it/s]\n"
     ]
    },
    {
     "name": "stdout",
     "output_type": "stream",
     "text": [
      "Saving model...\n",
      "Train Loss: 0.3977872875801633, Train Accuracy: 0.839185393258427\n",
      "Validation Loss: 0.6169291964599064, Validation Accuracy: 0.6611950549450549\n",
      "Epoch: 4\n"
     ]
    },
    {
     "name": "stderr",
     "output_type": "stream",
     "text": [
      "Training: 100%|██████████| 267/267 [00:12<00:00, 20.59it/s]\n",
      "Validation: 100%|██████████| 35/35 [00:00<00:00, 56.80it/s]\n"
     ]
    },
    {
     "name": "stdout",
     "output_type": "stream",
     "text": [
      "Train Loss: 0.38467067962840257, Train Accuracy: 0.8465589887640449\n",
      "Validation Loss: 0.6492685726710729, Validation Accuracy: 0.6326236263736263\n",
      "Epoch: 5\n"
     ]
    },
    {
     "name": "stderr",
     "output_type": "stream",
     "text": [
      "Training: 100%|██████████| 267/267 [00:16<00:00, 16.59it/s]\n",
      "Validation: 100%|██████████| 35/35 [00:00<00:00, 60.13it/s]\n"
     ]
    },
    {
     "name": "stdout",
     "output_type": "stream",
     "text": [
      "Train Loss: 0.3841348060786947, Train Accuracy: 0.8424625468164794\n",
      "Validation Loss: 0.6390794243131365, Validation Accuracy: 0.6513736263736264\n",
      "Epoch: 6\n"
     ]
    },
    {
     "name": "stderr",
     "output_type": "stream",
     "text": [
      "Training: 100%|██████████| 267/267 [00:12<00:00, 20.86it/s]\n",
      "Validation: 100%|██████████| 35/35 [00:00<00:00, 35.50it/s]\n"
     ]
    },
    {
     "name": "stdout",
     "output_type": "stream",
     "text": [
      "Train Loss: 0.38407313513956715, Train Accuracy: 0.8438670411985019\n",
      "Validation Loss: 0.6600890572581972, Validation Accuracy: 0.6361950549450549\n",
      "Epoch: 7\n"
     ]
    },
    {
     "name": "stderr",
     "output_type": "stream",
     "text": [
      "Training: 100%|██████████| 267/267 [00:14<00:00, 18.79it/s]\n",
      "Validation: 100%|██████████| 35/35 [00:00<00:00, 37.68it/s]\n"
     ]
    },
    {
     "name": "stdout",
     "output_type": "stream",
     "text": [
      "Train Loss: 0.3805114700274075, Train Accuracy: 0.8421114232209738\n",
      "Validation Loss: 0.6677650375025613, Validation Accuracy: 0.6353021978021978\n",
      "Epoch: 8\n"
     ]
    },
    {
     "name": "stderr",
     "output_type": "stream",
     "text": [
      "Training: 100%|██████████| 267/267 [00:14<00:00, 18.38it/s]\n",
      "Validation: 100%|██████████| 35/35 [00:00<00:00, 52.74it/s]\n"
     ]
    },
    {
     "name": "stdout",
     "output_type": "stream",
     "text": [
      "Train Loss: 0.3731080978439095, Train Accuracy: 0.8473782771535581\n",
      "Validation Loss: 0.6478226125240326, Validation Accuracy: 0.648695054945055\n",
      "Epoch: 9\n"
     ]
    },
    {
     "name": "stderr",
     "output_type": "stream",
     "text": [
      "Training: 100%|██████████| 267/267 [00:14<00:00, 18.35it/s]\n",
      "Validation: 100%|██████████| 35/35 [00:00<00:00, 52.53it/s]\n"
     ]
    },
    {
     "name": "stdout",
     "output_type": "stream",
     "text": [
      "Train Loss: 0.36762273300453074, Train Accuracy: 0.8524110486891385\n",
      "Validation Loss: 0.6575510816914695, Validation Accuracy: 0.6469093406593407\n",
      "Epoch: 10\n"
     ]
    },
    {
     "name": "stderr",
     "output_type": "stream",
     "text": [
      "Training: 100%|██████████| 267/267 [00:14<00:00, 18.37it/s]\n",
      "Validation: 100%|██████████| 35/35 [00:00<00:00, 52.75it/s]\n"
     ]
    },
    {
     "name": "stdout",
     "output_type": "stream",
     "text": [
      "Train Loss: 0.3589143538463875, Train Accuracy: 0.8520599250936329\n",
      "Validation Loss: 0.6410675849233355, Validation Accuracy: 0.6576236263736264\n",
      "Epoch: 11\n"
     ]
    },
    {
     "name": "stderr",
     "output_type": "stream",
     "text": [
      "Training: 100%|██████████| 267/267 [00:14<00:00, 18.36it/s]\n",
      "Validation: 100%|██████████| 35/35 [00:00<00:00, 51.63it/s]\n"
     ]
    },
    {
     "name": "stdout",
     "output_type": "stream",
     "text": [
      "Train Loss: 0.34759551523888155, Train Accuracy: 0.8586142322097379\n",
      "Validation Loss: 0.6379699106727328, Validation Accuracy: 0.6656593406593406\n",
      "Epoch: 12\n"
     ]
    },
    {
     "name": "stderr",
     "output_type": "stream",
     "text": [
      "Training: 100%|██████████| 267/267 [00:14<00:00, 18.42it/s]\n",
      "Validation: 100%|██████████| 35/35 [00:00<00:00, 52.80it/s]\n"
     ]
    },
    {
     "name": "stdout",
     "output_type": "stream",
     "text": [
      "Train Loss: 0.34192359383298215, Train Accuracy: 0.8623595505617978\n",
      "Validation Loss: 0.6274962782859802, Validation Accuracy: 0.6710164835164836\n",
      "Epoch: 13\n"
     ]
    },
    {
     "name": "stderr",
     "output_type": "stream",
     "text": [
      "Training: 100%|██████████| 267/267 [00:14<00:00, 18.25it/s]\n",
      "Validation: 100%|██████████| 35/35 [00:00<00:00, 51.88it/s]\n"
     ]
    },
    {
     "name": "stdout",
     "output_type": "stream",
     "text": [
      "Train Loss: 0.3309178680516361, Train Accuracy: 0.8677434456928839\n",
      "Validation Loss: 0.6426023725952421, Validation Accuracy: 0.6603021978021978\n",
      "Epoch: 14\n"
     ]
    },
    {
     "name": "stderr",
     "output_type": "stream",
     "text": [
      "Training: 100%|██████████| 267/267 [00:11<00:00, 22.55it/s]\n",
      "Validation: 100%|██████████| 35/35 [00:00<00:00, 40.88it/s]\n"
     ]
    },
    {
     "name": "stdout",
     "output_type": "stream",
     "text": [
      "Train Loss: 0.3238423254326935, Train Accuracy: 0.8707865168539326\n",
      "Validation Loss: 0.6291220064674105, Validation Accuracy: 0.679945054945055\n",
      "Epoch: 15\n"
     ]
    },
    {
     "name": "stderr",
     "output_type": "stream",
     "text": [
      "Training: 100%|██████████| 267/267 [00:12<00:00, 22.10it/s]\n",
      "Validation: 100%|██████████| 35/35 [00:00<00:00, 37.19it/s]\n"
     ]
    },
    {
     "name": "stdout",
     "output_type": "stream",
     "text": [
      "Train Loss: 0.3106876801462209, Train Accuracy: 0.8765215355805244\n",
      "Validation Loss: 0.6236403354576656, Validation Accuracy: 0.6924450549450549\n",
      "Epoch: 16\n"
     ]
    },
    {
     "name": "stderr",
     "output_type": "stream",
     "text": [
      "Training: 100%|██████████| 267/267 [00:12<00:00, 21.56it/s]\n",
      "Validation: 100%|██████████| 35/35 [00:00<00:00, 53.66it/s]\n"
     ]
    },
    {
     "name": "stdout",
     "output_type": "stream",
     "text": [
      "Train Loss: 0.29626377242223156, Train Accuracy: 0.8843632958801498\n",
      "Validation Loss: 0.6276872898851122, Validation Accuracy: 0.6947115384615384\n",
      "Epoch: 17\n"
     ]
    },
    {
     "name": "stderr",
     "output_type": "stream",
     "text": [
      "Training: 100%|██████████| 267/267 [00:14<00:00, 18.90it/s]\n",
      "Validation: 100%|██████████| 35/35 [00:00<00:00, 53.66it/s]\n"
     ]
    },
    {
     "name": "stdout",
     "output_type": "stream",
     "text": [
      "Train Loss: 0.2861016093568409, Train Accuracy: 0.8900983146067416\n",
      "Validation Loss: 0.6386039078235626, Validation Accuracy: 0.6915521978021978\n",
      "Epoch: 18\n"
     ]
    },
    {
     "name": "stderr",
     "output_type": "stream",
     "text": [
      "Training: 100%|██████████| 267/267 [00:14<00:00, 18.90it/s]\n",
      "Validation: 100%|██████████| 35/35 [00:00<00:00, 52.81it/s]\n"
     ]
    },
    {
     "name": "stdout",
     "output_type": "stream",
     "text": [
      "Train Loss: 0.2704278899824128, Train Accuracy: 0.8977059925093633\n",
      "Validation Loss: 0.6364005667822702, Validation Accuracy: 0.7022664835164836\n",
      "Epoch: 19\n"
     ]
    },
    {
     "name": "stderr",
     "output_type": "stream",
     "text": [
      "Training: 100%|██████████| 267/267 [00:14<00:00, 18.86it/s]\n",
      "Validation: 100%|██████████| 35/35 [00:00<00:00, 53.38it/s]\n"
     ]
    },
    {
     "name": "stdout",
     "output_type": "stream",
     "text": [
      "Train Loss: 0.2576260098189897, Train Accuracy: 0.9025046816479401\n",
      "Validation Loss: 0.64885727422578, Validation Accuracy: 0.7058379120879121\n",
      "Epoch: 20\n"
     ]
    },
    {
     "name": "stderr",
     "output_type": "stream",
     "text": [
      "Training: 100%|██████████| 267/267 [00:14<00:00, 18.86it/s]\n",
      "Validation: 100%|██████████| 35/35 [00:00<00:00, 52.53it/s]\n"
     ]
    },
    {
     "name": "stdout",
     "output_type": "stream",
     "text": [
      "Train Loss: 0.24143873738327276, Train Accuracy: 0.9082397003745318\n",
      "Validation Loss: 0.6612593305962426, Validation Accuracy: 0.6986950549450549\n",
      "Epoch: 21\n"
     ]
    },
    {
     "name": "stderr",
     "output_type": "stream",
     "text": [
      "Training: 100%|██████████| 267/267 [00:14<00:00, 18.89it/s]\n",
      "Validation: 100%|██████████| 35/35 [00:00<00:00, 53.36it/s]\n"
     ]
    },
    {
     "name": "stdout",
     "output_type": "stream",
     "text": [
      "Train Loss: 0.23146333682179898, Train Accuracy: 0.9156132958801498\n",
      "Validation Loss: 0.6859170709337506, Validation Accuracy: 0.6938186813186813\n",
      "Epoch: 22\n"
     ]
    },
    {
     "name": "stderr",
     "output_type": "stream",
     "text": [
      "Training: 100%|██████████| 267/267 [00:14<00:00, 18.85it/s]\n",
      "Validation: 100%|██████████| 35/35 [00:00<00:00, 53.23it/s]\n"
     ]
    },
    {
     "name": "stdout",
     "output_type": "stream",
     "text": [
      "Train Loss: 0.21460236106695754, Train Accuracy: 0.925561797752809\n",
      "Validation Loss: 0.6764276266098023, Validation Accuracy: 0.7045329670329671\n",
      "Epoch: 23\n"
     ]
    },
    {
     "name": "stderr",
     "output_type": "stream",
     "text": [
      "Training: 100%|██████████| 267/267 [00:14<00:00, 18.93it/s]\n",
      "Validation: 100%|██████████| 35/35 [00:00<00:00, 53.88it/s]\n"
     ]
    },
    {
     "name": "stdout",
     "output_type": "stream",
     "text": [
      "Train Loss: 0.20137365299106091, Train Accuracy: 0.9276685393258427\n",
      "Validation Loss: 0.6718297362327575, Validation Accuracy: 0.7005494505494506\n",
      "Epoch: 24\n"
     ]
    },
    {
     "name": "stderr",
     "output_type": "stream",
     "text": [
      "Training: 100%|██████████| 267/267 [00:14<00:00, 18.88it/s]\n",
      "Validation: 100%|██████████| 35/35 [00:00<00:00, 52.41it/s]"
     ]
    },
    {
     "name": "stdout",
     "output_type": "stream",
     "text": [
      "Train Loss: 0.1796728078596824, Train Accuracy: 0.9407771535580525\n",
      "Validation Loss: 0.7431924939155579, Validation Accuracy: 0.6991758241758242\n"
     ]
    },
    {
     "name": "stderr",
     "output_type": "stream",
     "text": [
      "\n"
     ]
    }
   ],
   "source": [
    "def train_classifier_epoch(model, train_dataloader, optimizer, criterion, device):\n",
    "    model.train()\n",
    "    train_loss = 0\n",
    "    iter = 0\n",
    "    total_acc = 0 \n",
    "    for batch in tqdm(train_dataloader,desc=\"Training\"):\n",
    "        optimizer.zero_grad()\n",
    "        batch = tuple(t.to(device) for t in batch)\n",
    "        input_data,labels,_,_ = batch\n",
    "        logits,l2_reg = model(input_data)\n",
    "        loss = criterion(logits, labels) + 0.001*l2_reg\n",
    "        loss.backward()\n",
    "        optimizer.step()\n",
    "        _,preds = torch.max(logits, dim=1)\n",
    "        train_acc = accuracy_score(labels.cpu().detach().numpy(), preds.cpu().detach().numpy())\n",
    "        total_acc += train_acc\n",
    "        train_loss += loss.item()\n",
    "        iter += 1\n",
    "        if iter % 1000 == 0:\n",
    "            print(\"Iteration: {}, Train Loss: {}\".format(iter, loss.item()))\n",
    "\n",
    "    return train_loss/len(train_dataloader), total_acc/len(train_dataloader)\n",
    "\n",
    "def eval_classifier_epoch(model, val_dataloader, criterion, device):\n",
    "    model.eval()\n",
    "    losses = 0\n",
    "    iter = 0\n",
    "    total_acc = 0\n",
    "    with torch.no_grad():\n",
    "        for batch in tqdm(val_dataloader,desc=\"Validation\"):\n",
    "            batch = tuple(t.to(device) for t in batch)\n",
    "            input_data,labels,_,_ = batch\n",
    "            logits,_ = model(input_data)\n",
    " \n",
    "            _,preds = torch.max(logits, dim=1)\n",
    "            val_acc = accuracy_score(labels.cpu().detach().numpy(), preds.cpu().detach().numpy())\n",
    "            total_acc += val_acc\n",
    "            loss = criterion(logits, labels) \n",
    "            losses += loss.item()\n",
    "            iter += 1\n",
    "            if iter % 500 == 0:\n",
    "                print(\"Iteration: {}, Validation Loss: {}\".format(iter, loss.item()))\n",
    "    return losses/len(val_dataloader), total_acc/len(val_dataloader)\n",
    "\n",
    "def train_classifier(model, train_dataloader, val_dataloader, optimizer, criterion, device, epochs=10):\n",
    "\n",
    "    losses = {'epoch': [], 'train_loss': [], 'valid_loss': []}\n",
    "    acc = {'epoch': [], 'train_acc': [], 'valid_acc': []}\n",
    "    min_valid_loss = float('inf')\n",
    "    for epoch in range(epochs):\n",
    "        print(\"Epoch: {}\".format(epoch))\n",
    "\n",
    "        train_loss,train_acc = train_classifier_epoch(model, train_dataloader, optimizer, criterion, device)\n",
    "        val_loss,val_acc = eval_classifier_epoch(model, val_dataloader, criterion, device)\n",
    "        if val_loss < min_valid_loss:\n",
    "            min_valid_loss = val_loss\n",
    "            print(\"Saving model...\")\n",
    "            # torch.save(model.state_dict(), 'elmo2_classifier.pt')\n",
    "\n",
    "        print(\"Train Loss: {}, Train Accuracy: {}\".format(train_loss,train_acc))\n",
    "        print(\"Validation Loss: {}, Validation Accuracy: {}\".format(val_loss,val_acc))\n",
    "        losses['epoch'].append(epoch)\n",
    "        losses['train_loss'].append(train_loss)\n",
    "        losses['valid_loss'].append(val_loss)\n",
    "        acc['epoch'].append(epoch)\n",
    "        acc['train_acc'].append(train_acc)\n",
    "        acc['valid_acc'].append(val_acc)\n",
    "        \n",
    "    return losses,acc \n",
    "\n",
    "train_losses = train_classifier(classifier, train_dataloader, valid_dataloader, optimizer, criterion, device, epochs=25)\n"
   ]
  },
  {
   "cell_type": "code",
   "execution_count": 22,
   "metadata": {},
   "outputs": [
    {
     "data": {
      "image/png": "[encoded data removed]",
      "text/plain": [
       "<Figure size 640x480 with 1 Axes>"
      ]
     },
     "metadata": {},
     "output_type": "display_data"
    },
    {
     "data": {
      "text/plain": [
       "<Figure size 640x480 with 0 Axes>"
      ]
     },
     "metadata": {},
     "output_type": "display_data"
    }
   ],
   "source": [
    "# Plotting the loss\n",
    "# train_losses = train_losses\n",
    "losses,acc = train_losses\n",
    "plt.plot(losses['epoch'], losses['train_loss'], label='train')\n",
    "plt.plot(losses['epoch'], losses['valid_loss'], label='valid')\n",
    "# mark with circle\n",
    "plt.scatter(losses['epoch'], losses['train_loss'], label='train')\n",
    "plt.scatter(losses['epoch'], losses['valid_loss'], label='valid')\n",
    "plt.title('ELMo Classifier Loss')\n",
    "plt.xlabel('Epoch')\n",
    "plt.ylabel('Loss')\n",
    "plt.legend()\n",
    "plt.show()\n",
    "plt.savefig('elmo1_classifier_loss.png')"
   ]
  },
  {
   "cell_type": "code",
   "execution_count": 23,
   "metadata": {},
   "outputs": [
    {
     "data": {
      "image/png": "[encoded data removed]",
      "text/plain": [
       "<Figure size 640x480 with 1 Axes>"
      ]
     },
     "metadata": {},
     "output_type": "display_data"
    },
    {
     "data": {
      "text/plain": [
       "<Figure size 640x480 with 0 Axes>"
      ]
     },
     "metadata": {},
     "output_type": "display_data"
    }
   ],
   "source": [
    "# Plotting the accuracy\n",
    "plt.plot(acc['epoch'], acc['train_acc'], label='train')\n",
    "plt.plot(acc['epoch'], acc['valid_acc'], label='valid')\n",
    "# mark with circle\n",
    "plt.scatter(acc['epoch'], acc['train_acc'], label='train')\n",
    "plt.scatter(acc['epoch'], acc['valid_acc'], label='valid')\n",
    "plt.title('ELMo Classifier Accuracy')\n",
    "plt.xlabel('Epoch')\n",
    "plt.ylabel('Accuracy')\n",
    "plt.legend()\n",
    "plt.show()\n",
    "plt.savefig('elmo1_classifier_acc.png')\n"
   ]
  },
  {
   "cell_type": "code",
   "execution_count": 29,
   "metadata": {},
   "outputs": [
    {
     "name": "stderr",
     "output_type": "stream",
     "text": [
      "Testing: 100%|██████████| 615/615 [00:10<00:00, 57.64it/s]\n"
     ]
    },
    {
     "name": "stdout",
     "output_type": "stream",
     "text": [
      "              precision    recall  f1-score   support\n",
      "\n",
      "    negative       0.35      0.14      0.20      3463\n",
      "     neutral       1.00      0.00      0.00      3129\n",
      "    positive       0.33      0.86      0.48      3240\n",
      "\n",
      "    accuracy                           0.33      9832\n",
      "   macro avg       0.56      0.33      0.23      9832\n",
      "weighted avg       0.55      0.33      0.23      9832\n",
      "\n",
      "Accuracy: 0.33329943043124494\n",
      "Confusion Matrix: \n",
      "[[ 492.    0. 2971.]\n",
      " [ 466.    0. 2663.]\n",
      " [ 455.    0. 2785.]]\n"
     ]
    }
   ],
   "source": [
    "from sklearn.metrics import classification_report, accuracy_score, confusion_matrix, f1_score, precision_score, recall_score\n",
    "import numpy as np\n",
    "classifier.load_state_dict(torch.load('elmo2_classifier.pt'))\n",
    "classifier.eval()\n",
    "y_true = []\n",
    "y_pred = []\n",
    "confusion_matrix = np.zeros((3,3))\n",
    "\n",
    "with torch.no_grad():\n",
    "    for batch in tqdm(test_dataloader,desc=\"Testing\"):\n",
    "        batch = tuple(t.to(device) for t in batch)\n",
    "        input_data,labels,_,_ = batch\n",
    "        logits,_ = classifier(input_data)\n",
    "        _,preds = torch.max(logits, dim=1)\n",
    "        y_true.extend(labels.cpu().detach().numpy())\n",
    "        y_pred.extend(preds.cpu().detach().numpy())\n",
    "        for i in range(len(labels)):\n",
    "            confusion_matrix[labels[i]][preds[i]] += 1\n",
    "\n",
    "print(classification_report(y_true, y_pred, target_names=['negative','neutral','positive'],zero_division=1))\n",
    "print(\"Accuracy: {}\".format(accuracy_score(y_true, y_pred)))\n",
    "print(\"F1 Score: {}\".format(f1_score(y_true, y_pred),average='micro'))\n",
    "print(\"Precision: {}\".format(precision_score(y_true, y_pred),average='micro'))\n",
    "print(\"Recall: {}\".format(recall_score(y_true, y_pred),average='micro'))\n",
    "print(\"Confusion Matrix: \")\n",
    "print(confusion_matrix)"
   ]
  },
  {
   "cell_type": "code",
   "execution_count": null,
   "metadata": {},
   "outputs": [],
   "source": [
    "import numpy as np\n",
    "import matplotlib.pyplot as plt\n",
    "from sklearn.metrics import roc_curve, auc\n",
    "\n",
    "# assume y_true and y_scores are your true labels and predicted scores, respectively\n",
    "fpr, tpr, thresholds = roc_curve(y_true, y_pred)\n",
    "roc_auc = auc(fpr, tpr)\n",
    "\n",
    "# plot the ROC curve\n",
    "plt.figure(figsize=(8, 6))\n",
    "plt.plot(fpr, tpr, color='darkorange', lw=2,\n",
    "         label='ROC curve (area = %0.2f)' % roc_auc)\n",
    "plt.plot([0, 1], [0, 1], color='navy', lw=2, linestyle='--')\n",
    "plt.xlim([0.0, 1.0])\n",
    "plt.ylim([0.0, 1.05])\n",
    "plt.xlabel('False Positive Rate')\n",
    "plt.ylabel('True Positive Rate')\n",
    "plt.title('Receiver Operating Characteristic (ROC)')\n",
    "plt.legend(loc=\"lower right\")\n",
    "plt.show()\n"
   ]
  },
  {
   "cell_type": "code",
   "execution_count": 32,
   "metadata": {},
   "outputs": [
    {
     "name": "stderr",
     "output_type": "stream",
     "text": [
      "Testing: 100%|██████████| 1913/1913 [01:04<00:00, 29.53it/s]\n"
     ]
    },
    {
     "name": "stdout",
     "output_type": "stream",
     "text": [
      "              precision    recall  f1-score   support\n",
      "\n",
      "    negative       0.37      0.21      0.27     10371\n",
      "     neutral       1.00      0.00      0.00      9130\n",
      "    positive       0.37      0.82      0.51     11105\n",
      "\n",
      "    accuracy                           0.37     30606\n",
      "   macro avg       0.58      0.34      0.26     30606\n",
      "weighted avg       0.56      0.37      0.27     30606\n",
      "\n",
      "Accuracy: 0.3679997386133438\n",
      "Confusion Matrix: \n",
      "[[2153.    0. 8218.]\n",
      " [1645.    0. 7485.]\n",
      " [1995.    0. 9110.]]\n"
     ]
    }
   ],
   "source": [
    "classifier.eval()\n",
    "y_true = []\n",
    "y_pred = []\n",
    "confusion_matrix = np.zeros((3, 3))\n",
    "\n",
    "with torch.no_grad():\n",
    "    for batch in tqdm(train_dataloader, desc=\"Testing\"):\n",
    "        batch = tuple(t.to(device) for t in batch)\n",
    "        input_data, labels, _, _ = batch\n",
    "        logits, _ = classifier(input_data)\n",
    "        _, preds = torch.max(logits, dim=1)\n",
    "        y_true.extend(labels.cpu().detach().numpy())\n",
    "        y_pred.extend(preds.cpu().detach().numpy())\n",
    "        for i in range(len(labels)):\n",
    "            confusion_matrix[labels[i]][preds[i]] += 1\n",
    "\n",
    "print(classification_report(y_true, y_pred, target_names=['negative', 'neutral', 'positive'], zero_division=1))\n",
    "print(\"Accuracy: {}\".format(accuracy_score(y_true, y_pred)))\n",
    "# print(\"F1 Score: {}\".format(f1_score(y_true, y_pred)))\n",
    "# print(\"Precision: {}\".format(precision_score(y_true, y_pred)))\n",
    "# print(\"Recall: {}\".format(recall_score(y_true, y_pred)))\n",
    "print(\"Confusion Matrix: \")\n",
    "print(confusion_matrix)\n"
   ]
  },
  {
   "cell_type": "code",
   "execution_count": 152,
   "metadata": {},
   "outputs": [
    {
     "data": {
      "image/png": "[encoded data removed]",
      "text/plain": [
       "<Figure size 800x600 with 1 Axes>"
      ]
     },
     "metadata": {},
     "output_type": "display_data"
    }
   ],
   "source": [
    "import numpy as np\n",
    "import matplotlib.pyplot as plt\n",
    "from sklearn.metrics import roc_curve, auc\n",
    "\n",
    "# assume y_true and y_scores are your true labels and predicted scores, respectively\n",
    "fpr, tpr, thresholds = roc_curve(y_true, y_pred)\n",
    "roc_auc = auc(fpr, tpr)\n",
    "\n",
    "# plot the ROC curve\n",
    "plt.figure(figsize=(8, 6))\n",
    "plt.plot(fpr, tpr, color='darkorange', lw=2,\n",
    "         label='ROC curve (area = %0.2f)' % roc_auc)\n",
    "plt.plot([0, 1], [0, 1], color='navy', lw=2, linestyle='--')\n",
    "plt.xlim([0.0, 1.0])\n",
    "plt.ylim([0.0, 1.05])\n",
    "plt.xlabel('False Positive Rate')\n",
    "plt.ylabel('True Positive Rate')\n",
    "plt.title('Receiver Operating Characteristic (ROC)')\n",
    "plt.legend(loc=\"lower right\")\n",
    "plt.show()\n"
   ]
  }
 ],
 "metadata": {
  "kernelspec": {
   "display_name": "Python 3",
   "language": "python",
   "name": "python3"
  },
  "language_info": {
   "codemirror_mode": {
    "name": "ipython",
    "version": 3
   },
   "file_extension": ".py",
   "mimetype": "text/x-python",
   "name": "python",
   "nbconvert_exporter": "python",
   "pygments_lexer": "ipython3",
   "version": "3.10.9"
  },
  "orig_nbformat": 4
 },
 "nbformat": 4,
 "nbformat_minor": 2
}
