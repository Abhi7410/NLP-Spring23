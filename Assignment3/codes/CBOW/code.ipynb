{
 "cells": [
  {
   "cell_type": "code",
   "execution_count": 24,
   "metadata": {},
   "outputs": [],
   "source": [
    "import numpy as np\n",
    "import torch\n",
    "from torch.utils.data import Dataset, DataLoader\n",
    "import torch.nn as nn\n",
    "import torch.nn.functional as F\n",
    "import torch.optim as optim\n",
    "import torch.autograd as autograd\n",
    "from tqdm import tqdm \n",
    "from torch.nn import init\n",
    "import random\n",
    "\n",
    "np.random.seed(21)"
   ]
  },
  {
   "cell_type": "code",
   "execution_count": 35,
   "metadata": {},
   "outputs": [],
   "source": [
    "class Data:\n",
    "    TABLE_SIZE = 1e8\n",
    "    def __init__(self,training_data,min_freq,to_be_discard_size):\n",
    "        self.training_data = training_data\n",
    "        self.min_freq = min_freq\n",
    "        self.to_be_discard_size = to_be_discard_size\n",
    "        self.word2index = {}\n",
    "        self.index2word = {}\n",
    "        self.word_freq = {}\n",
    "        self.sentence_count = 0 \n",
    "        self.words_count = 0\n",
    "        self.vocab_size = 0\n",
    "        self.negatives = []\n",
    "        self.subSampleTable = []\n",
    "        self.negativePos = 0\n",
    "        self.generateWords()\n",
    "        self.generateNegatives()\n",
    "        self.generateSubSampleTable()\n",
    "        \n",
    "\n",
    "    def generateWords(self):\n",
    "        temp_dict = {}\n",
    "        for sentence in self.training_data:\n",
    "            sentence = sentence.split()\n",
    "            if len(sentence) < 2:\n",
    "                continue\n",
    "            self.sentence_count += 1\n",
    "            for word in sentence:\n",
    "                if len(word) < 1:\n",
    "                    continue\n",
    "                self.words_count += 1\n",
    "                if word not in temp_dict:\n",
    "                    temp_dict[word] = 1\n",
    "                else:\n",
    "                    temp_dict[word] += 1\n",
    "                if self.words_count %(1e6) == 0:\n",
    "                    print(\"Processed {} M tokens\".format(self.words_count))\n",
    "        # indexing words for words , start, end and padding\n",
    "        self.word2index = {'<PAD>':0,'<S>':1,'</S>':2}\n",
    "        self.index2word = {0:'<PAD>',1:'<S>',2:'</S>'}\n",
    "        self.word_freq = {'<PAD>':1,'<S>':1,'</S>':1}\n",
    "        for word,cnt in temp_dict.items():\n",
    "            if cnt >= self.min_freq:\n",
    "                self.word2index[word] = len(self.word2index)\n",
    "                self.index2word[len(self.index2word)] = word\n",
    "                self.word_freq[word] = cnt\n",
    "\n",
    "        self.vocab_size = len(self.word2index)\n",
    "        print(\"Vocab size is {}\".format(self.vocab_size))\n",
    "        print(\"Total number of words {}\".format(self.words_count))\n",
    "        print(\"Total number of sentences {}\".format(self.sentence_count))\n",
    "\n",
    "    def generateNegatives(self):\n",
    "        newFreqWords = []\n",
    "        for word in self.word_freq:\n",
    "            newFreqWords.append(self.word_freq[word])\n",
    "        newFreqWords = np.array(newFreqWords)**0.75\n",
    "        newFreqWords = newFreqWords/np.sum(newFreqWords)\n",
    "\n",
    "        # self.negatives = np.random.choice(len(newFreqWords),size=int(Data.TABLE_SIZE),p=newFreqWords)\n",
    "        self.negatives = np.random.choice(len(newFreqWords),size=int(Data.TABLE_SIZE),p=newFreqWords)\n",
    "        # newFreqWords = np.round(newFreqWords*Data.TABLE_SIZE)\n",
    "        # for w_id,cnt in enumerate(newFreqWords):\n",
    "        #     self.negatives += [w_id]*int(cnt)\n",
    "\n",
    "        # self.negatives = np.array(self.negatives)\n",
    "        # np.random.shuffle(self.negatives)\n",
    "        print(\"Negative samples generated\")\n",
    "\n",
    "    def generateSubSampleTable(self):\n",
    "        # f = sqrt(t/f) + t/f\n",
    "        fr = np.array(list(self.word_freq.values()))\n",
    "        fr = fr/np.sum(fr)\n",
    "        fr = np.sqrt(1e-3/fr) + 1e-3/fr\n",
    "        self.subSampleTable = np.round(fr * self.TABLE_SIZE)\n",
    "        print(\"Subsample table generated\")\n",
    "\n",
    "    def getNegativeSamples(self,target):\n",
    "        negSamples = []\n",
    "        while len(negSamples) < self.to_be_discard_size:\n",
    "            neg = self.negatives[self.negativePos]\n",
    "            self.negativePos = (self.negativePos + 1) % len(self.negatives)\n",
    "            if neg not in negSamples and neg != target:\n",
    "                negSamples.append(neg)\n",
    "\n",
    "        if len(negSamples) != self.to_be_discard_size:\n",
    "            return np.concatenate((negSamples,self.negatives[:self.to_be_discard_size-len(negSamples)]))\n",
    "        return negSamples\n",
    "\n"
   ]
  },
  {
   "cell_type": "code",
   "execution_count": 36,
   "metadata": {},
   "outputs": [
    {
     "name": "stdout",
     "output_type": "stream",
     "text": [
      "Vocab size is 258\n",
      "Total number of words 7565\n",
      "Total number of sentences 99\n",
      "Negative samples generated\n",
      "Subsample table generated\n"
     ]
    },
    {
     "data": {
      "text/plain": [
       "(100000000,)"
      ]
     },
     "execution_count": 36,
     "metadata": {},
     "output_type": "execute_result"
    }
   ],
   "source": [
    "\n",
    "data = Data(training_data[:100], min_freq=5, to_be_discard_size=5)\n",
    "data.negatives.shape \n"
   ]
  },
  {
   "cell_type": "code",
   "execution_count": 37,
   "metadata": {},
   "outputs": [],
   "source": [
    "class Word2vecDataLoader(Dataset):\n",
    "    def __init__(self, data, windowSize):\n",
    "        self.data = data\n",
    "        self.windowSize = windowSize\n",
    "        self.word2index = data.word2index\n",
    "        self.index2word = data.index2word\n",
    "        self.word_freq = data.word_freq\n",
    "        self.subSampleTable = data.subSampleTable\n",
    "        self.negatives = data.negatives\n",
    "        self.length = data.sentence_count\n",
    "\n",
    "    def __len__(self):\n",
    "        return self.length\n",
    "    \n",
    "    def __getitem__(self, idx):\n",
    "        sentence = self.data.training_data[idx].split()\n",
    "        if len(sentence) < 2:\n",
    "            # Can not return none as it will throw error\n",
    "            if idx+1 == self.length:\n",
    "                idx = 0\n",
    "            return self.__getitem__(idx+1)\n",
    "        sentence_ids = [self.word2index[word] for word in sentence if word in self.word2index and np.random.rand() < self.subSampleTable[self.word2index[word]]]\n",
    "        padded_sent = [self.word2index['<S>']] + sentence_ids + [self.word2index['</S>']]\n",
    "        cbowData = []\n",
    "        szOneSide = self.windowSize//2\n",
    "        for ind,word in enumerate(padded_sent):\n",
    "            if ind == 0 or ind == len(padded_sent)-1:\n",
    "                continue\n",
    "            start = max(0,ind-szOneSide)\n",
    "            end = min(len(padded_sent)-1,ind+szOneSide)\n",
    "            context = [padded_sent[i] for i in range(start,end+1) if i != ind]\n",
    "            if len(context) < 2*(szOneSide):\n",
    "                context += [self.word2index['<PAD>']]*(2*(szOneSide)-len(context))\n",
    "            \n",
    "            cbowData.append((context,word,self.data.getNegativeSamples(word)))\n",
    "\n",
    "        return cbowData\n",
    "    \n",
    "    @staticmethod\n",
    "    def collate_fn(batches):\n",
    "        targ_batch = [u for batch in batches for u,v,n in batch if len(batch) > 0]\n",
    "        context_batch = [v for batch in batches for u,v,n in batch if len(batch) > 0]\n",
    "        neg_batch = [n for batch in batches for u,v,n in batch if len(batch) > 0]\n",
    "\n",
    "        return torch.LongTensor(context_batch),torch.LongTensor(targ_batch),torch.LongTensor(neg_batch)\n",
    "    \n",
    "\n",
    "class skipGramModule(nn.Module):\n",
    "    def __init__(self,vocab_size,embedding_size):\n",
    "        super(skipGramModule,self).__init__()\n",
    "        self.vocab_size = vocab_size\n",
    "        self.embedding_size = embedding_size\n",
    "        self.targetEmbedding = nn.Embedding(vocab_size,embedding_size,sparse=True)\n",
    "        self.contextEmbedding = nn.Embedding(vocab_size,embedding_size,sparse=True)\n",
    "        initrange = 1.0/self.embedding_size\n",
    "        init.uniform_(self.targetEmbedding.weight.data,-initrange,initrange)\n",
    "        init.constant_(self.contextEmbedding.weight.data,0)\n",
    "\n",
    "    def forward(self,context,target,negatives):\n",
    "        trg_embedding = self.targetEmbedding(target)\n",
    "        trg_embedding = torch.mean(trg_embedding,dim=1)\n",
    "        context_embedding = self.contextEmbedding(context)\n",
    "        neg_embedding = self.contextEmbedding(negatives)\n",
    "\n",
    "        pos_score = torch.sum(\n",
    "            torch.mul(trg_embedding, context_embedding), dim=1)\n",
    "        pos_score = torch.clamp(pos_score,max=10,min=-10)\n",
    "        pos_score = -F.logsigmoid(pos_score)\n",
    "\n",
    "        neg_score = torch.bmm(neg_embedding,torch.unsqueeze(trg_embedding,2)).squeeze()\n",
    "        neg_score = torch.clamp(neg_score,max=10,min=-10)\n",
    "        neg_score = -torch.sum(F.logsigmoid(-neg_score),dim=1)\n",
    "\n",
    "        return torch.mean(pos_score+neg_score)\n",
    "    \n",
    "    def embeddingSave(self,ind2word,output_file):\n",
    "        embedding = self.targetEmbedding.weight.data.cpu().numpy()\n",
    "        with open(output_file,'w') as f:\n",
    "            f.write('{} {}\\n'.format(len(ind2word),self.embedding_size))\n",
    "            for word_id,word in ind2word.items():\n",
    "                tmp = ' '.join(map(lambda x: str(x),embedding[word_id]))\n",
    "                f.write('{} {}\\n'.format(word,tmp))\n",
    "\n",
    "\n"
   ]
  },
  {
   "cell_type": "code",
   "execution_count": 39,
   "metadata": {},
   "outputs": [],
   "source": [
    "EMBEDDING_DIM = 350\n",
    "BATCH_SIZE = 128\n",
    "WINDOW_SIZE = 9\n",
    "EPOCHS = 10\n",
    "LEARNING_RATE = 0.001\n",
    "NEGATIVE_SAMPLES = 5\n",
    "MIN_FREQ = 5"
   ]
  },
  {
   "cell_type": "code",
   "execution_count": 40,
   "metadata": {},
   "outputs": [],
   "source": [
    "class CBOW:\n",
    "    def __init__(self,training_data,output_file):\n",
    "        self.data = Data(training_data,min_freq=MIN_FREQ,to_be_discard_size=NEGATIVE_SAMPLES)\n",
    "        compData = Word2vecDataLoader(self.data,WINDOW_SIZE)\n",
    "        self.dataloader = DataLoader(compData,batch_size=BATCH_SIZE,shuffle=True,collate_fn=compData.collate_fn)\n",
    "        self.embedding_size = len(self.data.word2index)\n",
    "        self.embedding_dim = EMBEDDING_DIM\n",
    "        self.model = skipGramModule(self.embedding_size, self.embedding_dim)\n",
    "        self.use_cuda = torch.cuda.is_available()\n",
    "        self.output_file = output_file\n",
    "        self.device = torch.device(\"cuda\" if self.use_cuda else \"cpu\")\n",
    "        if self.use_cuda:\n",
    "            self.model.cuda()\n",
    "\n",
    "    def train(self):\n",
    "        optimizer = optim.SparseAdam(self.model.parameters(),lr=LEARNING_RATE)\n",
    "        scheduler = optim.lr_scheduler.CosineAnnealingLR(optimizer,len(self.dataloader),eta_min=0.0001)\n",
    "        for epoch in range(EPOCHS):\n",
    "            total_loss = 0.0\n",
    "            for i,(context,target,negatives) in enumerate(tqdm(self.dataloader)):\n",
    "                if len(context) == 0:\n",
    "                    continue\n",
    "                cont = context.to(self.device)\n",
    "                targ = target.to(self.device)\n",
    "                neg = negatives.to(self.device)\n",
    "                optimizer.step()\n",
    "                optimizer.zero_grad()\n",
    "                loss = self.model.forward(cont,targ,neg)\n",
    "                loss.backward()\n",
    "                scheduler.step()\n",
    "\n",
    "                total_loss = total_loss*0.9 + loss.item()*0.1\n",
    "                if i > 0 and i % 100 == 0:\n",
    "                    print('Epoch: {} | Batch: {} | Loss: {}'.format(epoch,i,total_loss))\n",
    "            print('Epoch: {} | Loss: {}'.format(epoch,total_loss))\n",
    "        self.model.embeddingSave(self.data.index2word,self.output_file)\n",
    "\n",
    "                "
   ]
  },
  {
   "cell_type": "code",
   "execution_count": 41,
   "metadata": {},
   "outputs": [],
   "source": [
    "import pickle as pkl\n",
    "training_data = []\n",
    "\n",
    "with open('../../Data/smallData.pkl', 'rb') as fp:\n",
    "    training_data = pkl.load(fp)\n"
   ]
  },
  {
   "cell_type": "code",
   "execution_count": 42,
   "metadata": {},
   "outputs": [
    {
     "name": "stdout",
     "output_type": "stream",
     "text": [
      "Processed 1000000 M tokens\n",
      "Processed 2000000 M tokens\n",
      "Processed 3000000 M tokens\n",
      "Processed 4000000 M tokens\n",
      "Processed 5000000 M tokens\n",
      "Processed 6000000 M tokens\n",
      "Processed 7000000 M tokens\n",
      "Processed 8000000 M tokens\n",
      "Processed 9000000 M tokens\n",
      "Processed 10000000 M tokens\n",
      "Processed 11000000 M tokens\n",
      "Processed 12000000 M tokens\n",
      "Vocab size is 27687\n",
      "Total number of words 12596513\n",
      "Total number of sentences 99912\n",
      "Negative samples generated\n",
      "Subsample table generated\n"
     ]
    }
   ],
   "source": [
    "data = Data(training_data, min_freq=5, to_be_discard_size=5)\n",
    "\n",
    "# size of word2index\n"
   ]
  },
  {
   "cell_type": "code",
   "execution_count": 43,
   "metadata": {},
   "outputs": [
    {
     "name": "stdout",
     "output_type": "stream",
     "text": [
      "27196\n"
     ]
    }
   ],
   "source": [
    "print(data.word2index[\"cavani\"])"
   ]
  },
  {
   "cell_type": "code",
   "execution_count": 44,
   "metadata": {},
   "outputs": [
    {
     "name": "stdout",
     "output_type": "stream",
     "text": [
      "Processed 1000000 M tokens\n",
      "Processed 2000000 M tokens\n",
      "Processed 3000000 M tokens\n",
      "Processed 4000000 M tokens\n",
      "Processed 5000000 M tokens\n",
      "Processed 6000000 M tokens\n",
      "Processed 7000000 M tokens\n",
      "Processed 8000000 M tokens\n",
      "Processed 9000000 M tokens\n",
      "Processed 10000000 M tokens\n",
      "Processed 11000000 M tokens\n",
      "Processed 12000000 M tokens\n",
      "Vocab size is 27687\n",
      "Total number of words 12596513\n",
      "Total number of sentences 99912\n",
      "Negative samples generated\n",
      "Subsample table generated\n"
     ]
    },
    {
     "name": "stderr",
     "output_type": "stream",
     "text": [
      " 13%|█▎        | 101/781 [00:41<04:08,  2.74it/s]"
     ]
    },
    {
     "name": "stdout",
     "output_type": "stream",
     "text": [
      "Epoch: 0 | Batch: 100 | Loss: 2.6577153497439974\n"
     ]
    },
    {
     "name": "stderr",
     "output_type": "stream",
     "text": [
      " 26%|██▌       | 201/781 [01:19<03:31,  2.74it/s]"
     ]
    },
    {
     "name": "stdout",
     "output_type": "stream",
     "text": [
      "Epoch: 0 | Batch: 200 | Loss: 2.517905265458138\n"
     ]
    },
    {
     "name": "stderr",
     "output_type": "stream",
     "text": [
      " 39%|███▊      | 301/781 [01:56<03:22,  2.37it/s]"
     ]
    },
    {
     "name": "stdout",
     "output_type": "stream",
     "text": [
      "Epoch: 0 | Batch: 300 | Loss: 2.5087405214015797\n"
     ]
    },
    {
     "name": "stderr",
     "output_type": "stream",
     "text": [
      " 51%|█████▏    | 401/781 [02:37<02:54,  2.18it/s]"
     ]
    },
    {
     "name": "stdout",
     "output_type": "stream",
     "text": [
      "Epoch: 0 | Batch: 400 | Loss: 2.4987315471427656\n"
     ]
    },
    {
     "name": "stderr",
     "output_type": "stream",
     "text": [
      " 64%|██████▍   | 501/781 [03:20<02:15,  2.07it/s]"
     ]
    },
    {
     "name": "stdout",
     "output_type": "stream",
     "text": [
      "Epoch: 0 | Batch: 500 | Loss: 2.4899131465229094\n"
     ]
    },
    {
     "name": "stderr",
     "output_type": "stream",
     "text": [
      " 77%|███████▋  | 601/781 [04:03<01:07,  2.68it/s]"
     ]
    },
    {
     "name": "stdout",
     "output_type": "stream",
     "text": [
      "Epoch: 0 | Batch: 600 | Loss: 2.4845638060608826\n"
     ]
    },
    {
     "name": "stderr",
     "output_type": "stream",
     "text": [
      " 90%|████████▉ | 701/781 [04:46<00:30,  2.62it/s]"
     ]
    },
    {
     "name": "stdout",
     "output_type": "stream",
     "text": [
      "Epoch: 0 | Batch: 700 | Loss: 2.478425919594225\n"
     ]
    },
    {
     "name": "stderr",
     "output_type": "stream",
     "text": [
      "100%|██████████| 781/781 [05:19<00:00,  2.44it/s]\n"
     ]
    },
    {
     "name": "stdout",
     "output_type": "stream",
     "text": [
      "Epoch: 0 | Loss: 2.4834255916509353\n"
     ]
    },
    {
     "name": "stderr",
     "output_type": "stream",
     "text": [
      " 13%|█▎        | 101/781 [00:43<05:04,  2.23it/s]"
     ]
    },
    {
     "name": "stdout",
     "output_type": "stream",
     "text": [
      "Epoch: 1 | Batch: 100 | Loss: 2.479977556832396\n"
     ]
    },
    {
     "name": "stderr",
     "output_type": "stream",
     "text": [
      " 26%|██▌       | 201/781 [01:26<03:48,  2.53it/s]"
     ]
    },
    {
     "name": "stdout",
     "output_type": "stream",
     "text": [
      "Epoch: 1 | Batch: 200 | Loss: 2.4739577251464664\n"
     ]
    },
    {
     "name": "stderr",
     "output_type": "stream",
     "text": [
      " 39%|███▊      | 301/781 [02:12<03:41,  2.16it/s]"
     ]
    },
    {
     "name": "stdout",
     "output_type": "stream",
     "text": [
      "Epoch: 1 | Batch: 300 | Loss: 2.455118105350693\n"
     ]
    },
    {
     "name": "stderr",
     "output_type": "stream",
     "text": [
      " 51%|█████▏    | 401/781 [02:58<02:44,  2.32it/s]"
     ]
    },
    {
     "name": "stdout",
     "output_type": "stream",
     "text": [
      "Epoch: 1 | Batch: 400 | Loss: 2.4390794587092692\n"
     ]
    },
    {
     "name": "stderr",
     "output_type": "stream",
     "text": [
      " 64%|██████▍   | 501/781 [03:42<01:51,  2.51it/s]"
     ]
    },
    {
     "name": "stdout",
     "output_type": "stream",
     "text": [
      "Epoch: 1 | Batch: 500 | Loss: 2.4086466850619823\n"
     ]
    },
    {
     "name": "stderr",
     "output_type": "stream",
     "text": [
      " 77%|███████▋  | 601/781 [04:26<01:10,  2.55it/s]"
     ]
    },
    {
     "name": "stdout",
     "output_type": "stream",
     "text": [
      "Epoch: 1 | Batch: 600 | Loss: 2.372907922133899\n"
     ]
    },
    {
     "name": "stderr",
     "output_type": "stream",
     "text": [
      " 90%|████████▉ | 701/781 [05:10<00:44,  1.79it/s]"
     ]
    },
    {
     "name": "stdout",
     "output_type": "stream",
     "text": [
      "Epoch: 1 | Batch: 700 | Loss: 2.332424470889743\n"
     ]
    },
    {
     "name": "stderr",
     "output_type": "stream",
     "text": [
      "100%|██████████| 781/781 [05:47<00:00,  2.25it/s]\n"
     ]
    },
    {
     "name": "stdout",
     "output_type": "stream",
     "text": [
      "Epoch: 1 | Loss: 2.298386001524284\n"
     ]
    },
    {
     "name": "stderr",
     "output_type": "stream",
     "text": [
      " 13%|█▎        | 101/781 [00:43<05:11,  2.18it/s]"
     ]
    },
    {
     "name": "stdout",
     "output_type": "stream",
     "text": [
      "Epoch: 2 | Batch: 100 | Loss: 2.2464837144845107\n"
     ]
    },
    {
     "name": "stderr",
     "output_type": "stream",
     "text": [
      " 26%|██▌       | 201/781 [01:28<04:11,  2.31it/s]"
     ]
    },
    {
     "name": "stdout",
     "output_type": "stream",
     "text": [
      "Epoch: 2 | Batch: 200 | Loss: 2.189824842775755\n"
     ]
    },
    {
     "name": "stderr",
     "output_type": "stream",
     "text": [
      " 39%|███▊      | 301/781 [02:13<03:22,  2.37it/s]"
     ]
    },
    {
     "name": "stdout",
     "output_type": "stream",
     "text": [
      "Epoch: 2 | Batch: 300 | Loss: 2.149915944420943\n"
     ]
    },
    {
     "name": "stderr",
     "output_type": "stream",
     "text": [
      " 51%|█████▏    | 401/781 [02:58<02:35,  2.44it/s]"
     ]
    },
    {
     "name": "stdout",
     "output_type": "stream",
     "text": [
      "Epoch: 2 | Batch: 400 | Loss: 2.12470366330592\n"
     ]
    },
    {
     "name": "stderr",
     "output_type": "stream",
     "text": [
      " 64%|██████▍   | 501/781 [03:41<02:06,  2.22it/s]"
     ]
    },
    {
     "name": "stdout",
     "output_type": "stream",
     "text": [
      "Epoch: 2 | Batch: 500 | Loss: 2.1026630104566704\n"
     ]
    },
    {
     "name": "stderr",
     "output_type": "stream",
     "text": [
      " 77%|███████▋  | 601/781 [04:26<01:15,  2.40it/s]"
     ]
    },
    {
     "name": "stdout",
     "output_type": "stream",
     "text": [
      "Epoch: 2 | Batch: 600 | Loss: 2.098591737978407\n"
     ]
    },
    {
     "name": "stderr",
     "output_type": "stream",
     "text": [
      " 90%|████████▉ | 701/781 [05:11<00:34,  2.34it/s]"
     ]
    },
    {
     "name": "stdout",
     "output_type": "stream",
     "text": [
      "Epoch: 2 | Batch: 700 | Loss: 2.0861775327234495\n"
     ]
    },
    {
     "name": "stderr",
     "output_type": "stream",
     "text": [
      "100%|██████████| 781/781 [05:48<00:00,  2.24it/s]\n"
     ]
    },
    {
     "name": "stdout",
     "output_type": "stream",
     "text": [
      "Epoch: 2 | Loss: 2.0866676526178174\n"
     ]
    },
    {
     "name": "stderr",
     "output_type": "stream",
     "text": [
      " 13%|█▎        | 101/781 [00:46<05:28,  2.07it/s]"
     ]
    },
    {
     "name": "stdout",
     "output_type": "stream",
     "text": [
      "Epoch: 3 | Batch: 100 | Loss: 2.072796616172608\n"
     ]
    },
    {
     "name": "stderr",
     "output_type": "stream",
     "text": [
      " 26%|██▌       | 201/781 [01:30<04:54,  1.97it/s]"
     ]
    },
    {
     "name": "stdout",
     "output_type": "stream",
     "text": [
      "Epoch: 3 | Batch: 200 | Loss: 2.0743730262002633\n"
     ]
    },
    {
     "name": "stderr",
     "output_type": "stream",
     "text": [
      " 39%|███▊      | 301/781 [02:15<04:02,  1.98it/s]"
     ]
    },
    {
     "name": "stdout",
     "output_type": "stream",
     "text": [
      "Epoch: 3 | Batch: 300 | Loss: 2.065278152982188\n"
     ]
    },
    {
     "name": "stderr",
     "output_type": "stream",
     "text": [
      " 51%|█████▏    | 401/781 [03:04<03:45,  1.69it/s]"
     ]
    },
    {
     "name": "stdout",
     "output_type": "stream",
     "text": [
      "Epoch: 3 | Batch: 400 | Loss: 2.0523639940960763\n"
     ]
    },
    {
     "name": "stderr",
     "output_type": "stream",
     "text": [
      " 64%|██████▍   | 501/781 [03:57<02:41,  1.73it/s]"
     ]
    },
    {
     "name": "stdout",
     "output_type": "stream",
     "text": [
      "Epoch: 3 | Batch: 500 | Loss: 2.027009828404436\n"
     ]
    },
    {
     "name": "stderr",
     "output_type": "stream",
     "text": [
      " 77%|███████▋  | 601/781 [04:55<01:52,  1.60it/s]"
     ]
    },
    {
     "name": "stdout",
     "output_type": "stream",
     "text": [
      "Epoch: 3 | Batch: 600 | Loss: 2.016677340291497\n"
     ]
    },
    {
     "name": "stderr",
     "output_type": "stream",
     "text": [
      " 90%|████████▉ | 701/781 [05:51<00:41,  1.92it/s]"
     ]
    },
    {
     "name": "stdout",
     "output_type": "stream",
     "text": [
      "Epoch: 3 | Batch: 700 | Loss: 1.9778901441514045\n"
     ]
    },
    {
     "name": "stderr",
     "output_type": "stream",
     "text": [
      "100%|██████████| 781/781 [06:37<00:00,  1.97it/s]\n"
     ]
    },
    {
     "name": "stdout",
     "output_type": "stream",
     "text": [
      "Epoch: 3 | Loss: 1.975253024231742\n"
     ]
    },
    {
     "name": "stderr",
     "output_type": "stream",
     "text": [
      " 13%|█▎        | 101/781 [00:54<05:56,  1.91it/s]"
     ]
    },
    {
     "name": "stdout",
     "output_type": "stream",
     "text": [
      "Epoch: 4 | Batch: 100 | Loss: 1.9508570886090197\n"
     ]
    },
    {
     "name": "stderr",
     "output_type": "stream",
     "text": [
      " 26%|██▌       | 201/781 [01:49<05:42,  1.69it/s]"
     ]
    },
    {
     "name": "stdout",
     "output_type": "stream",
     "text": [
      "Epoch: 4 | Batch: 200 | Loss: 1.9305047122891565\n"
     ]
    },
    {
     "name": "stderr",
     "output_type": "stream",
     "text": [
      " 39%|███▊      | 301/781 [02:46<04:37,  1.73it/s]"
     ]
    },
    {
     "name": "stdout",
     "output_type": "stream",
     "text": [
      "Epoch: 4 | Batch: 300 | Loss: 1.9191816355976403\n"
     ]
    },
    {
     "name": "stderr",
     "output_type": "stream",
     "text": [
      " 51%|█████▏    | 401/781 [03:41<03:16,  1.93it/s]"
     ]
    },
    {
     "name": "stdout",
     "output_type": "stream",
     "text": [
      "Epoch: 4 | Batch: 400 | Loss: 1.8964703803681913\n"
     ]
    },
    {
     "name": "stderr",
     "output_type": "stream",
     "text": [
      " 64%|██████▍   | 501/781 [04:41<02:47,  1.67it/s]"
     ]
    },
    {
     "name": "stdout",
     "output_type": "stream",
     "text": [
      "Epoch: 4 | Batch: 500 | Loss: 1.9135168073674593\n"
     ]
    },
    {
     "name": "stderr",
     "output_type": "stream",
     "text": [
      " 77%|███████▋  | 601/781 [05:40<02:01,  1.48it/s]"
     ]
    },
    {
     "name": "stdout",
     "output_type": "stream",
     "text": [
      "Epoch: 4 | Batch: 600 | Loss: 1.88992087541352\n"
     ]
    },
    {
     "name": "stderr",
     "output_type": "stream",
     "text": [
      " 90%|████████▉ | 701/781 [06:41<00:42,  1.88it/s]"
     ]
    },
    {
     "name": "stdout",
     "output_type": "stream",
     "text": [
      "Epoch: 4 | Batch: 700 | Loss: 1.8965608115292443\n"
     ]
    },
    {
     "name": "stderr",
     "output_type": "stream",
     "text": [
      "100%|██████████| 781/781 [07:28<00:00,  1.74it/s]\n"
     ]
    },
    {
     "name": "stdout",
     "output_type": "stream",
     "text": [
      "Epoch: 4 | Loss: 1.8883547159658716\n"
     ]
    },
    {
     "name": "stderr",
     "output_type": "stream",
     "text": [
      " 13%|█▎        | 101/781 [01:01<07:17,  1.56it/s]"
     ]
    },
    {
     "name": "stdout",
     "output_type": "stream",
     "text": [
      "Epoch: 5 | Batch: 100 | Loss: 1.876372133789308\n"
     ]
    },
    {
     "name": "stderr",
     "output_type": "stream",
     "text": [
      " 26%|██▌       | 201/781 [02:03<05:42,  1.69it/s]"
     ]
    },
    {
     "name": "stdout",
     "output_type": "stream",
     "text": [
      "Epoch: 5 | Batch: 200 | Loss: 1.882238356894894\n"
     ]
    },
    {
     "name": "stderr",
     "output_type": "stream",
     "text": [
      " 39%|███▊      | 301/781 [03:03<04:48,  1.67it/s]"
     ]
    },
    {
     "name": "stdout",
     "output_type": "stream",
     "text": [
      "Epoch: 5 | Batch: 300 | Loss: 1.8831520967274016\n"
     ]
    },
    {
     "name": "stderr",
     "output_type": "stream",
     "text": [
      " 51%|█████▏    | 401/781 [04:04<04:24,  1.44it/s]"
     ]
    },
    {
     "name": "stdout",
     "output_type": "stream",
     "text": [
      "Epoch: 5 | Batch: 400 | Loss: 1.8742499503968593\n"
     ]
    },
    {
     "name": "stderr",
     "output_type": "stream",
     "text": [
      " 64%|██████▍   | 501/781 [05:06<03:21,  1.39it/s]"
     ]
    },
    {
     "name": "stdout",
     "output_type": "stream",
     "text": [
      "Epoch: 5 | Batch: 500 | Loss: 1.870369364190031\n"
     ]
    },
    {
     "name": "stderr",
     "output_type": "stream",
     "text": [
      " 77%|███████▋  | 601/781 [06:07<01:38,  1.84it/s]"
     ]
    },
    {
     "name": "stdout",
     "output_type": "stream",
     "text": [
      "Epoch: 5 | Batch: 600 | Loss: 1.8520434147286544\n"
     ]
    },
    {
     "name": "stderr",
     "output_type": "stream",
     "text": [
      " 90%|████████▉ | 701/781 [07:06<00:44,  1.79it/s]"
     ]
    },
    {
     "name": "stdout",
     "output_type": "stream",
     "text": [
      "Epoch: 5 | Batch: 700 | Loss: 1.8542796737582226\n"
     ]
    },
    {
     "name": "stderr",
     "output_type": "stream",
     "text": [
      "100%|██████████| 781/781 [07:54<00:00,  1.64it/s]\n"
     ]
    },
    {
     "name": "stdout",
     "output_type": "stream",
     "text": [
      "Epoch: 5 | Loss: 1.8452349687234608\n"
     ]
    },
    {
     "name": "stderr",
     "output_type": "stream",
     "text": [
      " 13%|█▎        | 101/781 [00:58<07:44,  1.46it/s]"
     ]
    },
    {
     "name": "stdout",
     "output_type": "stream",
     "text": [
      "Epoch: 6 | Batch: 100 | Loss: 1.8283643868883617\n"
     ]
    },
    {
     "name": "stderr",
     "output_type": "stream",
     "text": [
      " 26%|██▌       | 201/781 [02:01<05:29,  1.76it/s]"
     ]
    },
    {
     "name": "stdout",
     "output_type": "stream",
     "text": [
      "Epoch: 6 | Batch: 200 | Loss: 1.8201968634206318\n"
     ]
    },
    {
     "name": "stderr",
     "output_type": "stream",
     "text": [
      " 39%|███▊      | 301/781 [03:04<05:20,  1.50it/s]"
     ]
    },
    {
     "name": "stdout",
     "output_type": "stream",
     "text": [
      "Epoch: 6 | Batch: 300 | Loss: 1.80785054325484\n"
     ]
    },
    {
     "name": "stderr",
     "output_type": "stream",
     "text": [
      " 51%|█████▏    | 401/781 [04:05<04:00,  1.58it/s]"
     ]
    },
    {
     "name": "stdout",
     "output_type": "stream",
     "text": [
      "Epoch: 6 | Batch: 400 | Loss: 1.8059138815078661\n"
     ]
    },
    {
     "name": "stderr",
     "output_type": "stream",
     "text": [
      " 64%|██████▍   | 501/781 [05:07<03:08,  1.48it/s]"
     ]
    },
    {
     "name": "stdout",
     "output_type": "stream",
     "text": [
      "Epoch: 6 | Batch: 500 | Loss: 1.7998382294747757\n"
     ]
    },
    {
     "name": "stderr",
     "output_type": "stream",
     "text": [
      " 77%|███████▋  | 601/781 [06:10<02:07,  1.41it/s]"
     ]
    },
    {
     "name": "stdout",
     "output_type": "stream",
     "text": [
      "Epoch: 6 | Batch: 600 | Loss: 1.7936337324671747\n"
     ]
    },
    {
     "name": "stderr",
     "output_type": "stream",
     "text": [
      " 90%|████████▉ | 701/781 [07:12<00:49,  1.63it/s]"
     ]
    },
    {
     "name": "stdout",
     "output_type": "stream",
     "text": [
      "Epoch: 6 | Batch: 700 | Loss: 1.7914700814833888\n"
     ]
    },
    {
     "name": "stderr",
     "output_type": "stream",
     "text": [
      "100%|██████████| 781/781 [08:02<00:00,  1.62it/s]\n"
     ]
    },
    {
     "name": "stdout",
     "output_type": "stream",
     "text": [
      "Epoch: 6 | Loss: 1.792589846140953\n"
     ]
    },
    {
     "name": "stderr",
     "output_type": "stream",
     "text": [
      " 13%|█▎        | 101/781 [01:02<06:26,  1.76it/s]"
     ]
    },
    {
     "name": "stdout",
     "output_type": "stream",
     "text": [
      "Epoch: 7 | Batch: 100 | Loss: 1.7803494073941846\n"
     ]
    },
    {
     "name": "stderr",
     "output_type": "stream",
     "text": [
      " 26%|██▌       | 201/781 [02:02<05:53,  1.64it/s]"
     ]
    },
    {
     "name": "stdout",
     "output_type": "stream",
     "text": [
      "Epoch: 7 | Batch: 200 | Loss: 1.7822291059345954\n"
     ]
    },
    {
     "name": "stderr",
     "output_type": "stream",
     "text": [
      " 39%|███▊      | 301/781 [03:04<04:44,  1.69it/s]"
     ]
    },
    {
     "name": "stdout",
     "output_type": "stream",
     "text": [
      "Epoch: 7 | Batch: 300 | Loss: 1.7841126536828393\n"
     ]
    },
    {
     "name": "stderr",
     "output_type": "stream",
     "text": [
      " 51%|█████▏    | 401/781 [04:08<04:10,  1.51it/s]"
     ]
    },
    {
     "name": "stdout",
     "output_type": "stream",
     "text": [
      "Epoch: 7 | Batch: 400 | Loss: 1.7792789486287637\n"
     ]
    },
    {
     "name": "stderr",
     "output_type": "stream",
     "text": [
      " 64%|██████▍   | 501/781 [05:07<03:22,  1.38it/s]"
     ]
    },
    {
     "name": "stdout",
     "output_type": "stream",
     "text": [
      "Epoch: 7 | Batch: 500 | Loss: 1.7797901489862247\n"
     ]
    },
    {
     "name": "stderr",
     "output_type": "stream",
     "text": [
      " 77%|███████▋  | 601/781 [06:07<01:44,  1.73it/s]"
     ]
    },
    {
     "name": "stdout",
     "output_type": "stream",
     "text": [
      "Epoch: 7 | Batch: 600 | Loss: 1.7648973370788823\n"
     ]
    },
    {
     "name": "stderr",
     "output_type": "stream",
     "text": [
      " 90%|████████▉ | 701/781 [07:07<00:43,  1.84it/s]"
     ]
    },
    {
     "name": "stdout",
     "output_type": "stream",
     "text": [
      "Epoch: 7 | Batch: 700 | Loss: 1.7681215371982844\n"
     ]
    },
    {
     "name": "stderr",
     "output_type": "stream",
     "text": [
      "100%|██████████| 781/781 [07:54<00:00,  1.65it/s]\n"
     ]
    },
    {
     "name": "stdout",
     "output_type": "stream",
     "text": [
      "Epoch: 7 | Loss: 1.7550887399960013\n"
     ]
    },
    {
     "name": "stderr",
     "output_type": "stream",
     "text": [
      " 13%|█▎        | 101/781 [01:02<06:57,  1.63it/s]"
     ]
    },
    {
     "name": "stdout",
     "output_type": "stream",
     "text": [
      "Epoch: 8 | Batch: 100 | Loss: 1.752642884914664\n"
     ]
    },
    {
     "name": "stderr",
     "output_type": "stream",
     "text": [
      " 26%|██▌       | 201/781 [02:02<05:45,  1.68it/s]"
     ]
    },
    {
     "name": "stdout",
     "output_type": "stream",
     "text": [
      "Epoch: 8 | Batch: 200 | Loss: 1.7453495823072336\n"
     ]
    },
    {
     "name": "stderr",
     "output_type": "stream",
     "text": [
      " 39%|███▊      | 301/781 [03:03<05:33,  1.44it/s]"
     ]
    },
    {
     "name": "stdout",
     "output_type": "stream",
     "text": [
      "Epoch: 8 | Batch: 300 | Loss: 1.742332700989447\n"
     ]
    },
    {
     "name": "stderr",
     "output_type": "stream",
     "text": [
      " 51%|█████▏    | 401/781 [04:05<03:53,  1.63it/s]"
     ]
    },
    {
     "name": "stdout",
     "output_type": "stream",
     "text": [
      "Epoch: 8 | Batch: 400 | Loss: 1.7380081734897412\n"
     ]
    },
    {
     "name": "stderr",
     "output_type": "stream",
     "text": [
      " 64%|██████▍   | 501/781 [05:09<02:44,  1.71it/s]"
     ]
    },
    {
     "name": "stdout",
     "output_type": "stream",
     "text": [
      "Epoch: 8 | Batch: 500 | Loss: 1.730743042675602\n"
     ]
    },
    {
     "name": "stderr",
     "output_type": "stream",
     "text": [
      " 77%|███████▋  | 601/781 [06:13<01:53,  1.59it/s]"
     ]
    },
    {
     "name": "stdout",
     "output_type": "stream",
     "text": [
      "Epoch: 8 | Batch: 600 | Loss: 1.7330210894259845\n"
     ]
    },
    {
     "name": "stderr",
     "output_type": "stream",
     "text": [
      " 90%|████████▉ | 701/781 [07:17<00:49,  1.61it/s]"
     ]
    },
    {
     "name": "stdout",
     "output_type": "stream",
     "text": [
      "Epoch: 8 | Batch: 700 | Loss: 1.723226530833851\n"
     ]
    },
    {
     "name": "stderr",
     "output_type": "stream",
     "text": [
      "100%|██████████| 781/781 [08:06<00:00,  1.60it/s]\n"
     ]
    },
    {
     "name": "stdout",
     "output_type": "stream",
     "text": [
      "Epoch: 8 | Loss: 1.728093405214064\n"
     ]
    },
    {
     "name": "stderr",
     "output_type": "stream",
     "text": [
      " 13%|█▎        | 101/781 [01:02<06:39,  1.70it/s]"
     ]
    },
    {
     "name": "stdout",
     "output_type": "stream",
     "text": [
      "Epoch: 9 | Batch: 100 | Loss: 1.7167477666955266\n"
     ]
    },
    {
     "name": "stderr",
     "output_type": "stream",
     "text": [
      " 26%|██▌       | 201/781 [02:04<05:35,  1.73it/s]"
     ]
    },
    {
     "name": "stdout",
     "output_type": "stream",
     "text": [
      "Epoch: 9 | Batch: 200 | Loss: 1.7196290293211998\n"
     ]
    },
    {
     "name": "stderr",
     "output_type": "stream",
     "text": [
      " 39%|███▊      | 301/781 [03:07<05:07,  1.56it/s]"
     ]
    },
    {
     "name": "stdout",
     "output_type": "stream",
     "text": [
      "Epoch: 9 | Batch: 300 | Loss: 1.7216666129826155\n"
     ]
    },
    {
     "name": "stderr",
     "output_type": "stream",
     "text": [
      " 51%|█████▏    | 401/781 [04:09<03:36,  1.75it/s]"
     ]
    },
    {
     "name": "stdout",
     "output_type": "stream",
     "text": [
      "Epoch: 9 | Batch: 400 | Loss: 1.716419277597416\n"
     ]
    },
    {
     "name": "stderr",
     "output_type": "stream",
     "text": [
      " 64%|██████▍   | 501/781 [05:12<03:02,  1.53it/s]"
     ]
    },
    {
     "name": "stdout",
     "output_type": "stream",
     "text": [
      "Epoch: 9 | Batch: 500 | Loss: 1.716575164840054\n"
     ]
    },
    {
     "name": "stderr",
     "output_type": "stream",
     "text": [
      " 77%|███████▋  | 601/781 [06:09<01:38,  1.83it/s]"
     ]
    },
    {
     "name": "stdout",
     "output_type": "stream",
     "text": [
      "Epoch: 9 | Batch: 600 | Loss: 1.7149510196111966\n"
     ]
    },
    {
     "name": "stderr",
     "output_type": "stream",
     "text": [
      " 90%|████████▉ | 701/781 [07:02<00:44,  1.81it/s]"
     ]
    },
    {
     "name": "stdout",
     "output_type": "stream",
     "text": [
      "Epoch: 9 | Batch: 700 | Loss: 1.7161397725285263\n"
     ]
    },
    {
     "name": "stderr",
     "output_type": "stream",
     "text": [
      "100%|██████████| 781/781 [07:43<00:00,  1.69it/s]\n"
     ]
    },
    {
     "name": "stdout",
     "output_type": "stream",
     "text": [
      "Epoch: 9 | Loss: 1.7053488639564212\n"
     ]
    }
   ],
   "source": [
    "output_file = 'wordEmb2.txt'\n",
    "\n",
    "cbow = CBOW(training_data,output_file)\n",
    "cbow.train()"
   ]
  },
  {
   "cell_type": "code",
   "execution_count": 8,
   "metadata": {},
   "outputs": [
    {
     "name": "stdout",
     "output_type": "stream",
     "text": [
      "Collecting gensim\n",
      "  Downloading gensim-4.3.1-cp310-cp310-manylinux_2_17_x86_64.manylinux2014_x86_64.whl (26.4 MB)\n",
      "\u001b[2K     \u001b[90m━━━━━━━━━━━━━━━━━━━━━━━━━━━━━━━━━━━━━━━━\u001b[0m \u001b[32m26.4/26.4 MB\u001b[0m \u001b[31m4.3 MB/s\u001b[0m eta \u001b[36m0:00:00\u001b[0m00:01\u001b[0m00:01\u001b[0m\n",
      "\u001b[?25hRequirement already satisfied: numpy>=1.18.5 in /home/abhishek/miniconda3/lib/python3.10/site-packages (from gensim) (1.24.1)\n",
      "Requirement already satisfied: scipy>=1.7.0 in /home/abhishek/miniconda3/lib/python3.10/site-packages (from gensim) (1.10.1)\n",
      "Requirement already satisfied: smart-open>=1.8.1 in /home/abhishek/miniconda3/lib/python3.10/site-packages (from gensim) (6.3.0)\n",
      "Installing collected packages: gensim\n",
      "Successfully installed gensim-4.3.1\n"
     ]
    }
   ],
   "source": [
    "!pip3 install gensim"
   ]
  },
  {
   "cell_type": "code",
   "execution_count": 47,
   "metadata": {},
   "outputs": [],
   "source": [
    "import gensim\n",
    "from tqdm import tqdm\n",
    "from sklearn.manifold import TSNE\n",
    "import matplotlib.pyplot as plt\n",
    "import argparse\n",
    "\n",
    "def plot_top10_words(word, cbow_own):\n",
    "\n",
    "    def tsne_plot(results):\n",
    "        words = [x[0] for x in results]\n",
    "        embeds = [x[1] for x in results]\n",
    "        words = np.array(words)\n",
    "        embeds = np.array(embeds)\n",
    "        tsne_model = TSNE(init='pca',perplexity = 9,random_state=42)\n",
    "        res_embeds = tsne_model.fit_transform(embeds)\n",
    "        x_axis = res_embeds[:,0]\n",
    "        y_axis = res_embeds[:,1]\n",
    "            \n",
    "        plt.figure(figsize=(10, 10)) \n",
    "        for i in range(len(x_axis)):\n",
    "            plt.scatter(x_axis[i], y_axis[i])\n",
    "            plt.annotate(words[i], xy=(x_axis[i], y_axis[i]), xytext=(\n",
    "                5, 2), textcoords='offset points', ha='right', va='bottom')\n",
    "        plt.savefig('./Results/'+word+'.png')\n",
    "    \n",
    "    similar_words = cbow_own.most_similar(positive=[word], topn = 10)\n",
    "    res = {}\n",
    "    for i, embed in tqdm(enumerate(similar_words)):\n",
    "        res[embed[0]] = [embed[1], cbow_own[embed[0]]]\n",
    "\n",
    "    results = []\n",
    "    for t in sorted(res.items(), key=lambda item: item[1][0], reverse=True)[0:10]:\n",
    "        results.append([t[0], t[1][1]])\n",
    "\n",
    "    print('Word: ', word)\n",
    "    # print(results)\n",
    "    print('Top 10 similar words: ', [x[0] for x in results])\n",
    "    tsne_plot(results)\n",
    "\n",
    "\n",
    "\n",
    "cbow_own = gensim.models.KeyedVectors.load_word2vec_format('wordEmb2.txt', binary=False)\n"
   ]
  },
  {
   "cell_type": "code",
   "execution_count": 48,
   "metadata": {},
   "outputs": [
    {
     "name": "stderr",
     "output_type": "stream",
     "text": [
      "10it [00:00, 52626.15it/s]\n"
     ]
    },
    {
     "name": "stdout",
     "output_type": "stream",
     "text": [
      "Word:  ship\n",
      "Top 10 similar words:  ['mount', 'raid', 'roof', 'plane', 'tower', 'egg', '747', 'corporation', 'patrol', 'subway']\n"
     ]
    },
    {
     "name": "stderr",
     "output_type": "stream",
     "text": [
      "10it [00:00, 46192.78it/s]\n"
     ]
    },
    {
     "name": "stdout",
     "output_type": "stream",
     "text": [
      "Word:  begin\n",
      "Top 10 similar words:  ['connect', 'proceed', 'communicate', 'grips', 'react', 'sympathize', 'breathe', 'compete', 'cope', 'identify']\n"
     ]
    },
    {
     "name": "stderr",
     "output_type": "stream",
     "text": [
      "10it [00:00, 106454.42it/s]\n"
     ]
    },
    {
     "name": "stdout",
     "output_type": "stream",
     "text": [
      "Word:  well\n",
      "Top 10 similar words:  ['nicely', 'poorly', 'badly', 'tastefully', 'beautifully', 'professionally', 'perfectly', 'flawlessly', 'brilliantly', 'cheaply']\n"
     ]
    },
    {
     "name": "stderr",
     "output_type": "stream",
     "text": [
      "10it [00:00, 93832.30it/s]\n"
     ]
    },
    {
     "name": "stdout",
     "output_type": "stream",
     "text": [
      "Word:  great\n",
      "Top 10 similar words:  ['wonderful', 'fantastic', 'terrific', 'fine', 'good', 'fabulous', 'superb', 'marvelous', 'solid', 'stellar']\n"
     ]
    },
    {
     "name": "stderr",
     "output_type": "stream",
     "text": [
      "10it [00:00, 60349.70it/s]\n"
     ]
    },
    {
     "name": "stdout",
     "output_type": "stream",
     "text": [
      "Word:  my\n",
      "Top 10 similar words:  ['mine', 'your', 'everyones', 'our', 'goose', 'schindlers', 'her', 'his', 'anyones', 'their']\n"
     ]
    },
    {
     "data": {
      "image/png": "[encoded data removed]",
      "text/plain": [
       "<Figure size 1000x1000 with 1 Axes>"
      ]
     },
     "metadata": {},
     "output_type": "display_data"
    },
    {
     "data": {
      "image/png": "[encoded data removed]",
      "text/plain": [
       "<Figure size 1000x1000 with 1 Axes>"
      ]
     },
     "metadata": {},
     "output_type": "display_data"
    },
    {
     "data": {
      "image/png": "[encoded data removed]",
      "text/plain": [
       "<Figure size 1000x1000 with 1 Axes>"
      ]
     },
     "metadata": {},
     "output_type": "display_data"
    },
    {
     "data": {
      "image/png": "[encoded data removed]",
      "text/plain": [
       "<Figure size 1000x1000 with 1 Axes>"
      ]
     },
     "metadata": {},
     "output_type": "display_data"
    },
    {
     "data": {
      "image/png": "[encoded data removed]",
      "text/plain": [
       "<Figure size 1000x1000 with 1 Axes>"
      ]
     },
     "metadata": {},
     "output_type": "display_data"
    }
   ],
   "source": [
    "\n",
    "words = ['ship', 'begin', 'well', 'great', 'my']\n",
    "for word in words:\n",
    "    plot_top10_words(word, cbow_own)\n"
   ]
  },
  {
   "cell_type": "code",
   "execution_count": 54,
   "metadata": {},
   "outputs": [
    {
     "name": "stderr",
     "output_type": "stream",
     "text": [
      "10it [00:00, 12206.94it/s]\n"
     ]
    },
    {
     "name": "stdout",
     "output_type": "stream",
     "text": [
      "Word:  speak\n",
      "Top 10 similar words:  ['respond', 'react', 'apply', 'distinguish', 'utilize', 'offend', 'fathom', 'gravitate', 'speculate', 'reacting']\n"
     ]
    },
    {
     "data": {
      "image/png": "[encoded data removed]",
      "text/plain": [
       "<Figure size 1000x1000 with 1 Axes>"
      ]
     },
     "metadata": {},
     "output_type": "display_data"
    }
   ],
   "source": [
    "plot_top10_words('speak', cbow_own)"
   ]
  }
 ],
 "metadata": {
  "kernelspec": {
   "display_name": "Python 3",
   "language": "python",
   "name": "python3"
  },
  "language_info": {
   "codemirror_mode": {
    "name": "ipython",
    "version": 3
   },
   "file_extension": ".py",
   "mimetype": "text/x-python",
   "name": "python",
   "nbconvert_exporter": "python",
   "pygments_lexer": "ipython3",
   "version": "3.10.9"
  },
  "orig_nbformat": 4,
  "vscode": {
   "interpreter": {
    "hash": "ad0a8d25012454fce516fd02556d13b58ba350644df31d02f07d47f8074eb7a7"
   }
  }
 },
 "nbformat": 4,
 "nbformat_minor": 2
}
